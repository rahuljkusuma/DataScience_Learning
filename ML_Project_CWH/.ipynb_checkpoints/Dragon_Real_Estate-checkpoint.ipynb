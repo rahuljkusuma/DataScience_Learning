{
 "cells": [
  {
   "cell_type": "markdown",
   "id": "6cb5382c",
   "metadata": {},
   "source": [
    "# Dragon Real Estate-Price Predictor"
   ]
  },
  {
   "cell_type": "markdown",
   "id": "23b351a5",
   "metadata": {},
   "source": [
    "## Reading Data"
   ]
  },
  {
   "cell_type": "code",
   "execution_count": 1,
   "id": "0662d086",
   "metadata": {},
   "outputs": [],
   "source": [
    "import sklearn\n",
    "import pandas as pd"
   ]
  },
  {
   "cell_type": "code",
   "execution_count": 2,
   "id": "c3f5838c",
   "metadata": {},
   "outputs": [],
   "source": [
    "housing = pd.read_csv(\"data.csv\")"
   ]
  },
  {
   "cell_type": "code",
   "execution_count": 3,
   "id": "618a20b5",
   "metadata": {},
   "outputs": [
    {
     "data": {
      "text/html": [
       "<div>\n",
       "<style scoped>\n",
       "    .dataframe tbody tr th:only-of-type {\n",
       "        vertical-align: middle;\n",
       "    }\n",
       "\n",
       "    .dataframe tbody tr th {\n",
       "        vertical-align: top;\n",
       "    }\n",
       "\n",
       "    .dataframe thead th {\n",
       "        text-align: right;\n",
       "    }\n",
       "</style>\n",
       "<table border=\"1\" class=\"dataframe\">\n",
       "  <thead>\n",
       "    <tr style=\"text-align: right;\">\n",
       "      <th></th>\n",
       "      <th>CRIM</th>\n",
       "      <th>ZN</th>\n",
       "      <th>INDUS</th>\n",
       "      <th>CHAS</th>\n",
       "      <th>NOX</th>\n",
       "      <th>RM</th>\n",
       "      <th>AGE</th>\n",
       "      <th>DIS</th>\n",
       "      <th>RAD</th>\n",
       "      <th>TAX</th>\n",
       "      <th>PTRATIO</th>\n",
       "      <th>B</th>\n",
       "      <th>LSTAT</th>\n",
       "      <th>MEDV</th>\n",
       "    </tr>\n",
       "  </thead>\n",
       "  <tbody>\n",
       "    <tr>\n",
       "      <th>0</th>\n",
       "      <td>0.00632</td>\n",
       "      <td>18.0</td>\n",
       "      <td>2.31</td>\n",
       "      <td>0</td>\n",
       "      <td>0.538</td>\n",
       "      <td>6.575</td>\n",
       "      <td>65.2</td>\n",
       "      <td>4.0900</td>\n",
       "      <td>1</td>\n",
       "      <td>296</td>\n",
       "      <td>15.3</td>\n",
       "      <td>396.90</td>\n",
       "      <td>4.98</td>\n",
       "      <td>24.0</td>\n",
       "    </tr>\n",
       "    <tr>\n",
       "      <th>1</th>\n",
       "      <td>0.02731</td>\n",
       "      <td>0.0</td>\n",
       "      <td>7.07</td>\n",
       "      <td>0</td>\n",
       "      <td>0.469</td>\n",
       "      <td>6.421</td>\n",
       "      <td>78.9</td>\n",
       "      <td>4.9671</td>\n",
       "      <td>2</td>\n",
       "      <td>242</td>\n",
       "      <td>17.8</td>\n",
       "      <td>396.90</td>\n",
       "      <td>9.14</td>\n",
       "      <td>21.6</td>\n",
       "    </tr>\n",
       "    <tr>\n",
       "      <th>2</th>\n",
       "      <td>0.02729</td>\n",
       "      <td>0.0</td>\n",
       "      <td>7.07</td>\n",
       "      <td>0</td>\n",
       "      <td>0.469</td>\n",
       "      <td>7.185</td>\n",
       "      <td>61.1</td>\n",
       "      <td>4.9671</td>\n",
       "      <td>2</td>\n",
       "      <td>242</td>\n",
       "      <td>17.8</td>\n",
       "      <td>392.83</td>\n",
       "      <td>4.03</td>\n",
       "      <td>34.7</td>\n",
       "    </tr>\n",
       "    <tr>\n",
       "      <th>3</th>\n",
       "      <td>0.03237</td>\n",
       "      <td>0.0</td>\n",
       "      <td>2.18</td>\n",
       "      <td>0</td>\n",
       "      <td>0.458</td>\n",
       "      <td>6.998</td>\n",
       "      <td>45.8</td>\n",
       "      <td>6.0622</td>\n",
       "      <td>3</td>\n",
       "      <td>222</td>\n",
       "      <td>18.7</td>\n",
       "      <td>394.63</td>\n",
       "      <td>2.94</td>\n",
       "      <td>33.4</td>\n",
       "    </tr>\n",
       "    <tr>\n",
       "      <th>4</th>\n",
       "      <td>0.06905</td>\n",
       "      <td>0.0</td>\n",
       "      <td>2.18</td>\n",
       "      <td>0</td>\n",
       "      <td>0.458</td>\n",
       "      <td>7.147</td>\n",
       "      <td>54.2</td>\n",
       "      <td>6.0622</td>\n",
       "      <td>3</td>\n",
       "      <td>222</td>\n",
       "      <td>18.7</td>\n",
       "      <td>396.90</td>\n",
       "      <td>5.33</td>\n",
       "      <td>36.2</td>\n",
       "    </tr>\n",
       "  </tbody>\n",
       "</table>\n",
       "</div>"
      ],
      "text/plain": [
       "      CRIM    ZN  INDUS  CHAS    NOX     RM   AGE     DIS  RAD  TAX  PTRATIO  \\\n",
       "0  0.00632  18.0   2.31     0  0.538  6.575  65.2  4.0900    1  296     15.3   \n",
       "1  0.02731   0.0   7.07     0  0.469  6.421  78.9  4.9671    2  242     17.8   \n",
       "2  0.02729   0.0   7.07     0  0.469  7.185  61.1  4.9671    2  242     17.8   \n",
       "3  0.03237   0.0   2.18     0  0.458  6.998  45.8  6.0622    3  222     18.7   \n",
       "4  0.06905   0.0   2.18     0  0.458  7.147  54.2  6.0622    3  222     18.7   \n",
       "\n",
       "        B  LSTAT  MEDV  \n",
       "0  396.90   4.98  24.0  \n",
       "1  396.90   9.14  21.6  \n",
       "2  392.83   4.03  34.7  \n",
       "3  394.63   2.94  33.4  \n",
       "4  396.90   5.33  36.2  "
      ]
     },
     "execution_count": 3,
     "metadata": {},
     "output_type": "execute_result"
    }
   ],
   "source": [
    "housing.head()"
   ]
  },
  {
   "cell_type": "code",
   "execution_count": 4,
   "id": "87098cd0",
   "metadata": {},
   "outputs": [
    {
     "data": {
      "text/plain": [
       "(506, 14)"
      ]
     },
     "execution_count": 4,
     "metadata": {},
     "output_type": "execute_result"
    }
   ],
   "source": [
    "housing.shape"
   ]
  },
  {
   "cell_type": "code",
   "execution_count": 5,
   "id": "d56c9ba1",
   "metadata": {},
   "outputs": [
    {
     "name": "stdout",
     "output_type": "stream",
     "text": [
      "<class 'pandas.core.frame.DataFrame'>\n",
      "RangeIndex: 506 entries, 0 to 505\n",
      "Data columns (total 14 columns):\n",
      " #   Column   Non-Null Count  Dtype  \n",
      "---  ------   --------------  -----  \n",
      " 0   CRIM     506 non-null    float64\n",
      " 1   ZN       506 non-null    float64\n",
      " 2   INDUS    506 non-null    float64\n",
      " 3   CHAS     506 non-null    int64  \n",
      " 4   NOX      506 non-null    float64\n",
      " 5   RM       500 non-null    float64\n",
      " 6   AGE      506 non-null    float64\n",
      " 7   DIS      506 non-null    float64\n",
      " 8   RAD      506 non-null    int64  \n",
      " 9   TAX      506 non-null    int64  \n",
      " 10  PTRATIO  506 non-null    float64\n",
      " 11  B        506 non-null    float64\n",
      " 12  LSTAT    506 non-null    float64\n",
      " 13  MEDV     506 non-null    float64\n",
      "dtypes: float64(11), int64(3)\n",
      "memory usage: 55.5 KB\n"
     ]
    }
   ],
   "source": [
    "housing.info()"
   ]
  },
  {
   "cell_type": "code",
   "execution_count": 6,
   "id": "33902485",
   "metadata": {},
   "outputs": [
    {
     "data": {
      "text/plain": [
       "0      0\n",
       "1      0\n",
       "2      0\n",
       "3      0\n",
       "4      0\n",
       "      ..\n",
       "501    0\n",
       "502    0\n",
       "503    0\n",
       "504    0\n",
       "505    0\n",
       "Name: CHAS, Length: 506, dtype: int64"
      ]
     },
     "execution_count": 6,
     "metadata": {},
     "output_type": "execute_result"
    }
   ],
   "source": [
    "housing.CHAS"
   ]
  },
  {
   "cell_type": "code",
   "execution_count": 7,
   "id": "03557038",
   "metadata": {},
   "outputs": [
    {
     "data": {
      "text/plain": [
       "0    471\n",
       "1     35\n",
       "Name: CHAS, dtype: int64"
      ]
     },
     "execution_count": 7,
     "metadata": {},
     "output_type": "execute_result"
    }
   ],
   "source": [
    "housing.CHAS.value_counts()"
   ]
  },
  {
   "cell_type": "code",
   "execution_count": 8,
   "id": "561b8339",
   "metadata": {},
   "outputs": [],
   "source": [
    "# housing.describe()"
   ]
  },
  {
   "cell_type": "code",
   "execution_count": null,
   "id": "96b90167",
   "metadata": {},
   "outputs": [],
   "source": []
  },
  {
   "cell_type": "code",
   "execution_count": 9,
   "id": "6870b7e8",
   "metadata": {},
   "outputs": [],
   "source": [
    "%matplotlib inline"
   ]
  },
  {
   "cell_type": "code",
   "execution_count": 10,
   "id": "42800f72",
   "metadata": {},
   "outputs": [],
   "source": [
    "# For plotting histogram\n",
    "# import matplotlib.pyplot as plt\n",
    "# housing.hist(bins=50, figsize=(25,25))\n",
    "# plt.show()"
   ]
  },
  {
   "cell_type": "code",
   "execution_count": null,
   "id": "9d47e769",
   "metadata": {},
   "outputs": [],
   "source": []
  },
  {
   "cell_type": "markdown",
   "id": "a856b8ff",
   "metadata": {},
   "source": [
    "## Train-Test Splitting"
   ]
  },
  {
   "cell_type": "code",
   "execution_count": 11,
   "id": "788c929f",
   "metadata": {},
   "outputs": [],
   "source": [
    "import numpy as np"
   ]
  },
  {
   "cell_type": "code",
   "execution_count": 12,
   "id": "492e776c",
   "metadata": {},
   "outputs": [],
   "source": [
    "# One way of splitting training and testing data\n",
    "# It is just for learning purpose\n",
    "# def split_train_test(data, test_ratio):\n",
    "#     np.random.seed(42) # Used to shuffle the data only once.\n",
    "#     shuffled = np.random.permutation(len(data))\n",
    "#     test_set_size = int(len(data)*test_ratio)\n",
    "#     test_indices = shuffled[:test_set_size]\n",
    "#     train_indices = shuffled[test_set_size:]\n",
    "#     return data.iloc[train_indices], data.iloc[test_indices]"
   ]
  },
  {
   "cell_type": "code",
   "execution_count": 13,
   "id": "8337100e",
   "metadata": {},
   "outputs": [],
   "source": [
    "# test_ratio = 20/100"
   ]
  },
  {
   "cell_type": "code",
   "execution_count": 14,
   "id": "5f416b17",
   "metadata": {},
   "outputs": [],
   "source": [
    "# train_set, test_set = split_train_test(housing, test_ratio)"
   ]
  },
  {
   "cell_type": "code",
   "execution_count": null,
   "id": "5f91e591",
   "metadata": {},
   "outputs": [],
   "source": []
  },
  {
   "cell_type": "code",
   "execution_count": 15,
   "id": "35916baf",
   "metadata": {},
   "outputs": [
    {
     "name": "stdout",
     "output_type": "stream",
     "text": [
      "Rows in train set: 404\n",
      "Rows in train set: 102\n"
     ]
    }
   ],
   "source": [
    "from sklearn.model_selection import train_test_split\n",
    "train_set, test_set = train_test_split(housing, test_size=0.2, random_state=42)\n",
    "print(f\"Rows in train set: {len(train_set)}\\nRows in train set: {len(test_set)}\")"
   ]
  },
  {
   "cell_type": "markdown",
   "id": "ee3c9f95",
   "metadata": {},
   "source": [
    "***\n",
    "***\n",
    "This split with sklearn will work just fine.\n",
    "***\n",
    "But..!\n",
    "***\n",
    "But...!\n",
    "***\n",
    "But....!\n",
    "***\n",
    "There is a problem. For example just looke at \"housing.CHAS.value_counts()\" this is giving counts of different values in CHAS. CHAS is having 471 zeros(0s) and 35 ones(1s).\n",
    "What if all the ones(1s) go inside test_set? Then our machine will not be trained for ones(1s).\n",
    "So to avoid this we have to follow below method."
   ]
  },
  {
   "cell_type": "code",
   "execution_count": 16,
   "id": "eec2383d",
   "metadata": {},
   "outputs": [],
   "source": [
    "from sklearn.model_selection import StratifiedShuffleSplit\n",
    "split = StratifiedShuffleSplit(n_splits=1, test_size=0.2, random_state=42)\n",
    "for train_index, test_index in split.split(housing, housing.CHAS):\n",
    "    strat_train_set = housing.loc[train_index]\n",
    "    strat_test_set = housing.loc[test_index]"
   ]
  },
  {
   "cell_type": "code",
   "execution_count": 17,
   "id": "8f82b80e",
   "metadata": {},
   "outputs": [
    {
     "data": {
      "text/plain": [
       "0    95\n",
       "1     7\n",
       "Name: CHAS, dtype: int64"
      ]
     },
     "execution_count": 17,
     "metadata": {},
     "output_type": "execute_result"
    }
   ],
   "source": [
    "strat_test_set.CHAS.value_counts()"
   ]
  },
  {
   "cell_type": "code",
   "execution_count": 18,
   "id": "33f7462a",
   "metadata": {},
   "outputs": [
    {
     "data": {
      "text/plain": [
       "0    376\n",
       "1     28\n",
       "Name: CHAS, dtype: int64"
      ]
     },
     "execution_count": 18,
     "metadata": {},
     "output_type": "execute_result"
    }
   ],
   "source": [
    "strat_train_set.CHAS.value_counts()"
   ]
  },
  {
   "cell_type": "code",
   "execution_count": 19,
   "id": "63d13b5b",
   "metadata": {},
   "outputs": [],
   "source": [
    "housing = strat_train_set.copy()"
   ]
  },
  {
   "cell_type": "code",
   "execution_count": 20,
   "id": "075be757",
   "metadata": {},
   "outputs": [],
   "source": [
    "# 95/7, 376/28"
   ]
  },
  {
   "cell_type": "markdown",
   "id": "b4e7cf63",
   "metadata": {},
   "source": [
    "## Looking for Correlations"
   ]
  },
  {
   "cell_type": "code",
   "execution_count": null,
   "id": "f38d1fc6",
   "metadata": {},
   "outputs": [],
   "source": []
  },
  {
   "cell_type": "code",
   "execution_count": 21,
   "id": "5b6d93a0",
   "metadata": {},
   "outputs": [
    {
     "data": {
      "text/plain": [
       "MEDV       1.000000\n",
       "RM         0.679506\n",
       "B          0.361761\n",
       "ZN         0.339741\n",
       "DIS        0.240451\n",
       "CHAS       0.205066\n",
       "AGE       -0.364596\n",
       "RAD       -0.374693\n",
       "CRIM      -0.393715\n",
       "NOX       -0.422873\n",
       "TAX       -0.456657\n",
       "INDUS     -0.473516\n",
       "PTRATIO   -0.493534\n",
       "LSTAT     -0.740494\n",
       "Name: MEDV, dtype: float64"
      ]
     },
     "execution_count": 21,
     "metadata": {},
     "output_type": "execute_result"
    }
   ],
   "source": [
    "corr_matrix = housing.corr()\n",
    "corr_matrix.MEDV.sort_values(ascending=False)"
   ]
  },
  {
   "cell_type": "code",
   "execution_count": null,
   "id": "a557bd65",
   "metadata": {},
   "outputs": [],
   "source": []
  },
  {
   "cell_type": "code",
   "execution_count": 22,
   "id": "e3fcdd07",
   "metadata": {},
   "outputs": [],
   "source": [
    "from pandas.plotting import scatter_matrix\n",
    "attributes = [\"MEDV\", \"RM\",\"ZN\", \"LSTAT\"]\n",
    "# scatter_matrix(housing[attributes], figsize=(24,16))"
   ]
  },
  {
   "cell_type": "code",
   "execution_count": 23,
   "id": "80a42c99",
   "metadata": {},
   "outputs": [],
   "source": [
    "# housing.plot(kind=\"scatter\", x=\"RM\", y=\"MEDV\", alpha=0.8)"
   ]
  },
  {
   "cell_type": "code",
   "execution_count": null,
   "id": "b839e1fa",
   "metadata": {},
   "outputs": [],
   "source": []
  },
  {
   "cell_type": "markdown",
   "id": "5387576d",
   "metadata": {},
   "source": [
    "## Trying Out Attribute Combinations"
   ]
  },
  {
   "cell_type": "code",
   "execution_count": 24,
   "id": "28612614",
   "metadata": {},
   "outputs": [],
   "source": [
    "# housing['TAXRM'] = housing.TAX/housing.RM"
   ]
  },
  {
   "cell_type": "code",
   "execution_count": 25,
   "id": "7b1fb5be",
   "metadata": {},
   "outputs": [],
   "source": [
    "# housing.head()"
   ]
  },
  {
   "cell_type": "code",
   "execution_count": 26,
   "id": "3fb712e8",
   "metadata": {},
   "outputs": [
    {
     "data": {
      "text/plain": [
       "MEDV       1.000000\n",
       "RM         0.679506\n",
       "B          0.361761\n",
       "ZN         0.339741\n",
       "DIS        0.240451\n",
       "CHAS       0.205066\n",
       "AGE       -0.364596\n",
       "RAD       -0.374693\n",
       "CRIM      -0.393715\n",
       "NOX       -0.422873\n",
       "TAX       -0.456657\n",
       "INDUS     -0.473516\n",
       "PTRATIO   -0.493534\n",
       "LSTAT     -0.740494\n",
       "Name: MEDV, dtype: float64"
      ]
     },
     "execution_count": 26,
     "metadata": {},
     "output_type": "execute_result"
    }
   ],
   "source": [
    "corr_matrix = housing.corr()\n",
    "corr_matrix.MEDV.sort_values(ascending=False)"
   ]
  },
  {
   "cell_type": "code",
   "execution_count": 27,
   "id": "7e13dce5",
   "metadata": {},
   "outputs": [],
   "source": [
    "# housing.plot(kind=\"scatter\", x=\"TAXRM\", y=\"MEDV\", alpha=0.8)"
   ]
  },
  {
   "cell_type": "code",
   "execution_count": null,
   "id": "c1f00f86",
   "metadata": {},
   "outputs": [],
   "source": []
  },
  {
   "cell_type": "code",
   "execution_count": 28,
   "id": "3112f2ef",
   "metadata": {},
   "outputs": [],
   "source": [
    "housing = strat_train_set.drop(\"MEDV\",axis=1)\n",
    "housing_labels = strat_train_set[\"MEDV\"].copy()"
   ]
  },
  {
   "cell_type": "code",
   "execution_count": null,
   "id": "1db6bdde",
   "metadata": {},
   "outputs": [],
   "source": []
  },
  {
   "cell_type": "markdown",
   "id": "866e59a3",
   "metadata": {},
   "source": [
    "## Missing Attributes"
   ]
  },
  {
   "cell_type": "markdown",
   "id": "ea2435c5",
   "metadata": {},
   "source": [
    "### To take care of missing attributes, you have three options:\n",
    "1. Get rid of the missing data points:\n",
    ">Removing entire row. This we can do wherever the missing data points are 2 or 3 or less than 0.5% of the data.\n",
    "2. Get rid of the whole attribute\n",
    ">Removing entire column. If correlation coefficient is very less or near to zero, then we can remove entire column.\n",
    "1. Set the value to some value(0, mean or median)\n",
    "\n",
    "#### ***Please note that have to do these operations with training set and NOT with entire dataframe.***"
   ]
  },
  {
   "cell_type": "code",
   "execution_count": 29,
   "id": "610ea8d1",
   "metadata": {},
   "outputs": [
    {
     "data": {
      "text/plain": [
       "(398, 13)"
      ]
     },
     "execution_count": 29,
     "metadata": {},
     "output_type": "execute_result"
    }
   ],
   "source": [
    "# Option#1\n",
    "a = housing.dropna(subset=[\"RM\"])\n",
    "a.shape\n",
    "# Note that the original hosuing dataframe will remain unchanged"
   ]
  },
  {
   "cell_type": "code",
   "execution_count": 30,
   "id": "b130cb37",
   "metadata": {},
   "outputs": [
    {
     "data": {
      "text/plain": [
       "(404, 12)"
      ]
     },
     "execution_count": 30,
     "metadata": {},
     "output_type": "execute_result"
    }
   ],
   "source": [
    "# Option#2\n",
    "b = housing.drop(\"RM\", axis=1)\n",
    "b.shape\n",
    "# Note that the original hosuing dataframe will remain unchanged"
   ]
  },
  {
   "cell_type": "code",
   "execution_count": 31,
   "id": "73e53c24",
   "metadata": {},
   "outputs": [
    {
     "name": "stdout",
     "output_type": "stream",
     "text": [
      "6.2135\n"
     ]
    },
    {
     "data": {
      "text/plain": [
       "254    6.1080\n",
       "348    6.6350\n",
       "476    6.4840\n",
       "321    6.3760\n",
       "326    6.3120\n",
       "        ...  \n",
       "155    6.1520\n",
       "423    6.1030\n",
       "98     7.8200\n",
       "455    6.5250\n",
       "216    6.2135\n",
       "Name: RM, Length: 404, dtype: float64"
      ]
     },
     "execution_count": 31,
     "metadata": {},
     "output_type": "execute_result"
    }
   ],
   "source": [
    "# Option#3-1\n",
    "median = housing.RM.median()\n",
    "print(median)\n",
    "housing.RM.fillna(median)\n",
    "# Note that the original hosuing dataframe will remain unchanged"
   ]
  },
  {
   "cell_type": "code",
   "execution_count": 32,
   "id": "05e5d42f",
   "metadata": {},
   "outputs": [],
   "source": [
    "# housing.describe()"
   ]
  },
  {
   "cell_type": "code",
   "execution_count": 33,
   "id": "c1506bd3",
   "metadata": {},
   "outputs": [
    {
     "data": {
      "text/plain": [
       "SimpleImputer(strategy='median')"
      ]
     },
     "execution_count": 33,
     "metadata": {},
     "output_type": "execute_result"
    }
   ],
   "source": [
    "# Option#3-2 another way of filling empty cells or missing data with median\n",
    "from sklearn.impute import SimpleImputer\n",
    "imputer = SimpleImputer(strategy=\"median\")\n",
    "imputer.fit(housing)"
   ]
  },
  {
   "cell_type": "code",
   "execution_count": 34,
   "id": "a884e780",
   "metadata": {},
   "outputs": [
    {
     "data": {
      "text/plain": [
       "(13,)"
      ]
     },
     "execution_count": 34,
     "metadata": {},
     "output_type": "execute_result"
    }
   ],
   "source": [
    "imputer.statistics_.shape"
   ]
  },
  {
   "cell_type": "code",
   "execution_count": 35,
   "id": "5fef9141",
   "metadata": {},
   "outputs": [],
   "source": [
    "X = imputer.transform(housing)"
   ]
  },
  {
   "cell_type": "code",
   "execution_count": 36,
   "id": "042e584d",
   "metadata": {},
   "outputs": [],
   "source": [
    "housing_tr = pd.DataFrame(X, columns=housing.columns)"
   ]
  },
  {
   "cell_type": "code",
   "execution_count": 37,
   "id": "6a7a4326",
   "metadata": {},
   "outputs": [],
   "source": [
    "# housing_tr.describe()"
   ]
  },
  {
   "cell_type": "code",
   "execution_count": null,
   "id": "d0a7969e",
   "metadata": {},
   "outputs": [],
   "source": []
  },
  {
   "cell_type": "markdown",
   "id": "1570f5a9",
   "metadata": {},
   "source": [
    "## Scikit-learn Design"
   ]
  },
  {
   "cell_type": "markdown",
   "id": "b9e08106",
   "metadata": {},
   "source": [
    "#### Primarily, there are three types of objects:\n",
    "1. Estimators: It estimates some parameters based on a dataset. Eg. imputer.\n",
    ">It has a fit method and transform method.<br>\n",
    ">Fit method - Fits the dataset and calculates internal parameters.\n",
    "\n",
    "2. Transformers:\n",
    ">Transform method takes input and returns output based on the learnings from fit().<br>\n",
    ">It also has a convenience function called fit_transform() which fits and then transforms.\n",
    "\n",
    "3. Predictors:\n",
    ">LinearRegression model is an example of predictor. fit() and predict() are two common functions.<br>\n",
    ">It also gives score() function which will evaluate the predictions."
   ]
  },
  {
   "cell_type": "markdown",
   "id": "e55d30d1",
   "metadata": {},
   "source": [
    "## Feature Scaling"
   ]
  },
  {
   "cell_type": "markdown",
   "id": "f416de6b",
   "metadata": {},
   "source": [
    "#### Primarily, two types of feature scaling methods:\n",
    "1. Min-max scaling (Normalization):\n",
    ">Formula is ((value-min)/(max-min))<br>\n",
    ">For this Sklearn provides a class MinMaxScaler for this.\n",
    "2. Standardization(Z-score):\n",
    ">Formula is ((value-mean)/std)<br>\n",
    ">For this Sklearn provides a class Standard Scaler for this."
   ]
  },
  {
   "cell_type": "markdown",
   "id": "8c3c463e",
   "metadata": {},
   "source": [
    "## Creating a Pipeline"
   ]
  },
  {
   "cell_type": "code",
   "execution_count": 38,
   "id": "4042b549",
   "metadata": {},
   "outputs": [],
   "source": [
    "from sklearn.pipeline import Pipeline\n",
    "from sklearn.preprocessing import StandardScaler\n",
    "\n",
    "my_pipeline = Pipeline([\n",
    "    ('imputer', SimpleImputer(strategy=\"median\")),\n",
    "    # ..... add as many as you want in your pipeline\n",
    "    ('std_scaler', StandardScaler()),\n",
    "])"
   ]
  },
  {
   "cell_type": "code",
   "execution_count": 39,
   "id": "fb8d2680",
   "metadata": {},
   "outputs": [],
   "source": [
    "housing_num_tr = my_pipeline.fit_transform(housing)"
   ]
  },
  {
   "cell_type": "code",
   "execution_count": 40,
   "id": "0cdf2e4e",
   "metadata": {},
   "outputs": [
    {
     "data": {
      "text/plain": [
       "(404, 13)"
      ]
     },
     "execution_count": 40,
     "metadata": {},
     "output_type": "execute_result"
    }
   ],
   "source": [
    "housing_num_tr.shape"
   ]
  },
  {
   "cell_type": "code",
   "execution_count": null,
   "id": "cb56a1ee",
   "metadata": {},
   "outputs": [],
   "source": []
  },
  {
   "cell_type": "markdown",
   "id": "4d226957",
   "metadata": {},
   "source": [
    "## Selecting A Desired Model For Dragon Real Estates"
   ]
  },
  {
   "cell_type": "code",
   "execution_count": 41,
   "id": "ea3ef452",
   "metadata": {},
   "outputs": [
    {
     "data": {
      "text/plain": [
       "RandomForestRegressor()"
      ]
     },
     "execution_count": 41,
     "metadata": {},
     "output_type": "execute_result"
    }
   ],
   "source": [
    "from sklearn.linear_model import LinearRegression\n",
    "\n",
    "fmodel = LinearRegression() #Failed Model\n",
    "fmodel.fit(housing_num_tr, housing_labels) #Failed Model\n",
    "\n",
    "\n",
    "from sklearn.tree import DecisionTreeRegressor\n",
    "\n",
    "f1model = DecisionTreeRegressor() #Failed Model\n",
    "f1model.fit(housing_num_tr, housing_labels) #Failed Model\n",
    "\n",
    "\n",
    "from sklearn.ensemble import RandomForestRegressor\n",
    "\n",
    "f2model = RandomForestRegressor()\n",
    "f2model.fit(housing_num_tr, housing_labels)\n",
    "\n",
    "model = RandomForestRegressor()\n",
    "model.fit(housing_num_tr, housing_labels)"
   ]
  },
  {
   "cell_type": "code",
   "execution_count": 42,
   "id": "865fabe3",
   "metadata": {},
   "outputs": [],
   "source": [
    "some_data = housing.iloc[:5]"
   ]
  },
  {
   "cell_type": "code",
   "execution_count": 43,
   "id": "e1bfad99",
   "metadata": {},
   "outputs": [],
   "source": [
    "some_labels = housing_labels[:5]"
   ]
  },
  {
   "cell_type": "code",
   "execution_count": 44,
   "id": "77dbca0e",
   "metadata": {},
   "outputs": [],
   "source": [
    "prepared_data = my_pipeline.transform(some_data)"
   ]
  },
  {
   "cell_type": "code",
   "execution_count": 45,
   "id": "ac3171ba",
   "metadata": {},
   "outputs": [
    {
     "data": {
      "text/plain": [
       "array([23.96407132, 27.27088316, 20.57533342, 25.06071996, 23.74779285])"
      ]
     },
     "execution_count": 45,
     "metadata": {},
     "output_type": "execute_result"
    }
   ],
   "source": [
    "fmodel.predict(prepared_data)"
   ]
  },
  {
   "cell_type": "code",
   "execution_count": 46,
   "id": "7750800e",
   "metadata": {},
   "outputs": [
    {
     "data": {
      "text/plain": [
       "array([21.9, 24.5, 16.7, 23.1, 23. ])"
      ]
     },
     "execution_count": 46,
     "metadata": {},
     "output_type": "execute_result"
    }
   ],
   "source": [
    "f1model.predict(prepared_data)"
   ]
  },
  {
   "cell_type": "code",
   "execution_count": 47,
   "id": "f766a8d4",
   "metadata": {},
   "outputs": [
    {
     "data": {
      "text/plain": [
       "array([22.483, 25.234, 16.458, 23.149, 23.447])"
      ]
     },
     "execution_count": 47,
     "metadata": {},
     "output_type": "execute_result"
    }
   ],
   "source": [
    "f2model.predict(prepared_data)"
   ]
  },
  {
   "cell_type": "code",
   "execution_count": 48,
   "id": "00d01042",
   "metadata": {},
   "outputs": [
    {
     "data": {
      "text/plain": [
       "array([22.483, 25.268, 16.626, 23.402, 23.569])"
      ]
     },
     "execution_count": 48,
     "metadata": {},
     "output_type": "execute_result"
    }
   ],
   "source": [
    "model.predict(prepared_data)"
   ]
  },
  {
   "cell_type": "code",
   "execution_count": 49,
   "id": "531d9199",
   "metadata": {},
   "outputs": [
    {
     "data": {
      "text/plain": [
       "[21.9, 24.5, 16.7, 23.1, 23.0]"
      ]
     },
     "execution_count": 49,
     "metadata": {},
     "output_type": "execute_result"
    }
   ],
   "source": [
    "list(some_labels)"
   ]
  },
  {
   "cell_type": "code",
   "execution_count": null,
   "id": "1c95bfe2",
   "metadata": {},
   "outputs": [],
   "source": []
  },
  {
   "cell_type": "markdown",
   "id": "03abec55",
   "metadata": {},
   "source": [
    "## Evaluating The Model"
   ]
  },
  {
   "cell_type": "code",
   "execution_count": 50,
   "id": "35c21e94",
   "metadata": {},
   "outputs": [],
   "source": [
    "from sklearn.metrics import mean_squared_error"
   ]
  },
  {
   "cell_type": "code",
   "execution_count": 51,
   "id": "3f60eea1",
   "metadata": {},
   "outputs": [],
   "source": [
    "fhousing_predictions = fmodel.predict(housing_num_tr)\n",
    "fmse = mean_squared_error(housing_labels, fhousing_predictions)\n",
    "frmse = np.sqrt(fmse)"
   ]
  },
  {
   "cell_type": "code",
   "execution_count": 52,
   "id": "2b88a542",
   "metadata": {},
   "outputs": [
    {
     "data": {
      "text/plain": [
       "23.367623681832963"
      ]
     },
     "execution_count": 52,
     "metadata": {},
     "output_type": "execute_result"
    }
   ],
   "source": [
    "fmse #Not good model because of underfitting"
   ]
  },
  {
   "cell_type": "code",
   "execution_count": 53,
   "id": "46aa126f",
   "metadata": {},
   "outputs": [
    {
     "data": {
      "text/plain": [
       "4.834007000598258"
      ]
     },
     "execution_count": 53,
     "metadata": {},
     "output_type": "execute_result"
    }
   ],
   "source": [
    "frmse"
   ]
  },
  {
   "cell_type": "code",
   "execution_count": 54,
   "id": "91d0c008",
   "metadata": {},
   "outputs": [],
   "source": [
    "f1housing_predictions = f1model.predict(housing_num_tr)\n",
    "f1mse = mean_squared_error(housing_labels, f1housing_predictions)\n",
    "f1rmse = np.sqrt(f1mse)"
   ]
  },
  {
   "cell_type": "code",
   "execution_count": 55,
   "id": "f9391e03",
   "metadata": {},
   "outputs": [
    {
     "data": {
      "text/plain": [
       "0.0"
      ]
     },
     "execution_count": 55,
     "metadata": {},
     "output_type": "execute_result"
    }
   ],
   "source": [
    "f1mse #Not good model because of overfitting"
   ]
  },
  {
   "cell_type": "code",
   "execution_count": 56,
   "id": "9109d270",
   "metadata": {},
   "outputs": [
    {
     "data": {
      "text/plain": [
       "0.0"
      ]
     },
     "execution_count": 56,
     "metadata": {},
     "output_type": "execute_result"
    }
   ],
   "source": [
    "f1rmse"
   ]
  },
  {
   "cell_type": "code",
   "execution_count": 57,
   "id": "8df5d40d",
   "metadata": {},
   "outputs": [],
   "source": [
    "f2housing_predictions = f2model.predict(housing_num_tr)\n",
    "f2mse = mean_squared_error(housing_labels, f2housing_predictions)\n",
    "f2rmse = np.sqrt(f2mse)"
   ]
  },
  {
   "cell_type": "code",
   "execution_count": 58,
   "id": "195b3634",
   "metadata": {},
   "outputs": [
    {
     "data": {
      "text/plain": [
       "1.2124652970434449"
      ]
     },
     "execution_count": 58,
     "metadata": {},
     "output_type": "execute_result"
    }
   ],
   "source": [
    "f2rmse"
   ]
  },
  {
   "cell_type": "code",
   "execution_count": null,
   "id": "f3b2738c",
   "metadata": {},
   "outputs": [],
   "source": []
  },
  {
   "cell_type": "raw",
   "id": "799d6cd5",
   "metadata": {},
   "source": [
    "housing_predictions = model.predict(housing_num_tr)\n",
    "mse = mean_squared_error(housing_labels, housing_predictions)\n",
    "rmse = np.sqrt(mse)"
   ]
  },
  {
   "cell_type": "raw",
   "id": "80ad956a",
   "metadata": {},
   "source": [
    "mse #Not good model because of overfitting"
   ]
  },
  {
   "cell_type": "markdown",
   "id": "db19b347",
   "metadata": {},
   "source": [
    "## Using Better Evaluation Technique - Cross Validaion"
   ]
  },
  {
   "cell_type": "code",
   "execution_count": 59,
   "id": "76ba6e35",
   "metadata": {},
   "outputs": [],
   "source": [
    "from sklearn.model_selection import cross_val_score"
   ]
  },
  {
   "cell_type": "code",
   "execution_count": 60,
   "id": "96d58486",
   "metadata": {},
   "outputs": [],
   "source": [
    "# Cross validation on DecisionTreeRegressor Model\n",
    "scores = cross_val_score(model, housing_num_tr, housing_labels, scoring=\"neg_mean_squared_error\", cv=10)\n",
    "rmse_scores = np.sqrt(-scores)"
   ]
  },
  {
   "cell_type": "code",
   "execution_count": 61,
   "id": "88cb8ffa",
   "metadata": {},
   "outputs": [
    {
     "data": {
      "text/plain": [
       "array([2.78979106, 2.85427192, 4.49316344, 2.64029538, 3.6593917 ,\n",
       "       2.63548307, 4.91069985, 3.22687358, 3.52787389, 3.06156686])"
      ]
     },
     "execution_count": 61,
     "metadata": {},
     "output_type": "execute_result"
    }
   ],
   "source": [
    "rmse_scores"
   ]
  },
  {
   "cell_type": "code",
   "execution_count": 62,
   "id": "3e1584a8",
   "metadata": {},
   "outputs": [],
   "source": [
    "# Cross validation on LinearRegression Model\n",
    "fscores = cross_val_score(fmodel, housing_num_tr, housing_labels, scoring=\"neg_mean_squared_error\", cv=10)\n",
    "frmse_scores = np.sqrt(-fscores)"
   ]
  },
  {
   "cell_type": "code",
   "execution_count": 63,
   "id": "12fd2fe4",
   "metadata": {},
   "outputs": [
    {
     "data": {
      "text/plain": [
       "array([4.19313569, 4.28136187, 5.09372388, 3.84155417, 5.34978404,\n",
       "       4.39564029, 7.45199139, 5.49758654, 4.15117909, 6.06963137])"
      ]
     },
     "execution_count": 63,
     "metadata": {},
     "output_type": "execute_result"
    }
   ],
   "source": [
    "frmse_scores"
   ]
  },
  {
   "cell_type": "code",
   "execution_count": 64,
   "id": "2250e4dd",
   "metadata": {},
   "outputs": [],
   "source": [
    "# Cross validation on RandomForestRegressor Model\n",
    "f2scores = cross_val_score(f2model, housing_num_tr, housing_labels, scoring=\"neg_mean_squared_error\", cv=10)\n",
    "f2rmse_scores = np.sqrt(-f2scores)"
   ]
  },
  {
   "cell_type": "code",
   "execution_count": 65,
   "id": "c7c45b6d",
   "metadata": {},
   "outputs": [
    {
     "data": {
      "text/plain": [
       "array([2.96828678, 2.78830979, 4.58522299, 2.46404526, 3.59512869,\n",
       "       2.59026043, 4.57882113, 3.36578778, 3.01495484, 2.98950455])"
      ]
     },
     "execution_count": 65,
     "metadata": {},
     "output_type": "execute_result"
    }
   ],
   "source": [
    "f2rmse_scores"
   ]
  },
  {
   "cell_type": "code",
   "execution_count": 66,
   "id": "8a7aa02b",
   "metadata": {},
   "outputs": [],
   "source": [
    "def print_score(scores):\n",
    "    print(\"Scores:\",scores)\n",
    "    print(\"Mean:\",scores.mean())\n",
    "    print(\"Standard Deviation:\",scores.std())"
   ]
  },
  {
   "cell_type": "code",
   "execution_count": 67,
   "id": "4a1d723e",
   "metadata": {},
   "outputs": [
    {
     "name": "stdout",
     "output_type": "stream",
     "text": [
      "Scores: [2.78979106 2.85427192 4.49316344 2.64029538 3.6593917  2.63548307\n",
      " 4.91069985 3.22687358 3.52787389 3.06156686]\n",
      "Mean: 3.379941074730797\n",
      "Standard Deviation: 0.7438517069667702\n"
     ]
    }
   ],
   "source": [
    "# Decision Tree Model Output\n",
    "print_score(rmse_scores)"
   ]
  },
  {
   "cell_type": "code",
   "execution_count": 68,
   "id": "e4a4df27",
   "metadata": {},
   "outputs": [
    {
     "name": "stdout",
     "output_type": "stream",
     "text": [
      "Scores: [4.19313569 4.28136187 5.09372388 3.84155417 5.34978404 4.39564029\n",
      " 7.45199139 5.49758654 4.15117909 6.06963137]\n",
      "Mean: 5.032558832604023\n",
      "Standard Deviation: 1.0545004896752692\n"
     ]
    }
   ],
   "source": [
    "# Linear Regression Model Output\n",
    "print_score(frmse_scores)"
   ]
  },
  {
   "cell_type": "code",
   "execution_count": 69,
   "id": "7eb9926a",
   "metadata": {},
   "outputs": [
    {
     "name": "stdout",
     "output_type": "stream",
     "text": [
      "Scores: [2.96828678 2.78830979 4.58522299 2.46404526 3.59512869 2.59026043\n",
      " 4.57882113 3.36578778 3.01495484 2.98950455]\n",
      "Mean: 3.2940322238994435\n",
      "Standard Deviation: 0.7162627840666584\n"
     ]
    }
   ],
   "source": [
    "# Random Forest Regressor Model Output\n",
    "print_score(f2rmse_scores)"
   ]
  },
  {
   "cell_type": "code",
   "execution_count": null,
   "id": "9dc7a64f",
   "metadata": {},
   "outputs": [],
   "source": []
  },
  {
   "cell_type": "markdown",
   "id": "5fd9281a",
   "metadata": {},
   "source": [
    "## Saving the Model"
   ]
  },
  {
   "cell_type": "code",
   "execution_count": 71,
   "id": "f3002c49",
   "metadata": {},
   "outputs": [
    {
     "data": {
      "text/plain": [
       "['Dragon.joblib']"
      ]
     },
     "execution_count": 71,
     "metadata": {},
     "output_type": "execute_result"
    }
   ],
   "source": [
    "from joblib import dump, load\n",
    "dump(model, 'Dragon.joblib')"
   ]
  },
  {
   "cell_type": "code",
   "execution_count": null,
   "id": "123d1059",
   "metadata": {},
   "outputs": [],
   "source": []
  },
  {
   "cell_type": "markdown",
   "id": "814e578b",
   "metadata": {},
   "source": [
    "## Testing the Model on Test Data"
   ]
  },
  {
   "cell_type": "code",
   "execution_count": 74,
   "id": "03dbce3a",
   "metadata": {},
   "outputs": [],
   "source": [
    "X_test = strat_test_set.drop(\"MEDV\", axis=1)\n",
    "Y_test = strat_test_set.MEDV.copy()\n",
    "X_test_prepared = my_pipeline.transform(X_test)\n",
    "final_predictions = model.predict(X_test_prepared)\n",
    "final_mse = mean_squared_error(Y_test, final_predictions)\n",
    "final_rmse = np.sqrt(final_mse)"
   ]
  },
  {
   "cell_type": "code",
   "execution_count": 75,
   "id": "c355b4d4",
   "metadata": {},
   "outputs": [
    {
     "data": {
      "text/plain": [
       "2.8716288487717256"
      ]
     },
     "execution_count": 75,
     "metadata": {},
     "output_type": "execute_result"
    }
   ],
   "source": [
    "final_rmse"
   ]
  },
  {
   "cell_type": "code",
   "execution_count": 77,
   "id": "c702c56e",
   "metadata": {},
   "outputs": [
    {
     "data": {
      "text/plain": [
       "{16.5: 23.88,\n",
       " 10.2: 11.78,\n",
       " 30.1: 25.07,\n",
       " 23.0: 21.3,\n",
       " 14.4: 18.34,\n",
       " 15.6: 15.01,\n",
       " 19.4: 15.85,\n",
       " 14.1: 14.84,\n",
       " 30.3: 32.11,\n",
       " 35.2: 41.53,\n",
       " 23.1: 19.29,\n",
       " 13.8: 11.64,\n",
       " 25.0: 27.05,\n",
       " 27.9: 25.63,\n",
       " 19.5: 19.11,\n",
       " 12.3: 10.77,\n",
       " 32.2: 31.96,\n",
       " 13.5: 14.3,\n",
       " 23.8: 19.7,\n",
       " 21.7: 21.23,\n",
       " 19.2: 19.93,\n",
       " 10.4: 17.24,\n",
       " 23.2: 21.82,\n",
       " 18.6: 18.63,\n",
       " 28.5: 32.49,\n",
       " 15.2: 15.91,\n",
       " 32.0: 33.61,\n",
       " 7.2: 9.92,\n",
       " 34.6: 33.44,\n",
       " 20.1: 24.58,\n",
       " 20.6: 22.07,\n",
       " 23.6: 31.37,\n",
       " 13.1: 10.81,\n",
       " 12.7: 11.33,\n",
       " 43.1: 43.59,\n",
       " 24.7: 24.48,\n",
       " 22.2: 22.67,\n",
       " 44.0: 43.84,\n",
       " 28.1: 24.03,\n",
       " 31.0: 29.55,\n",
       " 23.4: 20.92,\n",
       " 33.1: 33.03,\n",
       " 41.7: 44.75,\n",
       " 18.7: 20.16,\n",
       " 19.9: 18.14,\n",
       " 21.2: 21.07,\n",
       " 13.6: 14.49,\n",
       " 20.3: 20.95,\n",
       " 17.8: 15.06,\n",
       " 27.1: 24.89,\n",
       " 31.5: 32.45,\n",
       " 50.0: 46.63,\n",
       " 29.1: 29.22,\n",
       " 18.9: 20.01,\n",
       " 20.4: 21.32,\n",
       " 17.2: 18.88,\n",
       " 36.2: 28.14,\n",
       " 14.6: 14.62,\n",
       " 33.2: 34.38,\n",
       " 21.5: 20.59,\n",
       " 37.3: 34.15,\n",
       " 27.0: 26.24,\n",
       " 22.0: 23.39,\n",
       " 24.3: 21.4,\n",
       " 19.8: 22.98,\n",
       " 33.3: 35.06,\n",
       " 7.0: 12.99,\n",
       " 20.9: 20.11,\n",
       " 21.1: 21.05,\n",
       " 11.9: 21.0,\n",
       " 11.7: 13.95,\n",
       " 21.6: 23.26,\n",
       " 19.7: 20.75,\n",
       " 16.7: 14.47,\n",
       " 23.3: 23.72,\n",
       " 19.6: 18.74,\n",
       " 28.0: 27.51,\n",
       " 5.0: 7.13,\n",
       " 24.4: 26.58,\n",
       " 20.8: 18.5,\n",
       " 24.8: 29.58,\n",
       " 21.8: 19.59,\n",
       " 19.0: 14.46}"
      ]
     },
     "execution_count": 77,
     "metadata": {},
     "output_type": "execute_result"
    }
   ],
   "source": [
    "dict(zip(Y_test, final_predictions.round(2)))"
   ]
  },
  {
   "cell_type": "code",
   "execution_count": null,
   "id": "2f18ade5",
   "metadata": {},
   "outputs": [],
   "source": []
  },
  {
   "cell_type": "code",
   "execution_count": 78,
   "id": "f3c1abb6",
   "metadata": {},
   "outputs": [
    {
     "data": {
      "text/plain": [
       "array([-0.43942006,  3.12628155, -1.12165014, -0.27288841, -1.42262747,\n",
       "       -0.24072966, -1.31238772,  2.61111401, -1.0016859 , -0.5778192 ,\n",
       "       -0.97491834,  0.41164221, -0.86091034])"
      ]
     },
     "execution_count": 78,
     "metadata": {},
     "output_type": "execute_result"
    }
   ],
   "source": [
    "prepared_data[0]"
   ]
  },
  {
   "cell_type": "code",
   "execution_count": null,
   "id": "02eb244c",
   "metadata": {},
   "outputs": [],
   "source": []
  },
  {
   "cell_type": "markdown",
   "id": "95be8893",
   "metadata": {},
   "source": [
    "## Using Model"
   ]
  },
  {
   "cell_type": "code",
   "execution_count": null,
   "id": "abee129b",
   "metadata": {},
   "outputs": [],
   "source": []
  },
  {
   "cell_type": "code",
   "execution_count": 79,
   "id": "4b8a64d2",
   "metadata": {},
   "outputs": [
    {
     "data": {
      "text/plain": [
       "array([24.975])"
      ]
     },
     "execution_count": 79,
     "metadata": {},
     "output_type": "execute_result"
    }
   ],
   "source": [
    "from joblib import dump, load\n",
    "import numpy as np\n",
    "model = load(\"Dragon.joblib\")\n",
    "\n",
    "features = np.array([[-0.43942006,  3.12628155, -1.12165014, -0.27288841, -1.42262747,\n",
    "       -15.24072966, -99.31238772,  2.61111401, -1.0016859 , -0.5778192 ,\n",
    "       -0.97491834,  0.41164221, -25.86091034]])\n",
    "model.predict(features)"
   ]
  },
  {
   "cell_type": "code",
   "execution_count": null,
   "id": "c1813128",
   "metadata": {},
   "outputs": [],
   "source": []
  },
  {
   "cell_type": "code",
   "execution_count": null,
   "id": "d122a17f",
   "metadata": {},
   "outputs": [],
   "source": []
  },
  {
   "cell_type": "code",
   "execution_count": null,
   "id": "b8ec35c1",
   "metadata": {},
   "outputs": [],
   "source": []
  }
 ],
 "metadata": {
  "kernelspec": {
   "display_name": "Python 3",
   "language": "python",
   "name": "python3"
  },
  "language_info": {
   "codemirror_mode": {
    "name": "ipython",
    "version": 3
   },
   "file_extension": ".py",
   "mimetype": "text/x-python",
   "name": "python",
   "nbconvert_exporter": "python",
   "pygments_lexer": "ipython3",
   "version": "3.8.8"
  }
 },
 "nbformat": 4,
 "nbformat_minor": 5
}
