{
 "cells": [
  {
   "cell_type": "code",
   "execution_count": 1,
   "id": "5f012184",
   "metadata": {},
   "outputs": [],
   "source": [
    "import pandas as pd\n",
    "import seaborn as sn"
   ]
  },
  {
   "cell_type": "code",
   "execution_count": 2,
   "id": "0bdb94e6",
   "metadata": {},
   "outputs": [],
   "source": [
    "df = pd.read_csv('weight-height-bmi.csv')"
   ]
  },
  {
   "cell_type": "code",
   "execution_count": 3,
   "id": "6a2ffc19",
   "metadata": {},
   "outputs": [
    {
     "data": {
      "text/html": [
       "<div>\n",
       "<style scoped>\n",
       "    .dataframe tbody tr th:only-of-type {\n",
       "        vertical-align: middle;\n",
       "    }\n",
       "\n",
       "    .dataframe tbody tr th {\n",
       "        vertical-align: top;\n",
       "    }\n",
       "\n",
       "    .dataframe thead th {\n",
       "        text-align: right;\n",
       "    }\n",
       "</style>\n",
       "<table border=\"1\" class=\"dataframe\">\n",
       "  <thead>\n",
       "    <tr style=\"text-align: right;\">\n",
       "      <th></th>\n",
       "      <th>Gender</th>\n",
       "      <th>Height_in</th>\n",
       "      <th>Height_m</th>\n",
       "      <th>Weight</th>\n",
       "      <th>BMI</th>\n",
       "    </tr>\n",
       "  </thead>\n",
       "  <tbody>\n",
       "    <tr>\n",
       "      <th>0</th>\n",
       "      <td>Male</td>\n",
       "      <td>73.847057</td>\n",
       "      <td>1.875714</td>\n",
       "      <td>109.720985</td>\n",
       "      <td>Obesity</td>\n",
       "    </tr>\n",
       "    <tr>\n",
       "      <th>1</th>\n",
       "      <td>Male</td>\n",
       "      <td>68.781941</td>\n",
       "      <td>1.747060</td>\n",
       "      <td>73.622732</td>\n",
       "      <td>Normal</td>\n",
       "    </tr>\n",
       "    <tr>\n",
       "      <th>2</th>\n",
       "      <td>Male</td>\n",
       "      <td>74.110145</td>\n",
       "      <td>1.882397</td>\n",
       "      <td>96.497550</td>\n",
       "      <td>Overweight</td>\n",
       "    </tr>\n",
       "    <tr>\n",
       "      <th>3</th>\n",
       "      <td>Male</td>\n",
       "      <td>71.731017</td>\n",
       "      <td>1.821967</td>\n",
       "      <td>99.809504</td>\n",
       "      <td>Obesity</td>\n",
       "    </tr>\n",
       "    <tr>\n",
       "      <th>4</th>\n",
       "      <td>Male</td>\n",
       "      <td>69.881834</td>\n",
       "      <td>1.774998</td>\n",
       "      <td>93.598619</td>\n",
       "      <td>Overweight</td>\n",
       "    </tr>\n",
       "  </tbody>\n",
       "</table>\n",
       "</div>"
      ],
      "text/plain": [
       "  Gender  Height_in  Height_m      Weight         BMI\n",
       "0   Male  73.847057  1.875714  109.720985     Obesity\n",
       "1   Male  68.781941  1.747060   73.622732      Normal\n",
       "2   Male  74.110145  1.882397   96.497550  Overweight\n",
       "3   Male  71.731017  1.821967   99.809504     Obesity\n",
       "4   Male  69.881834  1.774998   93.598619  Overweight"
      ]
     },
     "execution_count": 3,
     "metadata": {},
     "output_type": "execute_result"
    }
   ],
   "source": [
    "df.head()"
   ]
  },
  {
   "cell_type": "code",
   "execution_count": 4,
   "id": "7c3f4c5c",
   "metadata": {},
   "outputs": [
    {
     "data": {
      "text/plain": [
       "(10000, 5)"
      ]
     },
     "execution_count": 4,
     "metadata": {},
     "output_type": "execute_result"
    }
   ],
   "source": [
    "df.shape"
   ]
  },
  {
   "cell_type": "code",
   "execution_count": 5,
   "id": "7815d099",
   "metadata": {},
   "outputs": [
    {
     "data": {
      "text/plain": [
       "count    10000.000000\n",
       "mean        66.367596\n",
       "std          3.847530\n",
       "min         54.263163\n",
       "25%         63.505655\n",
       "50%         66.318106\n",
       "75%         69.174299\n",
       "max         78.998785\n",
       "Name: Height_in, dtype: float64"
      ]
     },
     "execution_count": 5,
     "metadata": {},
     "output_type": "execute_result"
    }
   ],
   "source": [
    "df.Height_in.describe()"
   ]
  },
  {
   "cell_type": "code",
   "execution_count": 6,
   "id": "e5c5e588",
   "metadata": {},
   "outputs": [],
   "source": [
    "# sn.histplot(df.Height_in)"
   ]
  },
  {
   "cell_type": "code",
   "execution_count": 7,
   "id": "b387d62b",
   "metadata": {},
   "outputs": [
    {
     "data": {
      "text/plain": [
       "<AxesSubplot:xlabel='Height_in', ylabel='Count'>"
      ]
     },
     "execution_count": 7,
     "metadata": {},
     "output_type": "execute_result"
    },
    {
     "data": {
      "image/png": "[encoded data removed]",
      "text/plain": [
       "<Figure size 432x288 with 1 Axes>"
      ]
     },
     "metadata": {
      "needs_background": "light"
     },
     "output_type": "display_data"
    }
   ],
   "source": [
    "sn.histplot(df.Height_in, kde=True)"
   ]
  },
  {
   "cell_type": "code",
   "execution_count": null,
   "id": "3153b2bc",
   "metadata": {},
   "outputs": [],
   "source": []
  },
  {
   "cell_type": "code",
   "execution_count": 8,
   "id": "b0dfaceb",
   "metadata": {},
   "outputs": [
    {
     "data": {
      "text/plain": [
       "66.36759559325809"
      ]
     },
     "execution_count": 8,
     "metadata": {},
     "output_type": "execute_result"
    }
   ],
   "source": [
    "mean = df.Height_in.mean()\n",
    "mean"
   ]
  },
  {
   "cell_type": "code",
   "execution_count": 9,
   "id": "120f3435",
   "metadata": {},
   "outputs": [
    {
     "data": {
      "text/plain": [
       "3.847530198454464"
      ]
     },
     "execution_count": 9,
     "metadata": {},
     "output_type": "execute_result"
    }
   ],
   "source": [
    "std_deviation = df.Height_in.std()\n",
    "std_deviation"
   ]
  },
  {
   "cell_type": "code",
   "execution_count": 10,
   "id": "fae0dd48",
   "metadata": {},
   "outputs": [
    {
     "data": {
      "text/plain": [
       "54.825004997894695"
      ]
     },
     "execution_count": 10,
     "metadata": {},
     "output_type": "execute_result"
    }
   ],
   "source": [
    "mean - 3*std_deviation #Minimum consideration -3*sigma"
   ]
  },
  {
   "cell_type": "code",
   "execution_count": 11,
   "id": "732bcb09",
   "metadata": {},
   "outputs": [
    {
     "data": {
      "text/plain": [
       "77.91018618862148"
      ]
     },
     "execution_count": 11,
     "metadata": {},
     "output_type": "execute_result"
    }
   ],
   "source": [
    "mean + 3*std_deviation #Maximum consideration +3*sigma"
   ]
  },
  {
   "cell_type": "code",
   "execution_count": 12,
   "id": "ccffd9bc",
   "metadata": {},
   "outputs": [
    {
     "data": {
      "text/html": [
       "<div>\n",
       "<style scoped>\n",
       "    .dataframe tbody tr th:only-of-type {\n",
       "        vertical-align: middle;\n",
       "    }\n",
       "\n",
       "    .dataframe tbody tr th {\n",
       "        vertical-align: top;\n",
       "    }\n",
       "\n",
       "    .dataframe thead th {\n",
       "        text-align: right;\n",
       "    }\n",
       "</style>\n",
       "<table border=\"1\" class=\"dataframe\">\n",
       "  <thead>\n",
       "    <tr style=\"text-align: right;\">\n",
       "      <th></th>\n",
       "      <th>Gender</th>\n",
       "      <th>Height_in</th>\n",
       "      <th>Height_m</th>\n",
       "      <th>Weight</th>\n",
       "      <th>BMI</th>\n",
       "    </tr>\n",
       "  </thead>\n",
       "  <tbody>\n",
       "    <tr>\n",
       "      <th>6624</th>\n",
       "      <td>Female</td>\n",
       "      <td>54.616887</td>\n",
       "      <td>1.387268</td>\n",
       "      <td>32.383633</td>\n",
       "      <td>Underweight</td>\n",
       "    </tr>\n",
       "    <tr>\n",
       "      <th>9285</th>\n",
       "      <td>Female</td>\n",
       "      <td>54.263163</td>\n",
       "      <td>1.378284</td>\n",
       "      <td>29.347460</td>\n",
       "      <td>Underweight</td>\n",
       "    </tr>\n",
       "  </tbody>\n",
       "</table>\n",
       "</div>"
      ],
      "text/plain": [
       "      Gender  Height_in  Height_m     Weight          BMI\n",
       "6624  Female  54.616887  1.387268  32.383633  Underweight\n",
       "9285  Female  54.263163  1.378284  29.347460  Underweight"
      ]
     },
     "execution_count": 12,
     "metadata": {},
     "output_type": "execute_result"
    }
   ],
   "source": [
    "df[df.Height_in<54.82] #Outliers"
   ]
  },
  {
   "cell_type": "code",
   "execution_count": 13,
   "id": "5645c908",
   "metadata": {},
   "outputs": [
    {
     "data": {
      "text/html": [
       "<div>\n",
       "<style scoped>\n",
       "    .dataframe tbody tr th:only-of-type {\n",
       "        vertical-align: middle;\n",
       "    }\n",
       "\n",
       "    .dataframe tbody tr th {\n",
       "        vertical-align: top;\n",
       "    }\n",
       "\n",
       "    .dataframe thead th {\n",
       "        text-align: right;\n",
       "    }\n",
       "</style>\n",
       "<table border=\"1\" class=\"dataframe\">\n",
       "  <thead>\n",
       "    <tr style=\"text-align: right;\">\n",
       "      <th></th>\n",
       "      <th>Gender</th>\n",
       "      <th>Height_in</th>\n",
       "      <th>Height_m</th>\n",
       "      <th>Weight</th>\n",
       "      <th>BMI</th>\n",
       "    </tr>\n",
       "  </thead>\n",
       "  <tbody>\n",
       "    <tr>\n",
       "      <th>994</th>\n",
       "      <td>Male</td>\n",
       "      <td>78.095910</td>\n",
       "      <td>1.983635</td>\n",
       "      <td>115.979317</td>\n",
       "      <td>Overweight</td>\n",
       "    </tr>\n",
       "    <tr>\n",
       "      <th>1317</th>\n",
       "      <td>Male</td>\n",
       "      <td>78.462095</td>\n",
       "      <td>1.992936</td>\n",
       "      <td>103.120769</td>\n",
       "      <td>Overweight</td>\n",
       "    </tr>\n",
       "    <tr>\n",
       "      <th>2014</th>\n",
       "      <td>Male</td>\n",
       "      <td>78.998785</td>\n",
       "      <td>2.006568</td>\n",
       "      <td>122.465167</td>\n",
       "      <td>Obesity</td>\n",
       "    </tr>\n",
       "    <tr>\n",
       "      <th>3285</th>\n",
       "      <td>Male</td>\n",
       "      <td>78.528253</td>\n",
       "      <td>1.994617</td>\n",
       "      <td>115.162021</td>\n",
       "      <td>Overweight</td>\n",
       "    </tr>\n",
       "    <tr>\n",
       "      <th>3757</th>\n",
       "      <td>Male</td>\n",
       "      <td>78.621416</td>\n",
       "      <td>1.996983</td>\n",
       "      <td>111.462878</td>\n",
       "      <td>Overweight</td>\n",
       "    </tr>\n",
       "  </tbody>\n",
       "</table>\n",
       "</div>"
      ],
      "text/plain": [
       "     Gender  Height_in  Height_m      Weight         BMI\n",
       "994    Male  78.095910  1.983635  115.979317  Overweight\n",
       "1317   Male  78.462095  1.992936  103.120769  Overweight\n",
       "2014   Male  78.998785  2.006568  122.465167     Obesity\n",
       "3285   Male  78.528253  1.994617  115.162021  Overweight\n",
       "3757   Male  78.621416  1.996983  111.462878  Overweight"
      ]
     },
     "execution_count": 13,
     "metadata": {},
     "output_type": "execute_result"
    }
   ],
   "source": [
    "df[df.Height_in>77.91]  #Outliers"
   ]
  },
  {
   "cell_type": "code",
   "execution_count": 14,
   "id": "90b31a0f",
   "metadata": {},
   "outputs": [
    {
     "data": {
      "text/html": [
       "<div>\n",
       "<style scoped>\n",
       "    .dataframe tbody tr th:only-of-type {\n",
       "        vertical-align: middle;\n",
       "    }\n",
       "\n",
       "    .dataframe tbody tr th {\n",
       "        vertical-align: top;\n",
       "    }\n",
       "\n",
       "    .dataframe thead th {\n",
       "        text-align: right;\n",
       "    }\n",
       "</style>\n",
       "<table border=\"1\" class=\"dataframe\">\n",
       "  <thead>\n",
       "    <tr style=\"text-align: right;\">\n",
       "      <th></th>\n",
       "      <th>Gender</th>\n",
       "      <th>Height_in</th>\n",
       "      <th>Height_m</th>\n",
       "      <th>Weight</th>\n",
       "      <th>BMI</th>\n",
       "    </tr>\n",
       "  </thead>\n",
       "  <tbody>\n",
       "    <tr>\n",
       "      <th>994</th>\n",
       "      <td>Male</td>\n",
       "      <td>78.095910</td>\n",
       "      <td>1.983635</td>\n",
       "      <td>115.979317</td>\n",
       "      <td>Overweight</td>\n",
       "    </tr>\n",
       "    <tr>\n",
       "      <th>1317</th>\n",
       "      <td>Male</td>\n",
       "      <td>78.462095</td>\n",
       "      <td>1.992936</td>\n",
       "      <td>103.120769</td>\n",
       "      <td>Overweight</td>\n",
       "    </tr>\n",
       "    <tr>\n",
       "      <th>2014</th>\n",
       "      <td>Male</td>\n",
       "      <td>78.998785</td>\n",
       "      <td>2.006568</td>\n",
       "      <td>122.465167</td>\n",
       "      <td>Obesity</td>\n",
       "    </tr>\n",
       "    <tr>\n",
       "      <th>3285</th>\n",
       "      <td>Male</td>\n",
       "      <td>78.528253</td>\n",
       "      <td>1.994617</td>\n",
       "      <td>115.162021</td>\n",
       "      <td>Overweight</td>\n",
       "    </tr>\n",
       "    <tr>\n",
       "      <th>3757</th>\n",
       "      <td>Male</td>\n",
       "      <td>78.621416</td>\n",
       "      <td>1.996983</td>\n",
       "      <td>111.462878</td>\n",
       "      <td>Overweight</td>\n",
       "    </tr>\n",
       "    <tr>\n",
       "      <th>6624</th>\n",
       "      <td>Female</td>\n",
       "      <td>54.616887</td>\n",
       "      <td>1.387268</td>\n",
       "      <td>32.383633</td>\n",
       "      <td>Underweight</td>\n",
       "    </tr>\n",
       "    <tr>\n",
       "      <th>9285</th>\n",
       "      <td>Female</td>\n",
       "      <td>54.263163</td>\n",
       "      <td>1.378284</td>\n",
       "      <td>29.347460</td>\n",
       "      <td>Underweight</td>\n",
       "    </tr>\n",
       "  </tbody>\n",
       "</table>\n",
       "</div>"
      ],
      "text/plain": [
       "      Gender  Height_in  Height_m      Weight          BMI\n",
       "994     Male  78.095910  1.983635  115.979317   Overweight\n",
       "1317    Male  78.462095  1.992936  103.120769   Overweight\n",
       "2014    Male  78.998785  2.006568  122.465167      Obesity\n",
       "3285    Male  78.528253  1.994617  115.162021   Overweight\n",
       "3757    Male  78.621416  1.996983  111.462878   Overweight\n",
       "6624  Female  54.616887  1.387268   32.383633  Underweight\n",
       "9285  Female  54.263163  1.378284   29.347460  Underweight"
      ]
     },
     "execution_count": 14,
     "metadata": {},
     "output_type": "execute_result"
    }
   ],
   "source": [
    "df[(df.Height_in<54.82) | (df.Height_in>77.91)] #Outliers & \"|\" symbol is for or condition."
   ]
  },
  {
   "cell_type": "code",
   "execution_count": null,
   "id": "a0133f6c",
   "metadata": {},
   "outputs": [],
   "source": []
  },
  {
   "cell_type": "code",
   "execution_count": 15,
   "id": "9d4f9f82",
   "metadata": {},
   "outputs": [],
   "source": [
    "df_no_outliers = df[(df.Height_in>54.82) & (df.Height_in<77.91)]"
   ]
  },
  {
   "cell_type": "code",
   "execution_count": 16,
   "id": "45bf1b9a",
   "metadata": {},
   "outputs": [
    {
     "data": {
      "text/html": [
       "<div>\n",
       "<style scoped>\n",
       "    .dataframe tbody tr th:only-of-type {\n",
       "        vertical-align: middle;\n",
       "    }\n",
       "\n",
       "    .dataframe tbody tr th {\n",
       "        vertical-align: top;\n",
       "    }\n",
       "\n",
       "    .dataframe thead th {\n",
       "        text-align: right;\n",
       "    }\n",
       "</style>\n",
       "<table border=\"1\" class=\"dataframe\">\n",
       "  <thead>\n",
       "    <tr style=\"text-align: right;\">\n",
       "      <th></th>\n",
       "      <th>Gender</th>\n",
       "      <th>Height_in</th>\n",
       "      <th>Height_m</th>\n",
       "      <th>Weight</th>\n",
       "      <th>BMI</th>\n",
       "    </tr>\n",
       "  </thead>\n",
       "  <tbody>\n",
       "    <tr>\n",
       "      <th>0</th>\n",
       "      <td>Male</td>\n",
       "      <td>73.847057</td>\n",
       "      <td>1.875714</td>\n",
       "      <td>109.720985</td>\n",
       "      <td>Obesity</td>\n",
       "    </tr>\n",
       "    <tr>\n",
       "      <th>1</th>\n",
       "      <td>Male</td>\n",
       "      <td>68.781941</td>\n",
       "      <td>1.747060</td>\n",
       "      <td>73.622732</td>\n",
       "      <td>Normal</td>\n",
       "    </tr>\n",
       "    <tr>\n",
       "      <th>2</th>\n",
       "      <td>Male</td>\n",
       "      <td>74.110145</td>\n",
       "      <td>1.882397</td>\n",
       "      <td>96.497550</td>\n",
       "      <td>Overweight</td>\n",
       "    </tr>\n",
       "    <tr>\n",
       "      <th>3</th>\n",
       "      <td>Male</td>\n",
       "      <td>71.731017</td>\n",
       "      <td>1.821967</td>\n",
       "      <td>99.809504</td>\n",
       "      <td>Obesity</td>\n",
       "    </tr>\n",
       "    <tr>\n",
       "      <th>4</th>\n",
       "      <td>Male</td>\n",
       "      <td>69.881834</td>\n",
       "      <td>1.774998</td>\n",
       "      <td>93.598619</td>\n",
       "      <td>Overweight</td>\n",
       "    </tr>\n",
       "  </tbody>\n",
       "</table>\n",
       "</div>"
      ],
      "text/plain": [
       "  Gender  Height_in  Height_m      Weight         BMI\n",
       "0   Male  73.847057  1.875714  109.720985     Obesity\n",
       "1   Male  68.781941  1.747060   73.622732      Normal\n",
       "2   Male  74.110145  1.882397   96.497550  Overweight\n",
       "3   Male  71.731017  1.821967   99.809504     Obesity\n",
       "4   Male  69.881834  1.774998   93.598619  Overweight"
      ]
     },
     "execution_count": 16,
     "metadata": {},
     "output_type": "execute_result"
    }
   ],
   "source": [
    "df_no_outliers.head()"
   ]
  },
  {
   "cell_type": "code",
   "execution_count": 17,
   "id": "a88db170",
   "metadata": {},
   "outputs": [
    {
     "data": {
      "text/plain": [
       "(9993, 5)"
      ]
     },
     "execution_count": 17,
     "metadata": {},
     "output_type": "execute_result"
    }
   ],
   "source": [
    "df_no_outliers.shape"
   ]
  },
  {
   "cell_type": "code",
   "execution_count": null,
   "id": "25480249",
   "metadata": {},
   "outputs": [],
   "source": []
  },
  {
   "cell_type": "code",
   "execution_count": 18,
   "id": "53f35392",
   "metadata": {},
   "outputs": [],
   "source": [
    "df['zscore'] = (df.Height_in - df.Height_in.mean())/df.Height_in.std()"
   ]
  },
  {
   "cell_type": "code",
   "execution_count": 19,
   "id": "b24e9897",
   "metadata": {},
   "outputs": [
    {
     "data": {
      "text/html": [
       "<div>\n",
       "<style scoped>\n",
       "    .dataframe tbody tr th:only-of-type {\n",
       "        vertical-align: middle;\n",
       "    }\n",
       "\n",
       "    .dataframe tbody tr th {\n",
       "        vertical-align: top;\n",
       "    }\n",
       "\n",
       "    .dataframe thead th {\n",
       "        text-align: right;\n",
       "    }\n",
       "</style>\n",
       "<table border=\"1\" class=\"dataframe\">\n",
       "  <thead>\n",
       "    <tr style=\"text-align: right;\">\n",
       "      <th></th>\n",
       "      <th>Gender</th>\n",
       "      <th>Height_in</th>\n",
       "      <th>Height_m</th>\n",
       "      <th>Weight</th>\n",
       "      <th>BMI</th>\n",
       "      <th>zscore</th>\n",
       "    </tr>\n",
       "  </thead>\n",
       "  <tbody>\n",
       "    <tr>\n",
       "      <th>0</th>\n",
       "      <td>Male</td>\n",
       "      <td>73.847057</td>\n",
       "      <td>1.875714</td>\n",
       "      <td>109.720985</td>\n",
       "      <td>Obesity</td>\n",
       "      <td>1.943964</td>\n",
       "    </tr>\n",
       "    <tr>\n",
       "      <th>1</th>\n",
       "      <td>Male</td>\n",
       "      <td>68.781941</td>\n",
       "      <td>1.747060</td>\n",
       "      <td>73.622732</td>\n",
       "      <td>Normal</td>\n",
       "      <td>0.627505</td>\n",
       "    </tr>\n",
       "    <tr>\n",
       "      <th>2</th>\n",
       "      <td>Male</td>\n",
       "      <td>74.110145</td>\n",
       "      <td>1.882397</td>\n",
       "      <td>96.497550</td>\n",
       "      <td>Overweight</td>\n",
       "      <td>2.012343</td>\n",
       "    </tr>\n",
       "    <tr>\n",
       "      <th>3</th>\n",
       "      <td>Male</td>\n",
       "      <td>71.731017</td>\n",
       "      <td>1.821967</td>\n",
       "      <td>99.809504</td>\n",
       "      <td>Obesity</td>\n",
       "      <td>1.393991</td>\n",
       "    </tr>\n",
       "    <tr>\n",
       "      <th>4</th>\n",
       "      <td>Male</td>\n",
       "      <td>69.881834</td>\n",
       "      <td>1.774998</td>\n",
       "      <td>93.598619</td>\n",
       "      <td>Overweight</td>\n",
       "      <td>0.913375</td>\n",
       "    </tr>\n",
       "  </tbody>\n",
       "</table>\n",
       "</div>"
      ],
      "text/plain": [
       "  Gender  Height_in  Height_m      Weight         BMI    zscore\n",
       "0   Male  73.847057  1.875714  109.720985     Obesity  1.943964\n",
       "1   Male  68.781941  1.747060   73.622732      Normal  0.627505\n",
       "2   Male  74.110145  1.882397   96.497550  Overweight  2.012343\n",
       "3   Male  71.731017  1.821967   99.809504     Obesity  1.393991\n",
       "4   Male  69.881834  1.774998   93.598619  Overweight  0.913375"
      ]
     },
     "execution_count": 19,
     "metadata": {},
     "output_type": "execute_result"
    }
   ],
   "source": [
    "df.head()"
   ]
  },
  {
   "cell_type": "code",
   "execution_count": null,
   "id": "6ce42096",
   "metadata": {},
   "outputs": [],
   "source": []
  },
  {
   "cell_type": "code",
   "execution_count": 20,
   "id": "c6e437dc",
   "metadata": {},
   "outputs": [
    {
     "data": {
      "text/html": [
       "<div>\n",
       "<style scoped>\n",
       "    .dataframe tbody tr th:only-of-type {\n",
       "        vertical-align: middle;\n",
       "    }\n",
       "\n",
       "    .dataframe tbody tr th {\n",
       "        vertical-align: top;\n",
       "    }\n",
       "\n",
       "    .dataframe thead th {\n",
       "        text-align: right;\n",
       "    }\n",
       "</style>\n",
       "<table border=\"1\" class=\"dataframe\">\n",
       "  <thead>\n",
       "    <tr style=\"text-align: right;\">\n",
       "      <th></th>\n",
       "      <th>Gender</th>\n",
       "      <th>Height_in</th>\n",
       "      <th>Height_m</th>\n",
       "      <th>Weight</th>\n",
       "      <th>BMI</th>\n",
       "      <th>zscore</th>\n",
       "    </tr>\n",
       "  </thead>\n",
       "  <tbody>\n",
       "    <tr>\n",
       "      <th>6624</th>\n",
       "      <td>Female</td>\n",
       "      <td>54.616887</td>\n",
       "      <td>1.387268</td>\n",
       "      <td>32.383633</td>\n",
       "      <td>Underweight</td>\n",
       "      <td>-3.054091</td>\n",
       "    </tr>\n",
       "    <tr>\n",
       "      <th>9285</th>\n",
       "      <td>Female</td>\n",
       "      <td>54.263163</td>\n",
       "      <td>1.378284</td>\n",
       "      <td>29.347460</td>\n",
       "      <td>Underweight</td>\n",
       "      <td>-3.146027</td>\n",
       "    </tr>\n",
       "  </tbody>\n",
       "</table>\n",
       "</div>"
      ],
      "text/plain": [
       "      Gender  Height_in  Height_m     Weight          BMI    zscore\n",
       "6624  Female  54.616887  1.387268  32.383633  Underweight -3.054091\n",
       "9285  Female  54.263163  1.378284  29.347460  Underweight -3.146027"
      ]
     },
     "execution_count": 20,
     "metadata": {},
     "output_type": "execute_result"
    }
   ],
   "source": [
    "df[(df.zscore<-3)] #Outlier"
   ]
  },
  {
   "cell_type": "code",
   "execution_count": 21,
   "id": "a3b71275",
   "metadata": {},
   "outputs": [
    {
     "data": {
      "text/html": [
       "<div>\n",
       "<style scoped>\n",
       "    .dataframe tbody tr th:only-of-type {\n",
       "        vertical-align: middle;\n",
       "    }\n",
       "\n",
       "    .dataframe tbody tr th {\n",
       "        vertical-align: top;\n",
       "    }\n",
       "\n",
       "    .dataframe thead th {\n",
       "        text-align: right;\n",
       "    }\n",
       "</style>\n",
       "<table border=\"1\" class=\"dataframe\">\n",
       "  <thead>\n",
       "    <tr style=\"text-align: right;\">\n",
       "      <th></th>\n",
       "      <th>Gender</th>\n",
       "      <th>Height_in</th>\n",
       "      <th>Height_m</th>\n",
       "      <th>Weight</th>\n",
       "      <th>BMI</th>\n",
       "      <th>zscore</th>\n",
       "    </tr>\n",
       "  </thead>\n",
       "  <tbody>\n",
       "    <tr>\n",
       "      <th>994</th>\n",
       "      <td>Male</td>\n",
       "      <td>78.095910</td>\n",
       "      <td>1.983635</td>\n",
       "      <td>115.979317</td>\n",
       "      <td>Overweight</td>\n",
       "      <td>3.048271</td>\n",
       "    </tr>\n",
       "    <tr>\n",
       "      <th>1317</th>\n",
       "      <td>Male</td>\n",
       "      <td>78.462095</td>\n",
       "      <td>1.992936</td>\n",
       "      <td>103.120769</td>\n",
       "      <td>Overweight</td>\n",
       "      <td>3.143445</td>\n",
       "    </tr>\n",
       "    <tr>\n",
       "      <th>2014</th>\n",
       "      <td>Male</td>\n",
       "      <td>78.998785</td>\n",
       "      <td>2.006568</td>\n",
       "      <td>122.465167</td>\n",
       "      <td>Obesity</td>\n",
       "      <td>3.282934</td>\n",
       "    </tr>\n",
       "    <tr>\n",
       "      <th>3285</th>\n",
       "      <td>Male</td>\n",
       "      <td>78.528253</td>\n",
       "      <td>1.994617</td>\n",
       "      <td>115.162021</td>\n",
       "      <td>Overweight</td>\n",
       "      <td>3.160640</td>\n",
       "    </tr>\n",
       "    <tr>\n",
       "      <th>3757</th>\n",
       "      <td>Male</td>\n",
       "      <td>78.621416</td>\n",
       "      <td>1.996983</td>\n",
       "      <td>111.462878</td>\n",
       "      <td>Overweight</td>\n",
       "      <td>3.184854</td>\n",
       "    </tr>\n",
       "  </tbody>\n",
       "</table>\n",
       "</div>"
      ],
      "text/plain": [
       "     Gender  Height_in  Height_m      Weight         BMI    zscore\n",
       "994    Male  78.095910  1.983635  115.979317  Overweight  3.048271\n",
       "1317   Male  78.462095  1.992936  103.120769  Overweight  3.143445\n",
       "2014   Male  78.998785  2.006568  122.465167     Obesity  3.282934\n",
       "3285   Male  78.528253  1.994617  115.162021  Overweight  3.160640\n",
       "3757   Male  78.621416  1.996983  111.462878  Overweight  3.184854"
      ]
     },
     "execution_count": 21,
     "metadata": {},
     "output_type": "execute_result"
    }
   ],
   "source": [
    "df[(df.zscore>3)] #Outlier"
   ]
  },
  {
   "cell_type": "code",
   "execution_count": 22,
   "id": "dff01c0a",
   "metadata": {},
   "outputs": [
    {
     "data": {
      "text/html": [
       "<div>\n",
       "<style scoped>\n",
       "    .dataframe tbody tr th:only-of-type {\n",
       "        vertical-align: middle;\n",
       "    }\n",
       "\n",
       "    .dataframe tbody tr th {\n",
       "        vertical-align: top;\n",
       "    }\n",
       "\n",
       "    .dataframe thead th {\n",
       "        text-align: right;\n",
       "    }\n",
       "</style>\n",
       "<table border=\"1\" class=\"dataframe\">\n",
       "  <thead>\n",
       "    <tr style=\"text-align: right;\">\n",
       "      <th></th>\n",
       "      <th>Gender</th>\n",
       "      <th>Height_in</th>\n",
       "      <th>Height_m</th>\n",
       "      <th>Weight</th>\n",
       "      <th>BMI</th>\n",
       "      <th>zscore</th>\n",
       "    </tr>\n",
       "  </thead>\n",
       "  <tbody>\n",
       "    <tr>\n",
       "      <th>994</th>\n",
       "      <td>Male</td>\n",
       "      <td>78.095910</td>\n",
       "      <td>1.983635</td>\n",
       "      <td>115.979317</td>\n",
       "      <td>Overweight</td>\n",
       "      <td>3.048271</td>\n",
       "    </tr>\n",
       "    <tr>\n",
       "      <th>1317</th>\n",
       "      <td>Male</td>\n",
       "      <td>78.462095</td>\n",
       "      <td>1.992936</td>\n",
       "      <td>103.120769</td>\n",
       "      <td>Overweight</td>\n",
       "      <td>3.143445</td>\n",
       "    </tr>\n",
       "    <tr>\n",
       "      <th>2014</th>\n",
       "      <td>Male</td>\n",
       "      <td>78.998785</td>\n",
       "      <td>2.006568</td>\n",
       "      <td>122.465167</td>\n",
       "      <td>Obesity</td>\n",
       "      <td>3.282934</td>\n",
       "    </tr>\n",
       "    <tr>\n",
       "      <th>3285</th>\n",
       "      <td>Male</td>\n",
       "      <td>78.528253</td>\n",
       "      <td>1.994617</td>\n",
       "      <td>115.162021</td>\n",
       "      <td>Overweight</td>\n",
       "      <td>3.160640</td>\n",
       "    </tr>\n",
       "    <tr>\n",
       "      <th>3757</th>\n",
       "      <td>Male</td>\n",
       "      <td>78.621416</td>\n",
       "      <td>1.996983</td>\n",
       "      <td>111.462878</td>\n",
       "      <td>Overweight</td>\n",
       "      <td>3.184854</td>\n",
       "    </tr>\n",
       "    <tr>\n",
       "      <th>6624</th>\n",
       "      <td>Female</td>\n",
       "      <td>54.616887</td>\n",
       "      <td>1.387268</td>\n",
       "      <td>32.383633</td>\n",
       "      <td>Underweight</td>\n",
       "      <td>-3.054091</td>\n",
       "    </tr>\n",
       "    <tr>\n",
       "      <th>9285</th>\n",
       "      <td>Female</td>\n",
       "      <td>54.263163</td>\n",
       "      <td>1.378284</td>\n",
       "      <td>29.347460</td>\n",
       "      <td>Underweight</td>\n",
       "      <td>-3.146027</td>\n",
       "    </tr>\n",
       "  </tbody>\n",
       "</table>\n",
       "</div>"
      ],
      "text/plain": [
       "      Gender  Height_in  Height_m      Weight          BMI    zscore\n",
       "994     Male  78.095910  1.983635  115.979317   Overweight  3.048271\n",
       "1317    Male  78.462095  1.992936  103.120769   Overweight  3.143445\n",
       "2014    Male  78.998785  2.006568  122.465167      Obesity  3.282934\n",
       "3285    Male  78.528253  1.994617  115.162021   Overweight  3.160640\n",
       "3757    Male  78.621416  1.996983  111.462878   Overweight  3.184854\n",
       "6624  Female  54.616887  1.387268   32.383633  Underweight -3.054091\n",
       "9285  Female  54.263163  1.378284   29.347460  Underweight -3.146027"
      ]
     },
     "execution_count": 22,
     "metadata": {},
     "output_type": "execute_result"
    }
   ],
   "source": [
    "df[(df.zscore<-3)|(df.zscore>3)] #Outlier"
   ]
  },
  {
   "cell_type": "code",
   "execution_count": null,
   "id": "b6730cbf",
   "metadata": {},
   "outputs": [],
   "source": []
  },
  {
   "cell_type": "markdown",
   "id": "de974da7",
   "metadata": {},
   "source": [
    "## (1) Treat outliers using percentile first"
   ]
  },
  {
   "cell_type": "code",
   "execution_count": 23,
   "id": "d88af867",
   "metadata": {},
   "outputs": [],
   "source": [
    "lower_limit, upper_limit = df.Height_in.quantile([0.001, 0.999])"
   ]
  },
  {
   "cell_type": "code",
   "execution_count": 24,
   "id": "eedcc0f4",
   "metadata": {},
   "outputs": [
    {
     "data": {
      "text/plain": [
       "(56.06657917149, 77.0674301371)"
      ]
     },
     "execution_count": 24,
     "metadata": {},
     "output_type": "execute_result"
    }
   ],
   "source": [
    "lower_limit, upper_limit"
   ]
  },
  {
   "cell_type": "code",
   "execution_count": 25,
   "id": "c413feac",
   "metadata": {},
   "outputs": [],
   "source": [
    "outliers = df[(df.Height_in>upper_limit) | (df.Height_in<lower_limit)]"
   ]
  },
  {
   "cell_type": "code",
   "execution_count": 26,
   "id": "c7f97b4b",
   "metadata": {},
   "outputs": [
    {
     "data": {
      "text/html": [
       "<div>\n",
       "<style scoped>\n",
       "    .dataframe tbody tr th:only-of-type {\n",
       "        vertical-align: middle;\n",
       "    }\n",
       "\n",
       "    .dataframe tbody tr th {\n",
       "        vertical-align: top;\n",
       "    }\n",
       "\n",
       "    .dataframe thead th {\n",
       "        text-align: right;\n",
       "    }\n",
       "</style>\n",
       "<table border=\"1\" class=\"dataframe\">\n",
       "  <thead>\n",
       "    <tr style=\"text-align: right;\">\n",
       "      <th></th>\n",
       "      <th>Gender</th>\n",
       "      <th>Height_in</th>\n",
       "      <th>Height_m</th>\n",
       "      <th>Weight</th>\n",
       "      <th>BMI</th>\n",
       "      <th>zscore</th>\n",
       "    </tr>\n",
       "  </thead>\n",
       "  <tbody>\n",
       "    <tr>\n",
       "      <th>912</th>\n",
       "      <td>Male</td>\n",
       "      <td>77.160843</td>\n",
       "      <td>1.959884</td>\n",
       "      <td>103.739802</td>\n",
       "      <td>Overweight</td>\n",
       "      <td>2.805240</td>\n",
       "    </tr>\n",
       "    <tr>\n",
       "      <th>994</th>\n",
       "      <td>Male</td>\n",
       "      <td>78.095910</td>\n",
       "      <td>1.983635</td>\n",
       "      <td>115.979317</td>\n",
       "      <td>Overweight</td>\n",
       "      <td>3.048271</td>\n",
       "    </tr>\n",
       "    <tr>\n",
       "      <th>1317</th>\n",
       "      <td>Male</td>\n",
       "      <td>78.462095</td>\n",
       "      <td>1.992936</td>\n",
       "      <td>103.120769</td>\n",
       "      <td>Overweight</td>\n",
       "      <td>3.143445</td>\n",
       "    </tr>\n",
       "    <tr>\n",
       "      <th>1922</th>\n",
       "      <td>Male</td>\n",
       "      <td>77.446662</td>\n",
       "      <td>1.967144</td>\n",
       "      <td>105.528668</td>\n",
       "      <td>Overweight</td>\n",
       "      <td>2.879527</td>\n",
       "    </tr>\n",
       "    <tr>\n",
       "      <th>2014</th>\n",
       "      <td>Male</td>\n",
       "      <td>78.998785</td>\n",
       "      <td>2.006568</td>\n",
       "      <td>122.465167</td>\n",
       "      <td>Obesity</td>\n",
       "      <td>3.282934</td>\n",
       "    </tr>\n",
       "    <tr>\n",
       "      <th>2070</th>\n",
       "      <td>Male</td>\n",
       "      <td>77.465611</td>\n",
       "      <td>1.967625</td>\n",
       "      <td>114.557694</td>\n",
       "      <td>Overweight</td>\n",
       "      <td>2.884452</td>\n",
       "    </tr>\n",
       "    <tr>\n",
       "      <th>3285</th>\n",
       "      <td>Male</td>\n",
       "      <td>78.528253</td>\n",
       "      <td>1.994617</td>\n",
       "      <td>115.162021</td>\n",
       "      <td>Overweight</td>\n",
       "      <td>3.160640</td>\n",
       "    </tr>\n",
       "    <tr>\n",
       "      <th>3757</th>\n",
       "      <td>Male</td>\n",
       "      <td>78.621416</td>\n",
       "      <td>1.996983</td>\n",
       "      <td>111.462878</td>\n",
       "      <td>Overweight</td>\n",
       "      <td>3.184854</td>\n",
       "    </tr>\n",
       "    <tr>\n",
       "      <th>4297</th>\n",
       "      <td>Male</td>\n",
       "      <td>77.100914</td>\n",
       "      <td>1.958362</td>\n",
       "      <td>109.068624</td>\n",
       "      <td>Overweight</td>\n",
       "      <td>2.789664</td>\n",
       "    </tr>\n",
       "    <tr>\n",
       "      <th>4569</th>\n",
       "      <td>Male</td>\n",
       "      <td>77.547228</td>\n",
       "      <td>1.969699</td>\n",
       "      <td>109.787940</td>\n",
       "      <td>Overweight</td>\n",
       "      <td>2.905665</td>\n",
       "    </tr>\n",
       "    <tr>\n",
       "      <th>5345</th>\n",
       "      <td>Female</td>\n",
       "      <td>55.336522</td>\n",
       "      <td>1.405547</td>\n",
       "      <td>40.082375</td>\n",
       "      <td>Normal</td>\n",
       "      <td>-2.867053</td>\n",
       "    </tr>\n",
       "    <tr>\n",
       "      <th>5360</th>\n",
       "      <td>Female</td>\n",
       "      <td>55.668232</td>\n",
       "      <td>1.413972</td>\n",
       "      <td>31.289924</td>\n",
       "      <td>Underweight</td>\n",
       "      <td>-2.780839</td>\n",
       "    </tr>\n",
       "    <tr>\n",
       "      <th>6176</th>\n",
       "      <td>Female</td>\n",
       "      <td>55.851244</td>\n",
       "      <td>1.418621</td>\n",
       "      <td>47.067943</td>\n",
       "      <td>Normal</td>\n",
       "      <td>-2.733273</td>\n",
       "    </tr>\n",
       "    <tr>\n",
       "      <th>6624</th>\n",
       "      <td>Female</td>\n",
       "      <td>54.616887</td>\n",
       "      <td>1.387268</td>\n",
       "      <td>32.383633</td>\n",
       "      <td>Underweight</td>\n",
       "      <td>-3.054091</td>\n",
       "    </tr>\n",
       "    <tr>\n",
       "      <th>6625</th>\n",
       "      <td>Female</td>\n",
       "      <td>55.739767</td>\n",
       "      <td>1.415789</td>\n",
       "      <td>49.043260</td>\n",
       "      <td>Normal</td>\n",
       "      <td>-2.762247</td>\n",
       "    </tr>\n",
       "    <tr>\n",
       "      <th>7294</th>\n",
       "      <td>Female</td>\n",
       "      <td>54.873757</td>\n",
       "      <td>1.393793</td>\n",
       "      <td>35.655357</td>\n",
       "      <td>Underweight</td>\n",
       "      <td>-2.987329</td>\n",
       "    </tr>\n",
       "    <tr>\n",
       "      <th>7617</th>\n",
       "      <td>Female</td>\n",
       "      <td>55.148587</td>\n",
       "      <td>1.400773</td>\n",
       "      <td>40.284600</td>\n",
       "      <td>Normal</td>\n",
       "      <td>-2.915899</td>\n",
       "    </tr>\n",
       "    <tr>\n",
       "      <th>8692</th>\n",
       "      <td>Female</td>\n",
       "      <td>55.651922</td>\n",
       "      <td>1.413558</td>\n",
       "      <td>38.837353</td>\n",
       "      <td>Normal</td>\n",
       "      <td>-2.785079</td>\n",
       "    </tr>\n",
       "    <tr>\n",
       "      <th>9285</th>\n",
       "      <td>Female</td>\n",
       "      <td>54.263163</td>\n",
       "      <td>1.378284</td>\n",
       "      <td>29.347460</td>\n",
       "      <td>Underweight</td>\n",
       "      <td>-3.146027</td>\n",
       "    </tr>\n",
       "    <tr>\n",
       "      <th>9825</th>\n",
       "      <td>Female</td>\n",
       "      <td>55.979228</td>\n",
       "      <td>1.421872</td>\n",
       "      <td>38.744710</td>\n",
       "      <td>Normal</td>\n",
       "      <td>-2.700009</td>\n",
       "    </tr>\n",
       "  </tbody>\n",
       "</table>\n",
       "</div>"
      ],
      "text/plain": [
       "      Gender  Height_in  Height_m      Weight          BMI    zscore\n",
       "912     Male  77.160843  1.959884  103.739802   Overweight  2.805240\n",
       "994     Male  78.095910  1.983635  115.979317   Overweight  3.048271\n",
       "1317    Male  78.462095  1.992936  103.120769   Overweight  3.143445\n",
       "1922    Male  77.446662  1.967144  105.528668   Overweight  2.879527\n",
       "2014    Male  78.998785  2.006568  122.465167      Obesity  3.282934\n",
       "2070    Male  77.465611  1.967625  114.557694   Overweight  2.884452\n",
       "3285    Male  78.528253  1.994617  115.162021   Overweight  3.160640\n",
       "3757    Male  78.621416  1.996983  111.462878   Overweight  3.184854\n",
       "4297    Male  77.100914  1.958362  109.068624   Overweight  2.789664\n",
       "4569    Male  77.547228  1.969699  109.787940   Overweight  2.905665\n",
       "5345  Female  55.336522  1.405547   40.082375       Normal -2.867053\n",
       "5360  Female  55.668232  1.413972   31.289924  Underweight -2.780839\n",
       "6176  Female  55.851244  1.418621   47.067943       Normal -2.733273\n",
       "6624  Female  54.616887  1.387268   32.383633  Underweight -3.054091\n",
       "6625  Female  55.739767  1.415789   49.043260       Normal -2.762247\n",
       "7294  Female  54.873757  1.393793   35.655357  Underweight -2.987329\n",
       "7617  Female  55.148587  1.400773   40.284600       Normal -2.915899\n",
       "8692  Female  55.651922  1.413558   38.837353       Normal -2.785079\n",
       "9285  Female  54.263163  1.378284   29.347460  Underweight -3.146027\n",
       "9825  Female  55.979228  1.421872   38.744710       Normal -2.700009"
      ]
     },
     "execution_count": 26,
     "metadata": {},
     "output_type": "execute_result"
    }
   ],
   "source": [
    "outliers"
   ]
  },
  {
   "cell_type": "code",
   "execution_count": 27,
   "id": "06639d3c",
   "metadata": {},
   "outputs": [
    {
     "data": {
      "text/plain": [
       "(20, 6)"
      ]
     },
     "execution_count": 27,
     "metadata": {},
     "output_type": "execute_result"
    }
   ],
   "source": [
    "outliers.shape"
   ]
  },
  {
   "cell_type": "code",
   "execution_count": null,
   "id": "1040db13",
   "metadata": {},
   "outputs": [],
   "source": []
  },
  {
   "cell_type": "markdown",
   "id": "d611470d",
   "metadata": {},
   "source": [
    "## (2) New Dataframe"
   ]
  },
  {
   "cell_type": "code",
   "execution_count": 28,
   "id": "9f1e9ba9",
   "metadata": {},
   "outputs": [],
   "source": [
    "ndf = df[(df.Height_in<upper_limit) & (df.Height_in>lower_limit)]"
   ]
  },
  {
   "cell_type": "code",
   "execution_count": 29,
   "id": "deaa8f9c",
   "metadata": {},
   "outputs": [
    {
     "data": {
      "text/html": [
       "<div>\n",
       "<style scoped>\n",
       "    .dataframe tbody tr th:only-of-type {\n",
       "        vertical-align: middle;\n",
       "    }\n",
       "\n",
       "    .dataframe tbody tr th {\n",
       "        vertical-align: top;\n",
       "    }\n",
       "\n",
       "    .dataframe thead th {\n",
       "        text-align: right;\n",
       "    }\n",
       "</style>\n",
       "<table border=\"1\" class=\"dataframe\">\n",
       "  <thead>\n",
       "    <tr style=\"text-align: right;\">\n",
       "      <th></th>\n",
       "      <th>Gender</th>\n",
       "      <th>Height_in</th>\n",
       "      <th>Height_m</th>\n",
       "      <th>Weight</th>\n",
       "      <th>BMI</th>\n",
       "      <th>zscore</th>\n",
       "    </tr>\n",
       "  </thead>\n",
       "  <tbody>\n",
       "    <tr>\n",
       "      <th>0</th>\n",
       "      <td>Male</td>\n",
       "      <td>73.847057</td>\n",
       "      <td>1.875714</td>\n",
       "      <td>109.720985</td>\n",
       "      <td>Obesity</td>\n",
       "      <td>1.943964</td>\n",
       "    </tr>\n",
       "    <tr>\n",
       "      <th>1</th>\n",
       "      <td>Male</td>\n",
       "      <td>68.781941</td>\n",
       "      <td>1.747060</td>\n",
       "      <td>73.622732</td>\n",
       "      <td>Normal</td>\n",
       "      <td>0.627505</td>\n",
       "    </tr>\n",
       "    <tr>\n",
       "      <th>2</th>\n",
       "      <td>Male</td>\n",
       "      <td>74.110145</td>\n",
       "      <td>1.882397</td>\n",
       "      <td>96.497550</td>\n",
       "      <td>Overweight</td>\n",
       "      <td>2.012343</td>\n",
       "    </tr>\n",
       "    <tr>\n",
       "      <th>3</th>\n",
       "      <td>Male</td>\n",
       "      <td>71.731017</td>\n",
       "      <td>1.821967</td>\n",
       "      <td>99.809504</td>\n",
       "      <td>Obesity</td>\n",
       "      <td>1.393991</td>\n",
       "    </tr>\n",
       "    <tr>\n",
       "      <th>4</th>\n",
       "      <td>Male</td>\n",
       "      <td>69.881834</td>\n",
       "      <td>1.774998</td>\n",
       "      <td>93.598619</td>\n",
       "      <td>Overweight</td>\n",
       "      <td>0.913375</td>\n",
       "    </tr>\n",
       "  </tbody>\n",
       "</table>\n",
       "</div>"
      ],
      "text/plain": [
       "  Gender  Height_in  Height_m      Weight         BMI    zscore\n",
       "0   Male  73.847057  1.875714  109.720985     Obesity  1.943964\n",
       "1   Male  68.781941  1.747060   73.622732      Normal  0.627505\n",
       "2   Male  74.110145  1.882397   96.497550  Overweight  2.012343\n",
       "3   Male  71.731017  1.821967   99.809504     Obesity  1.393991\n",
       "4   Male  69.881834  1.774998   93.598619  Overweight  0.913375"
      ]
     },
     "execution_count": 29,
     "metadata": {},
     "output_type": "execute_result"
    }
   ],
   "source": [
    "ndf.head()"
   ]
  },
  {
   "cell_type": "code",
   "execution_count": 30,
   "id": "1ee85207",
   "metadata": {},
   "outputs": [
    {
     "data": {
      "text/plain": [
       "(9980, 6)"
      ]
     },
     "execution_count": 30,
     "metadata": {},
     "output_type": "execute_result"
    }
   ],
   "source": [
    "ndf.shape"
   ]
  },
  {
   "cell_type": "code",
   "execution_count": 31,
   "id": "e9b32a12",
   "metadata": {},
   "outputs": [
    {
     "data": {
      "text/plain": [
       "count    9980.000000\n",
       "mean       66.367074\n",
       "std         3.817815\n",
       "min        56.066667\n",
       "25%        63.520188\n",
       "50%        66.318106\n",
       "75%        69.169077\n",
       "max        77.067397\n",
       "Name: Height_in, dtype: float64"
      ]
     },
     "execution_count": 31,
     "metadata": {},
     "output_type": "execute_result"
    }
   ],
   "source": [
    "ndf.Height_in.describe()"
   ]
  },
  {
   "cell_type": "code",
   "execution_count": null,
   "id": "a852c7cf",
   "metadata": {},
   "outputs": [],
   "source": []
  },
  {
   "cell_type": "markdown",
   "id": "1e96eb2c",
   "metadata": {},
   "source": [
    "## (3) Use 4 standard deviation to remove outliers"
   ]
  },
  {
   "cell_type": "code",
   "execution_count": 32,
   "id": "7ac2144c",
   "metadata": {},
   "outputs": [
    {
     "data": {
      "text/plain": [
       "66.36707403875658"
      ]
     },
     "execution_count": 32,
     "metadata": {},
     "output_type": "execute_result"
    }
   ],
   "source": [
    "mean = ndf.Height_in.mean()\n",
    "mean"
   ]
  },
  {
   "cell_type": "code",
   "execution_count": 33,
   "id": "281e6f5f",
   "metadata": {},
   "outputs": [
    {
     "data": {
      "text/plain": [
       "3.8178153556181122"
      ]
     },
     "execution_count": 33,
     "metadata": {},
     "output_type": "execute_result"
    }
   ],
   "source": [
    "std = ndf.Height_in.std()\n",
    "std"
   ]
  },
  {
   "cell_type": "code",
   "execution_count": 34,
   "id": "ec10204f",
   "metadata": {},
   "outputs": [
    {
     "data": {
      "text/plain": [
       "51.095812616284135"
      ]
     },
     "execution_count": 34,
     "metadata": {},
     "output_type": "execute_result"
    }
   ],
   "source": [
    "mean-4*std"
   ]
  },
  {
   "cell_type": "code",
   "execution_count": 35,
   "id": "fee28bb8",
   "metadata": {},
   "outputs": [
    {
     "data": {
      "text/plain": [
       "81.63833546122903"
      ]
     },
     "execution_count": 35,
     "metadata": {},
     "output_type": "execute_result"
    }
   ],
   "source": [
    "mean+4*std"
   ]
  },
  {
   "cell_type": "code",
   "execution_count": 36,
   "id": "f0c266bb",
   "metadata": {},
   "outputs": [],
   "source": [
    "ndf_outliers = ndf[(ndf.Height_in<51.09) | (ndf.Height_in>81.63)]"
   ]
  },
  {
   "cell_type": "code",
   "execution_count": 37,
   "id": "09750f4c",
   "metadata": {},
   "outputs": [
    {
     "data": {
      "text/html": [
       "<div>\n",
       "<style scoped>\n",
       "    .dataframe tbody tr th:only-of-type {\n",
       "        vertical-align: middle;\n",
       "    }\n",
       "\n",
       "    .dataframe tbody tr th {\n",
       "        vertical-align: top;\n",
       "    }\n",
       "\n",
       "    .dataframe thead th {\n",
       "        text-align: right;\n",
       "    }\n",
       "</style>\n",
       "<table border=\"1\" class=\"dataframe\">\n",
       "  <thead>\n",
       "    <tr style=\"text-align: right;\">\n",
       "      <th></th>\n",
       "      <th>Gender</th>\n",
       "      <th>Height_in</th>\n",
       "      <th>Height_m</th>\n",
       "      <th>Weight</th>\n",
       "      <th>BMI</th>\n",
       "      <th>zscore</th>\n",
       "    </tr>\n",
       "  </thead>\n",
       "  <tbody>\n",
       "  </tbody>\n",
       "</table>\n",
       "</div>"
      ],
      "text/plain": [
       "Empty DataFrame\n",
       "Columns: [Gender, Height_in, Height_m, Weight, BMI, zscore]\n",
       "Index: []"
      ]
     },
     "execution_count": 37,
     "metadata": {},
     "output_type": "execute_result"
    }
   ],
   "source": [
    "ndf_outliers"
   ]
  },
  {
   "cell_type": "code",
   "execution_count": 38,
   "id": "aa6691bb",
   "metadata": {},
   "outputs": [],
   "source": [
    "ndf_no_outliers = ndf[(ndf.Height_in>51.09) & (ndf.Height_in<81.63)]"
   ]
  },
  {
   "cell_type": "code",
   "execution_count": 39,
   "id": "a7c463ae",
   "metadata": {},
   "outputs": [
    {
     "data": {
      "text/html": [
       "<div>\n",
       "<style scoped>\n",
       "    .dataframe tbody tr th:only-of-type {\n",
       "        vertical-align: middle;\n",
       "    }\n",
       "\n",
       "    .dataframe tbody tr th {\n",
       "        vertical-align: top;\n",
       "    }\n",
       "\n",
       "    .dataframe thead th {\n",
       "        text-align: right;\n",
       "    }\n",
       "</style>\n",
       "<table border=\"1\" class=\"dataframe\">\n",
       "  <thead>\n",
       "    <tr style=\"text-align: right;\">\n",
       "      <th></th>\n",
       "      <th>Gender</th>\n",
       "      <th>Height_in</th>\n",
       "      <th>Height_m</th>\n",
       "      <th>Weight</th>\n",
       "      <th>BMI</th>\n",
       "      <th>zscore</th>\n",
       "    </tr>\n",
       "  </thead>\n",
       "  <tbody>\n",
       "    <tr>\n",
       "      <th>0</th>\n",
       "      <td>Male</td>\n",
       "      <td>73.847057</td>\n",
       "      <td>1.875714</td>\n",
       "      <td>109.720985</td>\n",
       "      <td>Obesity</td>\n",
       "      <td>1.943964</td>\n",
       "    </tr>\n",
       "    <tr>\n",
       "      <th>1</th>\n",
       "      <td>Male</td>\n",
       "      <td>68.781941</td>\n",
       "      <td>1.747060</td>\n",
       "      <td>73.622732</td>\n",
       "      <td>Normal</td>\n",
       "      <td>0.627505</td>\n",
       "    </tr>\n",
       "    <tr>\n",
       "      <th>2</th>\n",
       "      <td>Male</td>\n",
       "      <td>74.110145</td>\n",
       "      <td>1.882397</td>\n",
       "      <td>96.497550</td>\n",
       "      <td>Overweight</td>\n",
       "      <td>2.012343</td>\n",
       "    </tr>\n",
       "    <tr>\n",
       "      <th>3</th>\n",
       "      <td>Male</td>\n",
       "      <td>71.731017</td>\n",
       "      <td>1.821967</td>\n",
       "      <td>99.809504</td>\n",
       "      <td>Obesity</td>\n",
       "      <td>1.393991</td>\n",
       "    </tr>\n",
       "    <tr>\n",
       "      <th>4</th>\n",
       "      <td>Male</td>\n",
       "      <td>69.881834</td>\n",
       "      <td>1.774998</td>\n",
       "      <td>93.598619</td>\n",
       "      <td>Overweight</td>\n",
       "      <td>0.913375</td>\n",
       "    </tr>\n",
       "    <tr>\n",
       "      <th>...</th>\n",
       "      <td>...</td>\n",
       "      <td>...</td>\n",
       "      <td>...</td>\n",
       "      <td>...</td>\n",
       "      <td>...</td>\n",
       "      <td>...</td>\n",
       "    </tr>\n",
       "    <tr>\n",
       "      <th>9995</th>\n",
       "      <td>Female</td>\n",
       "      <td>66.172688</td>\n",
       "      <td>1.680785</td>\n",
       "      <td>62.041159</td>\n",
       "      <td>Normal</td>\n",
       "      <td>-0.050658</td>\n",
       "    </tr>\n",
       "    <tr>\n",
       "      <th>9996</th>\n",
       "      <td>Female</td>\n",
       "      <td>67.067191</td>\n",
       "      <td>1.703506</td>\n",
       "      <td>77.504315</td>\n",
       "      <td>Overweight</td>\n",
       "      <td>0.181830</td>\n",
       "    </tr>\n",
       "    <tr>\n",
       "      <th>9997</th>\n",
       "      <td>Female</td>\n",
       "      <td>63.868027</td>\n",
       "      <td>1.622247</td>\n",
       "      <td>58.275377</td>\n",
       "      <td>Normal</td>\n",
       "      <td>-0.649655</td>\n",
       "    </tr>\n",
       "    <tr>\n",
       "      <th>9998</th>\n",
       "      <td>Female</td>\n",
       "      <td>69.034280</td>\n",
       "      <td>1.753470</td>\n",
       "      <td>74.322166</td>\n",
       "      <td>Normal</td>\n",
       "      <td>0.693090</td>\n",
       "    </tr>\n",
       "    <tr>\n",
       "      <th>9999</th>\n",
       "      <td>Female</td>\n",
       "      <td>61.944279</td>\n",
       "      <td>1.573384</td>\n",
       "      <td>51.550324</td>\n",
       "      <td>Normal</td>\n",
       "      <td>-1.149651</td>\n",
       "    </tr>\n",
       "  </tbody>\n",
       "</table>\n",
       "<p>9980 rows × 6 columns</p>\n",
       "</div>"
      ],
      "text/plain": [
       "      Gender  Height_in  Height_m      Weight         BMI    zscore\n",
       "0       Male  73.847057  1.875714  109.720985     Obesity  1.943964\n",
       "1       Male  68.781941  1.747060   73.622732      Normal  0.627505\n",
       "2       Male  74.110145  1.882397   96.497550  Overweight  2.012343\n",
       "3       Male  71.731017  1.821967   99.809504     Obesity  1.393991\n",
       "4       Male  69.881834  1.774998   93.598619  Overweight  0.913375\n",
       "...      ...        ...       ...         ...         ...       ...\n",
       "9995  Female  66.172688  1.680785   62.041159      Normal -0.050658\n",
       "9996  Female  67.067191  1.703506   77.504315  Overweight  0.181830\n",
       "9997  Female  63.868027  1.622247   58.275377      Normal -0.649655\n",
       "9998  Female  69.034280  1.753470   74.322166      Normal  0.693090\n",
       "9999  Female  61.944279  1.573384   51.550324      Normal -1.149651\n",
       "\n",
       "[9980 rows x 6 columns]"
      ]
     },
     "execution_count": 39,
     "metadata": {},
     "output_type": "execute_result"
    }
   ],
   "source": [
    "ndf_no_outliers"
   ]
  },
  {
   "cell_type": "code",
   "execution_count": null,
   "id": "c979f00b",
   "metadata": {},
   "outputs": [],
   "source": []
  },
  {
   "cell_type": "markdown",
   "id": "beee28de",
   "metadata": {},
   "source": [
    "## (4) Plotting Histogram"
   ]
  },
  {
   "cell_type": "code",
   "execution_count": 40,
   "id": "d3189358",
   "metadata": {},
   "outputs": [
    {
     "data": {
      "text/plain": [
       "<AxesSubplot:xlabel='Height_in', ylabel='Count'>"
      ]
     },
     "execution_count": 40,
     "metadata": {},
     "output_type": "execute_result"
    },
    {
     "data": {
      "image/png": "[encoded data removed]",
      "text/plain": [
       "<Figure size 432x288 with 1 Axes>"
      ]
     },
     "metadata": {
      "needs_background": "light"
     },
     "output_type": "display_data"
    }
   ],
   "source": [
    "sn.histplot(ndf_no_outliers.Height_in, kde=True)"
   ]
  },
  {
   "cell_type": "code",
   "execution_count": null,
   "id": "74bf2fa4",
   "metadata": {},
   "outputs": [],
   "source": []
  },
  {
   "cell_type": "markdown",
   "id": "2409bff7",
   "metadata": {},
   "source": [
    "## (5) Removing Outliers with zscore of 4"
   ]
  },
  {
   "cell_type": "code",
   "execution_count": 41,
   "id": "8c158839",
   "metadata": {},
   "outputs": [],
   "source": [
    "n1df = ndf_no_outliers.copy()"
   ]
  },
  {
   "cell_type": "code",
   "execution_count": 42,
   "id": "c2c5a745",
   "metadata": {},
   "outputs": [
    {
     "data": {
      "text/html": [
       "<div>\n",
       "<style scoped>\n",
       "    .dataframe tbody tr th:only-of-type {\n",
       "        vertical-align: middle;\n",
       "    }\n",
       "\n",
       "    .dataframe tbody tr th {\n",
       "        vertical-align: top;\n",
       "    }\n",
       "\n",
       "    .dataframe thead th {\n",
       "        text-align: right;\n",
       "    }\n",
       "</style>\n",
       "<table border=\"1\" class=\"dataframe\">\n",
       "  <thead>\n",
       "    <tr style=\"text-align: right;\">\n",
       "      <th></th>\n",
       "      <th>Gender</th>\n",
       "      <th>Height_in</th>\n",
       "      <th>Height_m</th>\n",
       "      <th>Weight</th>\n",
       "      <th>BMI</th>\n",
       "      <th>zscore</th>\n",
       "    </tr>\n",
       "  </thead>\n",
       "  <tbody>\n",
       "    <tr>\n",
       "      <th>0</th>\n",
       "      <td>Male</td>\n",
       "      <td>73.847057</td>\n",
       "      <td>1.875714</td>\n",
       "      <td>109.720985</td>\n",
       "      <td>Obesity</td>\n",
       "      <td>1.943964</td>\n",
       "    </tr>\n",
       "    <tr>\n",
       "      <th>1</th>\n",
       "      <td>Male</td>\n",
       "      <td>68.781941</td>\n",
       "      <td>1.747060</td>\n",
       "      <td>73.622732</td>\n",
       "      <td>Normal</td>\n",
       "      <td>0.627505</td>\n",
       "    </tr>\n",
       "    <tr>\n",
       "      <th>2</th>\n",
       "      <td>Male</td>\n",
       "      <td>74.110145</td>\n",
       "      <td>1.882397</td>\n",
       "      <td>96.497550</td>\n",
       "      <td>Overweight</td>\n",
       "      <td>2.012343</td>\n",
       "    </tr>\n",
       "    <tr>\n",
       "      <th>3</th>\n",
       "      <td>Male</td>\n",
       "      <td>71.731017</td>\n",
       "      <td>1.821967</td>\n",
       "      <td>99.809504</td>\n",
       "      <td>Obesity</td>\n",
       "      <td>1.393991</td>\n",
       "    </tr>\n",
       "    <tr>\n",
       "      <th>4</th>\n",
       "      <td>Male</td>\n",
       "      <td>69.881834</td>\n",
       "      <td>1.774998</td>\n",
       "      <td>93.598619</td>\n",
       "      <td>Overweight</td>\n",
       "      <td>0.913375</td>\n",
       "    </tr>\n",
       "  </tbody>\n",
       "</table>\n",
       "</div>"
      ],
      "text/plain": [
       "  Gender  Height_in  Height_m      Weight         BMI    zscore\n",
       "0   Male  73.847057  1.875714  109.720985     Obesity  1.943964\n",
       "1   Male  68.781941  1.747060   73.622732      Normal  0.627505\n",
       "2   Male  74.110145  1.882397   96.497550  Overweight  2.012343\n",
       "3   Male  71.731017  1.821967   99.809504     Obesity  1.393991\n",
       "4   Male  69.881834  1.774998   93.598619  Overweight  0.913375"
      ]
     },
     "execution_count": 42,
     "metadata": {},
     "output_type": "execute_result"
    }
   ],
   "source": [
    "n1df.head()"
   ]
  },
  {
   "cell_type": "code",
   "execution_count": 43,
   "id": "f4c902a7",
   "metadata": {},
   "outputs": [
    {
     "data": {
      "text/html": [
       "<div>\n",
       "<style scoped>\n",
       "    .dataframe tbody tr th:only-of-type {\n",
       "        vertical-align: middle;\n",
       "    }\n",
       "\n",
       "    .dataframe tbody tr th {\n",
       "        vertical-align: top;\n",
       "    }\n",
       "\n",
       "    .dataframe thead th {\n",
       "        text-align: right;\n",
       "    }\n",
       "</style>\n",
       "<table border=\"1\" class=\"dataframe\">\n",
       "  <thead>\n",
       "    <tr style=\"text-align: right;\">\n",
       "      <th></th>\n",
       "      <th>Gender</th>\n",
       "      <th>Height_in</th>\n",
       "      <th>Height_m</th>\n",
       "      <th>Weight</th>\n",
       "      <th>BMI</th>\n",
       "    </tr>\n",
       "  </thead>\n",
       "  <tbody>\n",
       "    <tr>\n",
       "      <th>0</th>\n",
       "      <td>Male</td>\n",
       "      <td>73.847057</td>\n",
       "      <td>1.875714</td>\n",
       "      <td>109.720985</td>\n",
       "      <td>Obesity</td>\n",
       "    </tr>\n",
       "    <tr>\n",
       "      <th>1</th>\n",
       "      <td>Male</td>\n",
       "      <td>68.781941</td>\n",
       "      <td>1.747060</td>\n",
       "      <td>73.622732</td>\n",
       "      <td>Normal</td>\n",
       "    </tr>\n",
       "    <tr>\n",
       "      <th>2</th>\n",
       "      <td>Male</td>\n",
       "      <td>74.110145</td>\n",
       "      <td>1.882397</td>\n",
       "      <td>96.497550</td>\n",
       "      <td>Overweight</td>\n",
       "    </tr>\n",
       "    <tr>\n",
       "      <th>3</th>\n",
       "      <td>Male</td>\n",
       "      <td>71.731017</td>\n",
       "      <td>1.821967</td>\n",
       "      <td>99.809504</td>\n",
       "      <td>Obesity</td>\n",
       "    </tr>\n",
       "    <tr>\n",
       "      <th>4</th>\n",
       "      <td>Male</td>\n",
       "      <td>69.881834</td>\n",
       "      <td>1.774998</td>\n",
       "      <td>93.598619</td>\n",
       "      <td>Overweight</td>\n",
       "    </tr>\n",
       "    <tr>\n",
       "      <th>...</th>\n",
       "      <td>...</td>\n",
       "      <td>...</td>\n",
       "      <td>...</td>\n",
       "      <td>...</td>\n",
       "      <td>...</td>\n",
       "    </tr>\n",
       "    <tr>\n",
       "      <th>9995</th>\n",
       "      <td>Female</td>\n",
       "      <td>66.172688</td>\n",
       "      <td>1.680785</td>\n",
       "      <td>62.041159</td>\n",
       "      <td>Normal</td>\n",
       "    </tr>\n",
       "    <tr>\n",
       "      <th>9996</th>\n",
       "      <td>Female</td>\n",
       "      <td>67.067191</td>\n",
       "      <td>1.703506</td>\n",
       "      <td>77.504315</td>\n",
       "      <td>Overweight</td>\n",
       "    </tr>\n",
       "    <tr>\n",
       "      <th>9997</th>\n",
       "      <td>Female</td>\n",
       "      <td>63.868027</td>\n",
       "      <td>1.622247</td>\n",
       "      <td>58.275377</td>\n",
       "      <td>Normal</td>\n",
       "    </tr>\n",
       "    <tr>\n",
       "      <th>9998</th>\n",
       "      <td>Female</td>\n",
       "      <td>69.034280</td>\n",
       "      <td>1.753470</td>\n",
       "      <td>74.322166</td>\n",
       "      <td>Normal</td>\n",
       "    </tr>\n",
       "    <tr>\n",
       "      <th>9999</th>\n",
       "      <td>Female</td>\n",
       "      <td>61.944279</td>\n",
       "      <td>1.573384</td>\n",
       "      <td>51.550324</td>\n",
       "      <td>Normal</td>\n",
       "    </tr>\n",
       "  </tbody>\n",
       "</table>\n",
       "<p>9980 rows × 5 columns</p>\n",
       "</div>"
      ],
      "text/plain": [
       "      Gender  Height_in  Height_m      Weight         BMI\n",
       "0       Male  73.847057  1.875714  109.720985     Obesity\n",
       "1       Male  68.781941  1.747060   73.622732      Normal\n",
       "2       Male  74.110145  1.882397   96.497550  Overweight\n",
       "3       Male  71.731017  1.821967   99.809504     Obesity\n",
       "4       Male  69.881834  1.774998   93.598619  Overweight\n",
       "...      ...        ...       ...         ...         ...\n",
       "9995  Female  66.172688  1.680785   62.041159      Normal\n",
       "9996  Female  67.067191  1.703506   77.504315  Overweight\n",
       "9997  Female  63.868027  1.622247   58.275377      Normal\n",
       "9998  Female  69.034280  1.753470   74.322166      Normal\n",
       "9999  Female  61.944279  1.573384   51.550324      Normal\n",
       "\n",
       "[9980 rows x 5 columns]"
      ]
     },
     "execution_count": 43,
     "metadata": {},
     "output_type": "execute_result"
    }
   ],
   "source": [
    "n1df.drop(['zscore'], axis=1)"
   ]
  },
  {
   "cell_type": "code",
   "execution_count": null,
   "id": "0dbf72c5",
   "metadata": {},
   "outputs": [],
   "source": []
  },
  {
   "cell_type": "code",
   "execution_count": 44,
   "id": "5f8e4d04",
   "metadata": {},
   "outputs": [],
   "source": [
    "n1df['zscore'] = (n1df.Height_in - n1df.Height_in.mean())/n1df.Height_in.std()"
   ]
  },
  {
   "cell_type": "code",
   "execution_count": 45,
   "id": "b31b4d0a",
   "metadata": {},
   "outputs": [
    {
     "data": {
      "text/html": [
       "<div>\n",
       "<style scoped>\n",
       "    .dataframe tbody tr th:only-of-type {\n",
       "        vertical-align: middle;\n",
       "    }\n",
       "\n",
       "    .dataframe tbody tr th {\n",
       "        vertical-align: top;\n",
       "    }\n",
       "\n",
       "    .dataframe thead th {\n",
       "        text-align: right;\n",
       "    }\n",
       "</style>\n",
       "<table border=\"1\" class=\"dataframe\">\n",
       "  <thead>\n",
       "    <tr style=\"text-align: right;\">\n",
       "      <th></th>\n",
       "      <th>Gender</th>\n",
       "      <th>Height_in</th>\n",
       "      <th>Height_m</th>\n",
       "      <th>Weight</th>\n",
       "      <th>BMI</th>\n",
       "      <th>zscore</th>\n",
       "    </tr>\n",
       "  </thead>\n",
       "  <tbody>\n",
       "    <tr>\n",
       "      <th>0</th>\n",
       "      <td>Male</td>\n",
       "      <td>73.847057</td>\n",
       "      <td>1.875714</td>\n",
       "      <td>109.720985</td>\n",
       "      <td>Obesity</td>\n",
       "      <td>1.959231</td>\n",
       "    </tr>\n",
       "    <tr>\n",
       "      <th>1</th>\n",
       "      <td>Male</td>\n",
       "      <td>68.781941</td>\n",
       "      <td>1.747060</td>\n",
       "      <td>73.622732</td>\n",
       "      <td>Normal</td>\n",
       "      <td>0.632526</td>\n",
       "    </tr>\n",
       "    <tr>\n",
       "      <th>2</th>\n",
       "      <td>Male</td>\n",
       "      <td>74.110145</td>\n",
       "      <td>1.882397</td>\n",
       "      <td>96.497550</td>\n",
       "      <td>Overweight</td>\n",
       "      <td>2.028142</td>\n",
       "    </tr>\n",
       "    <tr>\n",
       "      <th>3</th>\n",
       "      <td>Male</td>\n",
       "      <td>71.731017</td>\n",
       "      <td>1.821967</td>\n",
       "      <td>99.809504</td>\n",
       "      <td>Obesity</td>\n",
       "      <td>1.404977</td>\n",
       "    </tr>\n",
       "    <tr>\n",
       "      <th>4</th>\n",
       "      <td>Male</td>\n",
       "      <td>69.881834</td>\n",
       "      <td>1.774998</td>\n",
       "      <td>93.598619</td>\n",
       "      <td>Overweight</td>\n",
       "      <td>0.920621</td>\n",
       "    </tr>\n",
       "    <tr>\n",
       "      <th>...</th>\n",
       "      <td>...</td>\n",
       "      <td>...</td>\n",
       "      <td>...</td>\n",
       "      <td>...</td>\n",
       "      <td>...</td>\n",
       "      <td>...</td>\n",
       "    </tr>\n",
       "    <tr>\n",
       "      <th>9995</th>\n",
       "      <td>Female</td>\n",
       "      <td>66.172688</td>\n",
       "      <td>1.680785</td>\n",
       "      <td>62.041159</td>\n",
       "      <td>Normal</td>\n",
       "      <td>-0.050916</td>\n",
       "    </tr>\n",
       "    <tr>\n",
       "      <th>9996</th>\n",
       "      <td>Female</td>\n",
       "      <td>67.067191</td>\n",
       "      <td>1.703506</td>\n",
       "      <td>77.504315</td>\n",
       "      <td>Overweight</td>\n",
       "      <td>0.183382</td>\n",
       "    </tr>\n",
       "    <tr>\n",
       "      <th>9997</th>\n",
       "      <td>Female</td>\n",
       "      <td>63.868027</td>\n",
       "      <td>1.622247</td>\n",
       "      <td>58.275377</td>\n",
       "      <td>Normal</td>\n",
       "      <td>-0.654575</td>\n",
       "    </tr>\n",
       "    <tr>\n",
       "      <th>9998</th>\n",
       "      <td>Female</td>\n",
       "      <td>69.034280</td>\n",
       "      <td>1.753470</td>\n",
       "      <td>74.322166</td>\n",
       "      <td>Normal</td>\n",
       "      <td>0.698621</td>\n",
       "    </tr>\n",
       "    <tr>\n",
       "      <th>9999</th>\n",
       "      <td>Female</td>\n",
       "      <td>61.944279</td>\n",
       "      <td>1.573384</td>\n",
       "      <td>51.550324</td>\n",
       "      <td>Normal</td>\n",
       "      <td>-1.158462</td>\n",
       "    </tr>\n",
       "  </tbody>\n",
       "</table>\n",
       "<p>9980 rows × 6 columns</p>\n",
       "</div>"
      ],
      "text/plain": [
       "      Gender  Height_in  Height_m      Weight         BMI    zscore\n",
       "0       Male  73.847057  1.875714  109.720985     Obesity  1.959231\n",
       "1       Male  68.781941  1.747060   73.622732      Normal  0.632526\n",
       "2       Male  74.110145  1.882397   96.497550  Overweight  2.028142\n",
       "3       Male  71.731017  1.821967   99.809504     Obesity  1.404977\n",
       "4       Male  69.881834  1.774998   93.598619  Overweight  0.920621\n",
       "...      ...        ...       ...         ...         ...       ...\n",
       "9995  Female  66.172688  1.680785   62.041159      Normal -0.050916\n",
       "9996  Female  67.067191  1.703506   77.504315  Overweight  0.183382\n",
       "9997  Female  63.868027  1.622247   58.275377      Normal -0.654575\n",
       "9998  Female  69.034280  1.753470   74.322166      Normal  0.698621\n",
       "9999  Female  61.944279  1.573384   51.550324      Normal -1.158462\n",
       "\n",
       "[9980 rows x 6 columns]"
      ]
     },
     "execution_count": 45,
     "metadata": {},
     "output_type": "execute_result"
    }
   ],
   "source": [
    "n1df"
   ]
  },
  {
   "cell_type": "code",
   "execution_count": null,
   "id": "a5776fda",
   "metadata": {},
   "outputs": [],
   "source": []
  },
  {
   "cell_type": "code",
   "execution_count": 46,
   "id": "17307c35",
   "metadata": {},
   "outputs": [
    {
     "data": {
      "text/html": [
       "<div>\n",
       "<style scoped>\n",
       "    .dataframe tbody tr th:only-of-type {\n",
       "        vertical-align: middle;\n",
       "    }\n",
       "\n",
       "    .dataframe tbody tr th {\n",
       "        vertical-align: top;\n",
       "    }\n",
       "\n",
       "    .dataframe thead th {\n",
       "        text-align: right;\n",
       "    }\n",
       "</style>\n",
       "<table border=\"1\" class=\"dataframe\">\n",
       "  <thead>\n",
       "    <tr style=\"text-align: right;\">\n",
       "      <th></th>\n",
       "      <th>Gender</th>\n",
       "      <th>Height_in</th>\n",
       "      <th>Height_m</th>\n",
       "      <th>Weight</th>\n",
       "      <th>BMI</th>\n",
       "      <th>zscore</th>\n",
       "    </tr>\n",
       "  </thead>\n",
       "  <tbody>\n",
       "  </tbody>\n",
       "</table>\n",
       "</div>"
      ],
      "text/plain": [
       "Empty DataFrame\n",
       "Columns: [Gender, Height_in, Height_m, Weight, BMI, zscore]\n",
       "Index: []"
      ]
     },
     "execution_count": 46,
     "metadata": {},
     "output_type": "execute_result"
    }
   ],
   "source": [
    "n1df[(n1df.zscore<-4)] #Outlier"
   ]
  },
  {
   "cell_type": "code",
   "execution_count": 47,
   "id": "f2f3e1d5",
   "metadata": {},
   "outputs": [
    {
     "data": {
      "text/html": [
       "<div>\n",
       "<style scoped>\n",
       "    .dataframe tbody tr th:only-of-type {\n",
       "        vertical-align: middle;\n",
       "    }\n",
       "\n",
       "    .dataframe tbody tr th {\n",
       "        vertical-align: top;\n",
       "    }\n",
       "\n",
       "    .dataframe thead th {\n",
       "        text-align: right;\n",
       "    }\n",
       "</style>\n",
       "<table border=\"1\" class=\"dataframe\">\n",
       "  <thead>\n",
       "    <tr style=\"text-align: right;\">\n",
       "      <th></th>\n",
       "      <th>Gender</th>\n",
       "      <th>Height_in</th>\n",
       "      <th>Height_m</th>\n",
       "      <th>Weight</th>\n",
       "      <th>BMI</th>\n",
       "      <th>zscore</th>\n",
       "    </tr>\n",
       "  </thead>\n",
       "  <tbody>\n",
       "  </tbody>\n",
       "</table>\n",
       "</div>"
      ],
      "text/plain": [
       "Empty DataFrame\n",
       "Columns: [Gender, Height_in, Height_m, Weight, BMI, zscore]\n",
       "Index: []"
      ]
     },
     "execution_count": 47,
     "metadata": {},
     "output_type": "execute_result"
    }
   ],
   "source": [
    "n1df[(n1df.zscore>4)] #Outlier"
   ]
  },
  {
   "cell_type": "code",
   "execution_count": null,
   "id": "3e334660",
   "metadata": {},
   "outputs": [],
   "source": []
  },
  {
   "cell_type": "code",
   "execution_count": 48,
   "id": "7864904e",
   "metadata": {},
   "outputs": [],
   "source": [
    "n1df_no_outliers = n1df[(n1df.zscore>-4) & (n1df.zscore<4)]"
   ]
  },
  {
   "cell_type": "code",
   "execution_count": 49,
   "id": "4990d5ae",
   "metadata": {},
   "outputs": [
    {
     "data": {
      "text/html": [
       "<div>\n",
       "<style scoped>\n",
       "    .dataframe tbody tr th:only-of-type {\n",
       "        vertical-align: middle;\n",
       "    }\n",
       "\n",
       "    .dataframe tbody tr th {\n",
       "        vertical-align: top;\n",
       "    }\n",
       "\n",
       "    .dataframe thead th {\n",
       "        text-align: right;\n",
       "    }\n",
       "</style>\n",
       "<table border=\"1\" class=\"dataframe\">\n",
       "  <thead>\n",
       "    <tr style=\"text-align: right;\">\n",
       "      <th></th>\n",
       "      <th>Gender</th>\n",
       "      <th>Height_in</th>\n",
       "      <th>Height_m</th>\n",
       "      <th>Weight</th>\n",
       "      <th>BMI</th>\n",
       "      <th>zscore</th>\n",
       "    </tr>\n",
       "  </thead>\n",
       "  <tbody>\n",
       "    <tr>\n",
       "      <th>0</th>\n",
       "      <td>Male</td>\n",
       "      <td>73.847057</td>\n",
       "      <td>1.875714</td>\n",
       "      <td>109.720985</td>\n",
       "      <td>Obesity</td>\n",
       "      <td>1.959231</td>\n",
       "    </tr>\n",
       "    <tr>\n",
       "      <th>1</th>\n",
       "      <td>Male</td>\n",
       "      <td>68.781941</td>\n",
       "      <td>1.747060</td>\n",
       "      <td>73.622732</td>\n",
       "      <td>Normal</td>\n",
       "      <td>0.632526</td>\n",
       "    </tr>\n",
       "    <tr>\n",
       "      <th>2</th>\n",
       "      <td>Male</td>\n",
       "      <td>74.110145</td>\n",
       "      <td>1.882397</td>\n",
       "      <td>96.497550</td>\n",
       "      <td>Overweight</td>\n",
       "      <td>2.028142</td>\n",
       "    </tr>\n",
       "    <tr>\n",
       "      <th>3</th>\n",
       "      <td>Male</td>\n",
       "      <td>71.731017</td>\n",
       "      <td>1.821967</td>\n",
       "      <td>99.809504</td>\n",
       "      <td>Obesity</td>\n",
       "      <td>1.404977</td>\n",
       "    </tr>\n",
       "    <tr>\n",
       "      <th>4</th>\n",
       "      <td>Male</td>\n",
       "      <td>69.881834</td>\n",
       "      <td>1.774998</td>\n",
       "      <td>93.598619</td>\n",
       "      <td>Overweight</td>\n",
       "      <td>0.920621</td>\n",
       "    </tr>\n",
       "    <tr>\n",
       "      <th>...</th>\n",
       "      <td>...</td>\n",
       "      <td>...</td>\n",
       "      <td>...</td>\n",
       "      <td>...</td>\n",
       "      <td>...</td>\n",
       "      <td>...</td>\n",
       "    </tr>\n",
       "    <tr>\n",
       "      <th>9995</th>\n",
       "      <td>Female</td>\n",
       "      <td>66.172688</td>\n",
       "      <td>1.680785</td>\n",
       "      <td>62.041159</td>\n",
       "      <td>Normal</td>\n",
       "      <td>-0.050916</td>\n",
       "    </tr>\n",
       "    <tr>\n",
       "      <th>9996</th>\n",
       "      <td>Female</td>\n",
       "      <td>67.067191</td>\n",
       "      <td>1.703506</td>\n",
       "      <td>77.504315</td>\n",
       "      <td>Overweight</td>\n",
       "      <td>0.183382</td>\n",
       "    </tr>\n",
       "    <tr>\n",
       "      <th>9997</th>\n",
       "      <td>Female</td>\n",
       "      <td>63.868027</td>\n",
       "      <td>1.622247</td>\n",
       "      <td>58.275377</td>\n",
       "      <td>Normal</td>\n",
       "      <td>-0.654575</td>\n",
       "    </tr>\n",
       "    <tr>\n",
       "      <th>9998</th>\n",
       "      <td>Female</td>\n",
       "      <td>69.034280</td>\n",
       "      <td>1.753470</td>\n",
       "      <td>74.322166</td>\n",
       "      <td>Normal</td>\n",
       "      <td>0.698621</td>\n",
       "    </tr>\n",
       "    <tr>\n",
       "      <th>9999</th>\n",
       "      <td>Female</td>\n",
       "      <td>61.944279</td>\n",
       "      <td>1.573384</td>\n",
       "      <td>51.550324</td>\n",
       "      <td>Normal</td>\n",
       "      <td>-1.158462</td>\n",
       "    </tr>\n",
       "  </tbody>\n",
       "</table>\n",
       "<p>9980 rows × 6 columns</p>\n",
       "</div>"
      ],
      "text/plain": [
       "      Gender  Height_in  Height_m      Weight         BMI    zscore\n",
       "0       Male  73.847057  1.875714  109.720985     Obesity  1.959231\n",
       "1       Male  68.781941  1.747060   73.622732      Normal  0.632526\n",
       "2       Male  74.110145  1.882397   96.497550  Overweight  2.028142\n",
       "3       Male  71.731017  1.821967   99.809504     Obesity  1.404977\n",
       "4       Male  69.881834  1.774998   93.598619  Overweight  0.920621\n",
       "...      ...        ...       ...         ...         ...       ...\n",
       "9995  Female  66.172688  1.680785   62.041159      Normal -0.050916\n",
       "9996  Female  67.067191  1.703506   77.504315  Overweight  0.183382\n",
       "9997  Female  63.868027  1.622247   58.275377      Normal -0.654575\n",
       "9998  Female  69.034280  1.753470   74.322166      Normal  0.698621\n",
       "9999  Female  61.944279  1.573384   51.550324      Normal -1.158462\n",
       "\n",
       "[9980 rows x 6 columns]"
      ]
     },
     "execution_count": 49,
     "metadata": {},
     "output_type": "execute_result"
    }
   ],
   "source": [
    "n1df_no_outliers"
   ]
  },
  {
   "cell_type": "code",
   "execution_count": null,
   "id": "dda99db6",
   "metadata": {},
   "outputs": [],
   "source": []
  },
  {
   "cell_type": "code",
   "execution_count": 50,
   "id": "a32d89b2",
   "metadata": {},
   "outputs": [
    {
     "data": {
      "text/plain": [
       "<AxesSubplot:xlabel='Height_in', ylabel='Count'>"
      ]
     },
     "execution_count": 50,
     "metadata": {},
     "output_type": "execute_result"
    },
    {
     "data": {
      "image/png": "[encoded data removed]",
      "text/plain": [
       "<Figure size 432x288 with 1 Axes>"
      ]
     },
     "metadata": {
      "needs_background": "light"
     },
     "output_type": "display_data"
    }
   ],
   "source": [
    "sn.histplot(n1df_no_outliers.Height_in, kde=True)"
   ]
  },
  {
   "cell_type": "code",
   "execution_count": null,
   "id": "1a1ce421",
   "metadata": {},
   "outputs": [],
   "source": []
  },
  {
   "cell_type": "code",
   "execution_count": null,
   "id": "070681b9",
   "metadata": {},
   "outputs": [],
   "source": []
  },
  {
   "cell_type": "code",
   "execution_count": null,
   "id": "6e0e9995",
   "metadata": {},
   "outputs": [],
   "source": []
  },
  {
   "cell_type": "code",
   "execution_count": null,
   "id": "f746b8a6",
   "metadata": {},
   "outputs": [],
   "source": []
  },
  {
   "cell_type": "code",
   "execution_count": null,
   "id": "052f0c6e",
   "metadata": {},
   "outputs": [],
   "source": []
  },
  {
   "cell_type": "code",
   "execution_count": null,
   "id": "193415f8",
   "metadata": {},
   "outputs": [],
   "source": []
  },
  {
   "cell_type": "code",
   "execution_count": null,
   "id": "f9f416f0",
   "metadata": {},
   "outputs": [],
   "source": []
  },
  {
   "cell_type": "code",
   "execution_count": null,
   "id": "9d32b792",
   "metadata": {},
   "outputs": [],
   "source": []
  },
  {
   "cell_type": "code",
   "execution_count": null,
   "id": "988f8bd6",
   "metadata": {},
   "outputs": [],
   "source": []
  },
  {
   "cell_type": "code",
   "execution_count": null,
   "id": "ef3e68c5",
   "metadata": {},
   "outputs": [],
   "source": []
  },
  {
   "cell_type": "code",
   "execution_count": null,
   "id": "da9edcd0",
   "metadata": {},
   "outputs": [],
   "source": []
  }
 ],
 "metadata": {
  "kernelspec": {
   "display_name": "Python 3",
   "language": "python",
   "name": "python3"
  },
  "language_info": {
   "codemirror_mode": {
    "name": "ipython",
    "version": 3
   },
   "file_extension": ".py",
   "mimetype": "text/x-python",
   "name": "python",
   "nbconvert_exporter": "python",
   "pygments_lexer": "ipython3",
   "version": "3.8.8"
  }
 },
 "nbformat": 4,
 "nbformat_minor": 5
}
