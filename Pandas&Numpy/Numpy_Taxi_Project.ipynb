{
 "cells": [
  {
   "cell_type": "markdown",
   "id": "182da652",
   "metadata": {},
   "source": [
    "###### 1) Mean speed of all rides\n",
    "\n",
    "###### 2) Number of rides taken in February\n",
    "\n",
    "###### 3) Number of rides where tip more than 50\n",
    "\n",
    "###### 4) Number of rides where drop was JFK"
   ]
  },
  {
   "cell_type": "code",
   "execution_count": 1,
   "id": "1185f75e",
   "metadata": {},
   "outputs": [],
   "source": [
    "import numpy as np"
   ]
  },
  {
   "cell_type": "code",
   "execution_count": 2,
   "id": "88fe3402",
   "metadata": {},
   "outputs": [],
   "source": [
    "taxi = np.genfromtxt('nyc_taxis.csv', delimiter=',', skip_header=True)"
   ]
  },
  {
   "cell_type": "markdown",
   "id": "6ea879e3",
   "metadata": {},
   "source": [
    "###### Mean speed of all rides"
   ]
  },
  {
   "cell_type": "code",
   "execution_count": 16,
   "id": "2a4e148c",
   "metadata": {},
   "outputs": [
    {
     "data": {
      "text/plain": [
       "array([21.  , 16.29, 12.7 , ..., 17.48, 12.76, 17.54])"
      ]
     },
     "execution_count": 16,
     "metadata": {},
     "output_type": "execute_result"
    }
   ],
   "source": [
    "taxi[:,7]"
   ]
  },
  {
   "cell_type": "code",
   "execution_count": 17,
   "id": "27f785ba",
   "metadata": {},
   "outputs": [
    {
     "data": {
      "text/plain": [
       "array([2037., 1520., 1462., ..., 2822., 1083., 1711.])"
      ]
     },
     "execution_count": 17,
     "metadata": {},
     "output_type": "execute_result"
    }
   ],
   "source": [
    "taxi[:,8]"
   ]
  },
  {
   "cell_type": "code",
   "execution_count": 3,
   "id": "f8d8eb3b",
   "metadata": {},
   "outputs": [],
   "source": [
    "speed = taxi[:,7]/(taxi[:,8]/3600)"
   ]
  },
  {
   "cell_type": "code",
   "execution_count": 18,
   "id": "5883c560",
   "metadata": {},
   "outputs": [
    {
     "data": {
      "text/plain": [
       "array([37.11340206, 38.58157895, 31.27222982, ..., 22.29907867,\n",
       "       42.41551247, 36.90473407])"
      ]
     },
     "execution_count": 18,
     "metadata": {},
     "output_type": "execute_result"
    }
   ],
   "source": [
    "speed"
   ]
  },
  {
   "cell_type": "code",
   "execution_count": 4,
   "id": "c5e3fc4b",
   "metadata": {},
   "outputs": [],
   "source": [
    "mean_speed = speed.mean()"
   ]
  },
  {
   "cell_type": "code",
   "execution_count": 5,
   "id": "f13d6cf4",
   "metadata": {},
   "outputs": [
    {
     "name": "stdout",
     "output_type": "stream",
     "text": [
      "32.24258580925573\n"
     ]
    }
   ],
   "source": [
    "print(mean_speed)"
   ]
  },
  {
   "cell_type": "code",
   "execution_count": null,
   "id": "26957f40",
   "metadata": {},
   "outputs": [],
   "source": []
  },
  {
   "cell_type": "markdown",
   "id": "adb36e27",
   "metadata": {},
   "source": [
    "###### Number of rides taken in February"
   ]
  },
  {
   "cell_type": "code",
   "execution_count": 6,
   "id": "e4ee9b99",
   "metadata": {},
   "outputs": [
    {
     "data": {
      "text/plain": [
       "array([1., 1., 1., ..., 6., 6., 6.])"
      ]
     },
     "execution_count": 6,
     "metadata": {},
     "output_type": "execute_result"
    }
   ],
   "source": [
    "taxi[:,1]"
   ]
  },
  {
   "cell_type": "code",
   "execution_count": 7,
   "id": "89440ebe",
   "metadata": {},
   "outputs": [
    {
     "data": {
      "text/plain": [
       "array([False, False, False, ..., False, False, False])"
      ]
     },
     "execution_count": 7,
     "metadata": {},
     "output_type": "execute_result"
    }
   ],
   "source": [
    "taxi[:,1]==2"
   ]
  },
  {
   "cell_type": "code",
   "execution_count": 8,
   "id": "8d40fd5d",
   "metadata": {},
   "outputs": [],
   "source": [
    "feb_rides = taxi[taxi[:,1]==2,1]"
   ]
  },
  {
   "cell_type": "code",
   "execution_count": 9,
   "id": "87586d62",
   "metadata": {},
   "outputs": [
    {
     "name": "stdout",
     "output_type": "stream",
     "text": [
      "13333\n"
     ]
    }
   ],
   "source": [
    "print(feb_rides.shape[0])"
   ]
  },
  {
   "cell_type": "code",
   "execution_count": null,
   "id": "b975d27a",
   "metadata": {},
   "outputs": [],
   "source": []
  },
  {
   "cell_type": "markdown",
   "id": "9fec1f88",
   "metadata": {},
   "source": [
    "###### Number of rides where tip more than 50"
   ]
  },
  {
   "cell_type": "code",
   "execution_count": 10,
   "id": "0a28a570",
   "metadata": {},
   "outputs": [
    {
     "data": {
      "text/plain": [
       "array([11.65,  8.  ,  0.  , ...,  5.  ,  8.95,  0.  ])"
      ]
     },
     "execution_count": 10,
     "metadata": {},
     "output_type": "execute_result"
    }
   ],
   "source": [
    "taxi[:,12]"
   ]
  },
  {
   "cell_type": "code",
   "execution_count": 11,
   "id": "00d2b609",
   "metadata": {},
   "outputs": [
    {
     "data": {
      "text/plain": [
       "array([False, False, False, ..., False, False, False])"
      ]
     },
     "execution_count": 11,
     "metadata": {},
     "output_type": "execute_result"
    }
   ],
   "source": [
    "taxi[:,12]>50"
   ]
  },
  {
   "cell_type": "code",
   "execution_count": 12,
   "id": "c67a4bb9",
   "metadata": {},
   "outputs": [],
   "source": [
    "ride_tip_50 = taxi[taxi[:,12]>50,12]"
   ]
  },
  {
   "cell_type": "code",
   "execution_count": 13,
   "id": "a33aceed",
   "metadata": {},
   "outputs": [
    {
     "name": "stdout",
     "output_type": "stream",
     "text": [
      "16\n"
     ]
    }
   ],
   "source": [
    "print(ride_tip_50.shape[0])"
   ]
  },
  {
   "cell_type": "code",
   "execution_count": null,
   "id": "d88db429",
   "metadata": {},
   "outputs": [],
   "source": []
  },
  {
   "cell_type": "markdown",
   "id": "1e46b490",
   "metadata": {},
   "source": [
    "###### Number of rides where drop was JFK"
   ]
  },
  {
   "cell_type": "markdown",
   "id": "875437ac",
   "metadata": {},
   "source": [
    "**The drop off code for JFK is 2**"
   ]
  },
  {
   "cell_type": "code",
   "execution_count": 14,
   "id": "3ffb21d1",
   "metadata": {},
   "outputs": [],
   "source": [
    "jfk_drop = taxi[taxi[:,6]==2,6]"
   ]
  },
  {
   "cell_type": "code",
   "execution_count": 15,
   "id": "1d743323",
   "metadata": {},
   "outputs": [
    {
     "name": "stdout",
     "output_type": "stream",
     "text": [
      "11832\n"
     ]
    }
   ],
   "source": [
    "print(jfk_drop.shape[0])"
   ]
  },
  {
   "cell_type": "code",
   "execution_count": null,
   "id": "a24e77fd",
   "metadata": {},
   "outputs": [],
   "source": []
  }
 ],
 "metadata": {
  "kernelspec": {
   "display_name": "Python 3",
   "language": "python",
   "name": "python3"
  },
  "language_info": {
   "codemirror_mode": {
    "name": "ipython",
    "version": 3
   },
   "file_extension": ".py",
   "mimetype": "text/x-python",
   "name": "python",
   "nbconvert_exporter": "python",
   "pygments_lexer": "ipython3",
   "version": "3.8.8"
  }
 },
 "nbformat": 4,
 "nbformat_minor": 5
}
