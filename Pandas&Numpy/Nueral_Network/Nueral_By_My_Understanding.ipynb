{
 "cells": [
  {
   "cell_type": "code",
   "execution_count": 1,
   "id": "1a07661e",
   "metadata": {},
   "outputs": [],
   "source": [
    "import numpy as np\n",
    "import pandas as pd\n",
    "from matplotlib import pyplot as plt"
   ]
  },
  {
   "cell_type": "code",
   "execution_count": 2,
   "id": "aa94e6b8",
   "metadata": {},
   "outputs": [],
   "source": [
    "data1 = pd.read_csv('train.csv')"
   ]
  },
  {
   "cell_type": "code",
   "execution_count": 3,
   "id": "f9ef16bc",
   "metadata": {},
   "outputs": [],
   "source": [
    "data = np.array(data1) #Creating numpy array (Matrics)"
   ]
  },
  {
   "cell_type": "code",
   "execution_count": 4,
   "id": "b70fceb1",
   "metadata": {},
   "outputs": [
    {
     "data": {
      "text/plain": [
       "array([[1, 0, 0, ..., 0, 0, 0],\n",
       "       [0, 0, 0, ..., 0, 0, 0],\n",
       "       [1, 0, 0, ..., 0, 0, 0],\n",
       "       ...,\n",
       "       [7, 0, 0, ..., 0, 0, 0],\n",
       "       [6, 0, 0, ..., 0, 0, 0],\n",
       "       [9, 0, 0, ..., 0, 0, 0]], dtype=int64)"
      ]
     },
     "execution_count": 4,
     "metadata": {},
     "output_type": "execute_result"
    }
   ],
   "source": [
    "data"
   ]
  },
  {
   "cell_type": "code",
   "execution_count": 5,
   "id": "d3b131d4",
   "metadata": {},
   "outputs": [
    {
     "data": {
      "text/plain": [
       "42000"
      ]
     },
     "execution_count": 5,
     "metadata": {},
     "output_type": "execute_result"
    }
   ],
   "source": [
    "data.shape[0] #Gives Number of rows"
   ]
  },
  {
   "cell_type": "code",
   "execution_count": 6,
   "id": "cb8081ca",
   "metadata": {},
   "outputs": [
    {
     "data": {
      "text/plain": [
       "785"
      ]
     },
     "execution_count": 6,
     "metadata": {},
     "output_type": "execute_result"
    }
   ],
   "source": [
    "data.shape[1] #Gives number of columns"
   ]
  },
  {
   "cell_type": "code",
   "execution_count": 7,
   "id": "fc97364f",
   "metadata": {},
   "outputs": [],
   "source": [
    "m,n = data.shape"
   ]
  },
  {
   "cell_type": "code",
   "execution_count": 8,
   "id": "7a885ff3",
   "metadata": {},
   "outputs": [
    {
     "data": {
      "text/plain": [
       "42000"
      ]
     },
     "execution_count": 8,
     "metadata": {},
     "output_type": "execute_result"
    }
   ],
   "source": [
    "m #Number of rows"
   ]
  },
  {
   "cell_type": "code",
   "execution_count": 9,
   "id": "60887a5a",
   "metadata": {},
   "outputs": [
    {
     "data": {
      "text/plain": [
       "785"
      ]
     },
     "execution_count": 9,
     "metadata": {},
     "output_type": "execute_result"
    }
   ],
   "source": [
    "n #Number of columns"
   ]
  },
  {
   "cell_type": "code",
   "execution_count": 10,
   "id": "3f62bce8",
   "metadata": {},
   "outputs": [],
   "source": [
    "np.random.shuffle(data) # shuffle before splitting into dev and training sets"
   ]
  },
  {
   "cell_type": "code",
   "execution_count": 11,
   "id": "bf0a5462",
   "metadata": {},
   "outputs": [
    {
     "data": {
      "text/plain": [
       "array([[8, 0, 0, ..., 0, 0, 0],\n",
       "       [8, 0, 0, ..., 0, 0, 0],\n",
       "       [0, 0, 0, ..., 0, 0, 0],\n",
       "       ...,\n",
       "       [9, 0, 0, ..., 0, 0, 0],\n",
       "       [1, 0, 0, ..., 0, 0, 0],\n",
       "       [0, 0, 0, ..., 0, 0, 0]], dtype=int64)"
      ]
     },
     "execution_count": 11,
     "metadata": {},
     "output_type": "execute_result"
    }
   ],
   "source": [
    "data"
   ]
  },
  {
   "cell_type": "code",
   "execution_count": 12,
   "id": "d6e8623d",
   "metadata": {},
   "outputs": [
    {
     "data": {
      "text/plain": [
       "array([[8, 0, 0, ..., 0, 0, 0],\n",
       "       [8, 0, 0, ..., 0, 0, 0],\n",
       "       [0, 0, 0, ..., 0, 0, 0],\n",
       "       ...,\n",
       "       [7, 0, 0, ..., 0, 0, 0],\n",
       "       [0, 0, 0, ..., 0, 0, 0],\n",
       "       [3, 0, 0, ..., 0, 0, 0]], dtype=int64)"
      ]
     },
     "execution_count": 12,
     "metadata": {},
     "output_type": "execute_result"
    }
   ],
   "source": [
    "data[0:1000] #Selecting rows from index 0 to 1000"
   ]
  },
  {
   "cell_type": "code",
   "execution_count": 13,
   "id": "794cf42c",
   "metadata": {},
   "outputs": [],
   "source": [
    "data_dev = data[0:1000].T #Transpose of the array"
   ]
  },
  {
   "cell_type": "code",
   "execution_count": 14,
   "id": "a134aec3",
   "metadata": {},
   "outputs": [
    {
     "data": {
      "text/plain": [
       "(785, 1000)"
      ]
     },
     "execution_count": 14,
     "metadata": {},
     "output_type": "execute_result"
    }
   ],
   "source": [
    "data_dev.shape"
   ]
  },
  {
   "cell_type": "code",
   "execution_count": 15,
   "id": "ed8b6aa7",
   "metadata": {},
   "outputs": [
    {
     "data": {
      "text/plain": [
       "array([[8, 8, 0, ..., 7, 0, 3],\n",
       "       [0, 0, 0, ..., 0, 0, 0],\n",
       "       [0, 0, 0, ..., 0, 0, 0],\n",
       "       ...,\n",
       "       [0, 0, 0, ..., 0, 0, 0],\n",
       "       [0, 0, 0, ..., 0, 0, 0],\n",
       "       [0, 0, 0, ..., 0, 0, 0]], dtype=int64)"
      ]
     },
     "execution_count": 15,
     "metadata": {},
     "output_type": "execute_result"
    }
   ],
   "source": [
    "data_dev"
   ]
  },
  {
   "cell_type": "code",
   "execution_count": 16,
   "id": "6263a2ed",
   "metadata": {},
   "outputs": [],
   "source": [
    "Y_dev = data_dev[0] #Gives elements of first row"
   ]
  },
  {
   "cell_type": "code",
   "execution_count": 17,
   "id": "cb5652da",
   "metadata": {},
   "outputs": [],
   "source": [
    "# Y_dev"
   ]
  },
  {
   "cell_type": "code",
   "execution_count": 18,
   "id": "15baf003",
   "metadata": {},
   "outputs": [],
   "source": [
    "X_dev = data_dev[1:n] #Selecting rows from index 1 to n(in this case n=785)"
   ]
  },
  {
   "cell_type": "code",
   "execution_count": 19,
   "id": "4998d85c",
   "metadata": {},
   "outputs": [],
   "source": [
    "temp1 = X_dev.copy()"
   ]
  },
  {
   "cell_type": "code",
   "execution_count": 20,
   "id": "a0e4f834",
   "metadata": {},
   "outputs": [
    {
     "data": {
      "text/plain": [
       "array([[  0,   0,   0, ...,   0,   0,   0],\n",
       "       [253,   0, 255, ...,   0, 249,   0],\n",
       "       [  0,   0,   0, ...,   0,   0,   0],\n",
       "       ...,\n",
       "       [  0,   0,   0, ...,   0,   0,   0],\n",
       "       [  0,   0,   0, ...,   0,   0,   0],\n",
       "       [  0, 254,   0, ...,   0, 248, 254]], dtype=int64)"
      ]
     },
     "execution_count": 20,
     "metadata": {},
     "output_type": "execute_result"
    }
   ],
   "source": [
    "np.random.shuffle(temp1)\n",
    "temp1"
   ]
  },
  {
   "cell_type": "code",
   "execution_count": null,
   "id": "14857405",
   "metadata": {},
   "outputs": [],
   "source": []
  },
  {
   "cell_type": "code",
   "execution_count": 21,
   "id": "3a1217af",
   "metadata": {},
   "outputs": [],
   "source": [
    "X_dev = X_dev / 255."
   ]
  },
  {
   "cell_type": "code",
   "execution_count": 22,
   "id": "2de58118",
   "metadata": {},
   "outputs": [
    {
     "data": {
      "text/plain": [
       "array([[0., 0., 0., ..., 0., 0., 0.],\n",
       "       [0., 0., 0., ..., 0., 0., 0.],\n",
       "       [0., 0., 0., ..., 0., 0., 0.],\n",
       "       ...,\n",
       "       [0., 0., 0., ..., 0., 0., 0.],\n",
       "       [0., 0., 0., ..., 0., 0., 0.],\n",
       "       [0., 0., 0., ..., 0., 0., 0.]])"
      ]
     },
     "execution_count": 22,
     "metadata": {},
     "output_type": "execute_result"
    }
   ],
   "source": [
    "X_dev"
   ]
  },
  {
   "cell_type": "code",
   "execution_count": 23,
   "id": "de2675f8",
   "metadata": {},
   "outputs": [],
   "source": [
    "temp2 = X_dev.copy()"
   ]
  },
  {
   "cell_type": "code",
   "execution_count": 24,
   "id": "c3e49da7",
   "metadata": {},
   "outputs": [
    {
     "data": {
      "text/plain": [
       "array([[0.        , 0.        , 0.        , ..., 0.        , 0.        ,\n",
       "        0.        ],\n",
       "       [0.        , 0.        , 0.        , ..., 0.        , 0.        ,\n",
       "        0.        ],\n",
       "       [0.        , 0.        , 0.        , ..., 0.        , 0.        ,\n",
       "        0.        ],\n",
       "       ...,\n",
       "       [0.76862745, 0.99607843, 0.        , ..., 0.        , 0.99607843,\n",
       "        0.        ],\n",
       "       [0.        , 0.        , 0.        , ..., 0.        , 0.14901961,\n",
       "        0.        ],\n",
       "       [0.07058824, 0.        , 0.        , ..., 0.        , 0.        ,\n",
       "        0.        ]])"
      ]
     },
     "execution_count": 24,
     "metadata": {},
     "output_type": "execute_result"
    }
   ],
   "source": [
    "np.random.shuffle(temp2)\n",
    "temp2"
   ]
  },
  {
   "cell_type": "code",
   "execution_count": null,
   "id": "607e06c9",
   "metadata": {},
   "outputs": [],
   "source": []
  },
  {
   "cell_type": "code",
   "execution_count": 25,
   "id": "d9c7d858",
   "metadata": {},
   "outputs": [],
   "source": [
    "data_train = data[1000:m].T"
   ]
  },
  {
   "cell_type": "code",
   "execution_count": 26,
   "id": "19c55e6e",
   "metadata": {},
   "outputs": [
    {
     "data": {
      "text/plain": [
       "(785, 41000)"
      ]
     },
     "execution_count": 26,
     "metadata": {},
     "output_type": "execute_result"
    }
   ],
   "source": [
    "data_train.shape"
   ]
  },
  {
   "cell_type": "code",
   "execution_count": 27,
   "id": "59e5a033",
   "metadata": {},
   "outputs": [
    {
     "data": {
      "text/plain": [
       "array([[2, 5, 1, ..., 9, 1, 0],\n",
       "       [0, 0, 0, ..., 0, 0, 0],\n",
       "       [0, 0, 0, ..., 0, 0, 0],\n",
       "       ...,\n",
       "       [0, 0, 0, ..., 0, 0, 0],\n",
       "       [0, 0, 0, ..., 0, 0, 0],\n",
       "       [0, 0, 0, ..., 0, 0, 0]], dtype=int64)"
      ]
     },
     "execution_count": 27,
     "metadata": {},
     "output_type": "execute_result"
    }
   ],
   "source": [
    "data_train"
   ]
  },
  {
   "cell_type": "code",
   "execution_count": 28,
   "id": "65dcf3e3",
   "metadata": {},
   "outputs": [],
   "source": [
    "Y_train = data_train[0]"
   ]
  },
  {
   "cell_type": "code",
   "execution_count": 29,
   "id": "1a294451",
   "metadata": {},
   "outputs": [
    {
     "data": {
      "text/plain": [
       "(41000,)"
      ]
     },
     "execution_count": 29,
     "metadata": {},
     "output_type": "execute_result"
    }
   ],
   "source": [
    "Y_train.shape"
   ]
  },
  {
   "cell_type": "code",
   "execution_count": 30,
   "id": "677e84ce",
   "metadata": {},
   "outputs": [
    {
     "data": {
      "text/plain": [
       "array([2, 5, 1, ..., 9, 1, 0], dtype=int64)"
      ]
     },
     "execution_count": 30,
     "metadata": {},
     "output_type": "execute_result"
    }
   ],
   "source": [
    "Y_train"
   ]
  },
  {
   "cell_type": "code",
   "execution_count": 31,
   "id": "de44a1ef",
   "metadata": {},
   "outputs": [],
   "source": [
    "X_train = data_train[1:n]"
   ]
  },
  {
   "cell_type": "code",
   "execution_count": 32,
   "id": "1fb8f2ca",
   "metadata": {},
   "outputs": [
    {
     "data": {
      "text/plain": [
       "(784, 41000)"
      ]
     },
     "execution_count": 32,
     "metadata": {},
     "output_type": "execute_result"
    }
   ],
   "source": [
    "X_train.shape"
   ]
  },
  {
   "cell_type": "code",
   "execution_count": 33,
   "id": "ac064dd9",
   "metadata": {},
   "outputs": [
    {
     "data": {
      "text/plain": [
       "array([[0, 0, 0, ..., 0, 0, 0],\n",
       "       [0, 0, 0, ..., 0, 0, 0],\n",
       "       [0, 0, 0, ..., 0, 0, 0],\n",
       "       ...,\n",
       "       [0, 0, 0, ..., 0, 0, 0],\n",
       "       [0, 0, 0, ..., 0, 0, 0],\n",
       "       [0, 0, 0, ..., 0, 0, 0]], dtype=int64)"
      ]
     },
     "execution_count": 33,
     "metadata": {},
     "output_type": "execute_result"
    }
   ],
   "source": [
    "X_train"
   ]
  },
  {
   "cell_type": "code",
   "execution_count": null,
   "id": "42b8174b",
   "metadata": {},
   "outputs": [],
   "source": []
  },
  {
   "cell_type": "code",
   "execution_count": 34,
   "id": "7c6f6b65",
   "metadata": {},
   "outputs": [],
   "source": [
    "temp3 = X_train.copy()"
   ]
  },
  {
   "cell_type": "code",
   "execution_count": 35,
   "id": "b927ffc9",
   "metadata": {},
   "outputs": [
    {
     "data": {
      "text/plain": [
       "array([[  0,   0,   0, ...,   0,   0,   0],\n",
       "       [  0,   0,   0, ...,   0,   0,   0],\n",
       "       [  0,   0,   0, ...,   0,   0,   0],\n",
       "       ...,\n",
       "       [ 42,   0,   0, ...,   0,   0, 227],\n",
       "       [  0,   0,   0, ...,   0,   0,   0],\n",
       "       [  0,   0,   0, ...,   0,   0,   0]], dtype=int64)"
      ]
     },
     "execution_count": 35,
     "metadata": {},
     "output_type": "execute_result"
    }
   ],
   "source": [
    "np.random.shuffle(temp3)\n",
    "temp3"
   ]
  },
  {
   "cell_type": "code",
   "execution_count": 36,
   "id": "f51ba197",
   "metadata": {},
   "outputs": [],
   "source": [
    "X_train = X_train / 255."
   ]
  },
  {
   "cell_type": "code",
   "execution_count": 37,
   "id": "c4866b3f",
   "metadata": {},
   "outputs": [
    {
     "data": {
      "text/plain": [
       "array([[0., 0., 0., ..., 0., 0., 0.],\n",
       "       [0., 0., 0., ..., 0., 0., 0.],\n",
       "       [0., 0., 0., ..., 0., 0., 0.],\n",
       "       ...,\n",
       "       [0., 0., 0., ..., 0., 0., 0.],\n",
       "       [0., 0., 0., ..., 0., 0., 0.],\n",
       "       [0., 0., 0., ..., 0., 0., 0.]])"
      ]
     },
     "execution_count": 37,
     "metadata": {},
     "output_type": "execute_result"
    }
   ],
   "source": [
    "X_train"
   ]
  },
  {
   "cell_type": "code",
   "execution_count": 38,
   "id": "7346c7a6",
   "metadata": {},
   "outputs": [],
   "source": [
    "temp4 = X_train.copy()"
   ]
  },
  {
   "cell_type": "code",
   "execution_count": 39,
   "id": "e52c31ba",
   "metadata": {},
   "outputs": [
    {
     "data": {
      "text/plain": [
       "array([[0.        , 0.        , 0.        , ..., 0.        , 0.        ,\n",
       "        0.        ],\n",
       "       [0.        , 0.        , 0.        , ..., 0.95294118, 0.        ,\n",
       "        0.        ],\n",
       "       [0.        , 0.        , 0.99215686, ..., 0.99607843, 1.        ,\n",
       "        0.        ],\n",
       "       ...,\n",
       "       [0.        , 0.        , 0.        , ..., 0.        , 0.        ,\n",
       "        0.        ],\n",
       "       [0.90588235, 0.42745098, 0.        , ..., 0.        , 0.        ,\n",
       "        0.65882353],\n",
       "       [0.        , 0.        , 0.        , ..., 0.        , 0.        ,\n",
       "        0.        ]])"
      ]
     },
     "execution_count": 39,
     "metadata": {},
     "output_type": "execute_result"
    }
   ],
   "source": [
    "np.random.shuffle(temp4)\n",
    "temp4"
   ]
  },
  {
   "cell_type": "code",
   "execution_count": null,
   "id": "4eef98e2",
   "metadata": {},
   "outputs": [],
   "source": []
  },
  {
   "cell_type": "code",
   "execution_count": 40,
   "id": "2245c438",
   "metadata": {},
   "outputs": [],
   "source": [
    "W1 = np.random.rand(10,784)-0.5\n",
    "b1 = np.random.rand(10,1)-0.5\n",
    "W2 = np.random.rand(10,10)-0.5\n",
    "b2 = np.random.rand(10,1)-0.5"
   ]
  },
  {
   "cell_type": "code",
   "execution_count": 41,
   "id": "be9fab56",
   "metadata": {},
   "outputs": [],
   "source": [
    "Z1 = W1.dot(X_train) + b1"
   ]
  },
  {
   "cell_type": "code",
   "execution_count": 42,
   "id": "3f58d58c",
   "metadata": {},
   "outputs": [
    {
     "data": {
      "text/plain": [
       "(10, 41000)"
      ]
     },
     "execution_count": 42,
     "metadata": {},
     "output_type": "execute_result"
    }
   ],
   "source": [
    "Z1.shape"
   ]
  },
  {
   "cell_type": "code",
   "execution_count": 43,
   "id": "64261b73",
   "metadata": {},
   "outputs": [
    {
     "data": {
      "text/plain": [
       "array([[-1.65460731, -0.30674409, -1.13585934, ..., -2.10707135,\n",
       "        -1.75109026,  0.84074447],\n",
       "       [ 1.3234899 ,  1.97622896,  0.90227796, ...,  3.10417054,\n",
       "         0.4364482 , -0.04789759],\n",
       "       [ 0.49156846, -0.8708127 ,  2.25093928, ..., -1.03965515,\n",
       "         1.43485763,  0.49460294],\n",
       "       ...,\n",
       "       [-1.63020153, -4.05263776, -1.56453073, ..., -1.46691059,\n",
       "        -1.07707755,  0.06271161],\n",
       "       [-2.24079548, -0.08664745,  1.20237221, ...,  1.11076704,\n",
       "         1.78693339, -0.28550783],\n",
       "       [-0.72767693, -4.41402894, -0.1508893 , ..., -3.36951844,\n",
       "         0.41202847, -6.28792247]])"
      ]
     },
     "execution_count": 43,
     "metadata": {},
     "output_type": "execute_result"
    }
   ],
   "source": [
    "Z1"
   ]
  },
  {
   "cell_type": "code",
   "execution_count": null,
   "id": "8631516a",
   "metadata": {},
   "outputs": [],
   "source": []
  },
  {
   "cell_type": "code",
   "execution_count": 44,
   "id": "b98b5600",
   "metadata": {},
   "outputs": [],
   "source": [
    "A1 = np.maximum(0,Z1) #ReLU(Rectified Linear Unit) function"
   ]
  },
  {
   "cell_type": "code",
   "execution_count": 45,
   "id": "0caa3790",
   "metadata": {},
   "outputs": [
    {
     "data": {
      "text/plain": [
       "array([[0.        , 0.        , 0.        , ..., 0.        , 0.        ,\n",
       "        0.84074447],\n",
       "       [1.3234899 , 1.97622896, 0.90227796, ..., 3.10417054, 0.4364482 ,\n",
       "        0.        ],\n",
       "       [0.49156846, 0.        , 2.25093928, ..., 0.        , 1.43485763,\n",
       "        0.49460294],\n",
       "       ...,\n",
       "       [0.        , 0.        , 0.        , ..., 0.        , 0.        ,\n",
       "        0.06271161],\n",
       "       [0.        , 0.        , 1.20237221, ..., 1.11076704, 1.78693339,\n",
       "        0.        ],\n",
       "       [0.        , 0.        , 0.        , ..., 0.        , 0.41202847,\n",
       "        0.        ]])"
      ]
     },
     "execution_count": 45,
     "metadata": {},
     "output_type": "execute_result"
    }
   ],
   "source": [
    "A1"
   ]
  },
  {
   "cell_type": "code",
   "execution_count": null,
   "id": "8a6fadce",
   "metadata": {},
   "outputs": [],
   "source": []
  },
  {
   "cell_type": "code",
   "execution_count": 46,
   "id": "d6552790",
   "metadata": {},
   "outputs": [],
   "source": [
    "Z2 = W2.dot(A1)+b2"
   ]
  },
  {
   "cell_type": "code",
   "execution_count": 47,
   "id": "0ded9a99",
   "metadata": {},
   "outputs": [
    {
     "data": {
      "text/plain": [
       "(10, 41000)"
      ]
     },
     "execution_count": 47,
     "metadata": {},
     "output_type": "execute_result"
    }
   ],
   "source": [
    "Z2.shape"
   ]
  },
  {
   "cell_type": "code",
   "execution_count": 48,
   "id": "1f8307d5",
   "metadata": {},
   "outputs": [
    {
     "data": {
      "text/plain": [
       "array([[ 0.51790826, -0.63461724,  2.21562424, ...,  0.08914361,\n",
       "         1.52240929, -1.6323412 ],\n",
       "       [-0.08087468,  0.38935935,  2.73023929, ..., -0.77734074,\n",
       "         1.71598912, -0.46937144],\n",
       "       [-1.19620583, -3.88312932, -4.39776703, ..., -0.6736374 ,\n",
       "        -3.8304727 , -4.17212843],\n",
       "       ...,\n",
       "       [-0.30940346,  0.291919  , -0.15879386, ...,  0.13913275,\n",
       "        -0.64797287, -2.27028267],\n",
       "       [-0.06839033, -1.27713751, -0.63776512, ...,  0.51263134,\n",
       "        -1.26049798, -1.77836293],\n",
       "       [-0.13003134,  0.74921667, -0.01797305, ..., -0.17134414,\n",
       "         0.22824476,  0.89356995]])"
      ]
     },
     "execution_count": 48,
     "metadata": {},
     "output_type": "execute_result"
    }
   ],
   "source": [
    "Z2"
   ]
  },
  {
   "cell_type": "code",
   "execution_count": null,
   "id": "5829714e",
   "metadata": {},
   "outputs": [],
   "source": []
  },
  {
   "cell_type": "code",
   "execution_count": 49,
   "id": "c0a6bd90",
   "metadata": {},
   "outputs": [],
   "source": [
    "A2 = np.exp(Z2)/sum(np.exp(Z2)) #Softmax function"
   ]
  },
  {
   "cell_type": "code",
   "execution_count": 50,
   "id": "7ca702ae",
   "metadata": {},
   "outputs": [
    {
     "data": {
      "text/plain": [
       "(10, 41000)"
      ]
     },
     "execution_count": 50,
     "metadata": {},
     "output_type": "execute_result"
    }
   ],
   "source": [
    "A2.shape"
   ]
  },
  {
   "cell_type": "code",
   "execution_count": 51,
   "id": "46d081d7",
   "metadata": {},
   "outputs": [
    {
     "data": {
      "text/plain": [
       "array([[8.88018703e-02, 4.31250387e-03, 1.02475207e-01, ...,\n",
       "        5.06853991e-02, 9.02434757e-02, 1.98329301e-03],\n",
       "       [4.87948498e-02, 1.20070656e-02, 1.71440443e-01, ...,\n",
       "        2.13095117e-02, 1.09518242e-01, 6.34538869e-03],\n",
       "       [1.59952791e-02, 1.67462907e-04, 1.37549644e-04, ...,\n",
       "        2.36380305e-02, 4.27256524e-04, 1.56448465e-04],\n",
       "       ...,\n",
       "       [3.88262278e-02, 1.08922870e-02, 9.53722716e-03, ...,\n",
       "        5.32835166e-02, 1.02998480e-02, 1.04793035e-03],\n",
       "       [4.94078407e-02, 2.26822687e-03, 5.90755200e-03, ...,\n",
       "        7.74107463e-02, 5.58231758e-03, 1.71384070e-03],\n",
       "       [4.64542575e-02, 1.72076249e-02, 1.09794309e-02, ...,\n",
       "        3.90620002e-02, 2.47381547e-02, 2.47956877e-02]])"
      ]
     },
     "execution_count": 51,
     "metadata": {},
     "output_type": "execute_result"
    }
   ],
   "source": [
    "A2"
   ]
  },
  {
   "cell_type": "code",
   "execution_count": null,
   "id": "c9a17d4a",
   "metadata": {},
   "outputs": [],
   "source": []
  },
  {
   "cell_type": "code",
   "execution_count": null,
   "id": "d1c17130",
   "metadata": {},
   "outputs": [],
   "source": []
  },
  {
   "cell_type": "code",
   "execution_count": null,
   "id": "966cdaa4",
   "metadata": {},
   "outputs": [],
   "source": []
  },
  {
   "cell_type": "code",
   "execution_count": null,
   "id": "b3c050a6",
   "metadata": {},
   "outputs": [],
   "source": []
  },
  {
   "cell_type": "code",
   "execution_count": null,
   "id": "be8881d2",
   "metadata": {},
   "outputs": [],
   "source": []
  },
  {
   "cell_type": "code",
   "execution_count": null,
   "id": "8a09e237",
   "metadata": {},
   "outputs": [],
   "source": []
  },
  {
   "cell_type": "code",
   "execution_count": null,
   "id": "6322ad55",
   "metadata": {},
   "outputs": [],
   "source": []
  },
  {
   "cell_type": "code",
   "execution_count": 52,
   "id": "c5e90406",
   "metadata": {},
   "outputs": [
    {
     "data": {
      "text/plain": [
       "array([2, 5, 1, ..., 9, 1, 0], dtype=int64)"
      ]
     },
     "execution_count": 52,
     "metadata": {},
     "output_type": "execute_result"
    }
   ],
   "source": [
    "Y_train"
   ]
  },
  {
   "cell_type": "code",
   "execution_count": 53,
   "id": "31cd1f66",
   "metadata": {},
   "outputs": [
    {
     "data": {
      "text/plain": [
       "41000"
      ]
     },
     "execution_count": 53,
     "metadata": {},
     "output_type": "execute_result"
    }
   ],
   "source": [
    "Y_train.size"
   ]
  },
  {
   "cell_type": "code",
   "execution_count": 54,
   "id": "74ca7827",
   "metadata": {},
   "outputs": [
    {
     "data": {
      "text/plain": [
       "9"
      ]
     },
     "execution_count": 54,
     "metadata": {},
     "output_type": "execute_result"
    }
   ],
   "source": [
    "Y_train.max()"
   ]
  },
  {
   "cell_type": "code",
   "execution_count": 55,
   "id": "4476ee8f",
   "metadata": {},
   "outputs": [],
   "source": [
    "one_hot_Y = np.zeros((Y_train.size, Y_train.max() + 1))"
   ]
  },
  {
   "cell_type": "code",
   "execution_count": 56,
   "id": "28cf7774",
   "metadata": {},
   "outputs": [
    {
     "data": {
      "text/plain": [
       "array([[0., 0., 0., ..., 0., 0., 0.],\n",
       "       [0., 0., 0., ..., 0., 0., 0.],\n",
       "       [0., 0., 0., ..., 0., 0., 0.],\n",
       "       ...,\n",
       "       [0., 0., 0., ..., 0., 0., 0.],\n",
       "       [0., 0., 0., ..., 0., 0., 0.],\n",
       "       [0., 0., 0., ..., 0., 0., 0.]])"
      ]
     },
     "execution_count": 56,
     "metadata": {},
     "output_type": "execute_result"
    }
   ],
   "source": [
    "one_hot_Y"
   ]
  },
  {
   "cell_type": "code",
   "execution_count": 57,
   "id": "378a767a",
   "metadata": {},
   "outputs": [
    {
     "data": {
      "text/plain": [
       "(41000, 10)"
      ]
     },
     "execution_count": 57,
     "metadata": {},
     "output_type": "execute_result"
    }
   ],
   "source": [
    "one_hot_Y.shape"
   ]
  },
  {
   "cell_type": "code",
   "execution_count": 58,
   "id": "6f74d7c5",
   "metadata": {},
   "outputs": [
    {
     "data": {
      "text/plain": [
       "array([    0,     1,     2, ..., 40997, 40998, 40999])"
      ]
     },
     "execution_count": 58,
     "metadata": {},
     "output_type": "execute_result"
    }
   ],
   "source": [
    "np.arange(Y_train.size)"
   ]
  },
  {
   "cell_type": "code",
   "execution_count": 59,
   "id": "a6b7d450",
   "metadata": {},
   "outputs": [],
   "source": [
    "one_hot_Y[np.arange(Y_train.size), Y_train] = 1"
   ]
  },
  {
   "cell_type": "code",
   "execution_count": 60,
   "id": "8f7f7f16",
   "metadata": {},
   "outputs": [
    {
     "data": {
      "text/plain": [
       "0.0"
      ]
     },
     "execution_count": 60,
     "metadata": {},
     "output_type": "execute_result"
    }
   ],
   "source": [
    "one_hot_Y[0,1]"
   ]
  },
  {
   "cell_type": "code",
   "execution_count": 61,
   "id": "aa3bdc23",
   "metadata": {},
   "outputs": [
    {
     "data": {
      "text/plain": [
       "0.0"
      ]
     },
     "execution_count": 61,
     "metadata": {},
     "output_type": "execute_result"
    }
   ],
   "source": [
    "one_hot_Y[1,3]"
   ]
  },
  {
   "cell_type": "code",
   "execution_count": 62,
   "id": "83b9e4a7",
   "metadata": {},
   "outputs": [
    {
     "data": {
      "text/plain": [
       "0.0"
      ]
     },
     "execution_count": 62,
     "metadata": {},
     "output_type": "execute_result"
    }
   ],
   "source": [
    "one_hot_Y[2,5]"
   ]
  },
  {
   "cell_type": "code",
   "execution_count": 63,
   "id": "4e6aa3f4",
   "metadata": {},
   "outputs": [
    {
     "data": {
      "text/plain": [
       "0.0"
      ]
     },
     "execution_count": 63,
     "metadata": {},
     "output_type": "execute_result"
    }
   ],
   "source": [
    "one_hot_Y[2,0]"
   ]
  },
  {
   "cell_type": "code",
   "execution_count": 64,
   "id": "2b01bbad",
   "metadata": {},
   "outputs": [],
   "source": [
    "one_hot_Y = one_hot_Y.T"
   ]
  },
  {
   "cell_type": "code",
   "execution_count": 65,
   "id": "8e1b45c6",
   "metadata": {},
   "outputs": [
    {
     "data": {
      "text/plain": [
       "array([[0., 0., 0., ..., 0., 0., 1.],\n",
       "       [0., 0., 1., ..., 0., 1., 0.],\n",
       "       [1., 0., 0., ..., 0., 0., 0.],\n",
       "       ...,\n",
       "       [0., 0., 0., ..., 0., 0., 0.],\n",
       "       [0., 0., 0., ..., 0., 0., 0.],\n",
       "       [0., 0., 0., ..., 1., 0., 0.]])"
      ]
     },
     "execution_count": 65,
     "metadata": {},
     "output_type": "execute_result"
    }
   ],
   "source": [
    "one_hot_Y"
   ]
  },
  {
   "cell_type": "code",
   "execution_count": 66,
   "id": "6135ca9e",
   "metadata": {},
   "outputs": [
    {
     "data": {
      "text/plain": [
       "(10, 41000)"
      ]
     },
     "execution_count": 66,
     "metadata": {},
     "output_type": "execute_result"
    }
   ],
   "source": [
    "A2.shape"
   ]
  },
  {
   "cell_type": "code",
   "execution_count": 67,
   "id": "fb953c9c",
   "metadata": {},
   "outputs": [
    {
     "data": {
      "text/plain": [
       "(10, 41000)"
      ]
     },
     "execution_count": 67,
     "metadata": {},
     "output_type": "execute_result"
    }
   ],
   "source": [
    "one_hot_Y.shape"
   ]
  },
  {
   "cell_type": "code",
   "execution_count": 68,
   "id": "5bbd3647",
   "metadata": {},
   "outputs": [],
   "source": [
    "dZ2 = A2-one_hot_Y"
   ]
  },
  {
   "cell_type": "code",
   "execution_count": 69,
   "id": "42e74bdc",
   "metadata": {},
   "outputs": [
    {
     "data": {
      "text/plain": [
       "array([[ 8.88018703e-02,  4.31250387e-03,  1.02475207e-01, ...,\n",
       "         5.06853991e-02,  9.02434757e-02, -9.98016707e-01],\n",
       "       [ 4.87948498e-02,  1.20070656e-02, -8.28559557e-01, ...,\n",
       "         2.13095117e-02, -8.90481758e-01,  6.34538869e-03],\n",
       "       [-9.84004721e-01,  1.67462907e-04,  1.37549644e-04, ...,\n",
       "         2.36380305e-02,  4.27256524e-04,  1.56448465e-04],\n",
       "       ...,\n",
       "       [ 3.88262278e-02,  1.08922870e-02,  9.53722716e-03, ...,\n",
       "         5.32835166e-02,  1.02998480e-02,  1.04793035e-03],\n",
       "       [ 4.94078407e-02,  2.26822687e-03,  5.90755200e-03, ...,\n",
       "         7.74107463e-02,  5.58231758e-03,  1.71384070e-03],\n",
       "       [ 4.64542575e-02,  1.72076249e-02,  1.09794309e-02, ...,\n",
       "        -9.60938000e-01,  2.47381547e-02,  2.47956877e-02]])"
      ]
     },
     "execution_count": 69,
     "metadata": {},
     "output_type": "execute_result"
    }
   ],
   "source": [
    "dZ2"
   ]
  },
  {
   "cell_type": "code",
   "execution_count": 70,
   "id": "8a53b644",
   "metadata": {},
   "outputs": [
    {
     "data": {
      "text/plain": [
       "(10, 41000)"
      ]
     },
     "execution_count": 70,
     "metadata": {},
     "output_type": "execute_result"
    }
   ],
   "source": [
    "dZ2.shape"
   ]
  },
  {
   "cell_type": "code",
   "execution_count": 71,
   "id": "579a3b41",
   "metadata": {},
   "outputs": [
    {
     "data": {
      "text/plain": [
       "(10, 41000)"
      ]
     },
     "execution_count": 71,
     "metadata": {},
     "output_type": "execute_result"
    }
   ],
   "source": [
    "A1.shape"
   ]
  },
  {
   "cell_type": "code",
   "execution_count": 72,
   "id": "b5a20779",
   "metadata": {},
   "outputs": [],
   "source": [
    "dW2 = 1 / m * dZ2.dot(A1.T)"
   ]
  },
  {
   "cell_type": "code",
   "execution_count": 73,
   "id": "f254170a",
   "metadata": {},
   "outputs": [
    {
     "data": {
      "text/plain": [
       "(10, 10)"
      ]
     },
     "execution_count": 73,
     "metadata": {},
     "output_type": "execute_result"
    }
   ],
   "source": [
    "dW2.shape"
   ]
  },
  {
   "cell_type": "code",
   "execution_count": 74,
   "id": "51cfd687",
   "metadata": {},
   "outputs": [
    {
     "data": {
      "text/plain": [
       "array([[ 6.10014544e-04, -1.92127927e-01,  4.14199362e-03,\n",
       "         2.44878053e-03,  5.12147481e-03, -9.77956068e-02,\n",
       "        -3.63027255e-01, -3.87819587e-03, -1.81727259e-02,\n",
       "         5.47842309e-03],\n",
       "       [ 7.22309576e-03, -2.69118092e-02, -4.75343113e-02,\n",
       "        -2.19497386e-02, -2.89507852e-01, -3.29620122e-02,\n",
       "        -1.33812956e-01,  1.54604825e-03, -9.18305006e-02,\n",
       "        -2.46387657e-02],\n",
       "       [-5.53879655e-03, -2.24094825e-01, -5.73741984e-02,\n",
       "        -2.31370356e-03, -3.25582119e-01, -8.86769945e-02,\n",
       "        -4.62238757e-01,  5.76432244e-05, -1.52597329e-01,\n",
       "        -6.74519111e-03],\n",
       "       [ 1.04579748e-01,  1.28153932e+00,  2.07381347e-01,\n",
       "         1.93026528e-02,  1.39092710e+00,  7.46299014e-01,\n",
       "         2.11013032e+00,  1.34754056e-02,  4.04645900e-01,\n",
       "         3.96412209e-02],\n",
       "       [-7.81543929e-02, -1.68055802e-01, -2.14554631e-02,\n",
       "        -1.03038492e-03, -1.37527340e-01, -1.38332900e-01,\n",
       "        -2.94334443e-01, -9.82806757e-04, -1.14907405e-02,\n",
       "        -1.11710456e-02],\n",
       "       [-2.86390101e-03, -7.19505828e-02, -1.95427149e-02,\n",
       "         2.05833810e-03, -1.02194142e-01, -5.61664385e-02,\n",
       "        -1.33052982e-01, -7.12821962e-04,  1.07229234e-03,\n",
       "         4.65014760e-03],\n",
       "       [ 1.73598100e-02, -1.28141988e-01,  5.47997623e-03,\n",
       "         3.63210882e-03, -1.09239644e-02, -4.98599728e-02,\n",
       "         6.54196024e-02,  1.28763750e-03,  9.63470436e-02,\n",
       "         9.95471339e-03],\n",
       "       [-1.84474172e-02, -1.23562457e-01, -2.27256255e-02,\n",
       "         3.90522800e-04, -7.74905526e-02, -6.81633717e-02,\n",
       "        -2.45849230e-01, -1.24264428e-02, -7.71230842e-02,\n",
       "        -9.16956863e-03],\n",
       "       [-1.23624423e-02, -1.51050358e-01, -3.42446788e-02,\n",
       "        -1.64744022e-03, -3.00545301e-01, -1.30551143e-01,\n",
       "        -3.38897767e-01,  5.15166239e-04, -1.18506673e-01,\n",
       "        -5.31625958e-03],\n",
       "       [-1.24057186e-02, -1.95643568e-01, -1.41263247e-02,\n",
       "        -8.91135766e-04, -1.52277299e-01, -8.37905741e-02,\n",
       "        -2.04336537e-01,  1.11836663e-03, -3.23441820e-02,\n",
       "        -2.68367446e-03]])"
      ]
     },
     "execution_count": 74,
     "metadata": {},
     "output_type": "execute_result"
    }
   ],
   "source": [
    "dW2"
   ]
  },
  {
   "cell_type": "code",
   "execution_count": null,
   "id": "6354e228",
   "metadata": {},
   "outputs": [],
   "source": []
  },
  {
   "cell_type": "code",
   "execution_count": 75,
   "id": "d9c47cb2",
   "metadata": {},
   "outputs": [],
   "source": [
    "db2 = 1 / m * np.sum(dZ2)"
   ]
  },
  {
   "cell_type": "code",
   "execution_count": 76,
   "id": "c146d089",
   "metadata": {},
   "outputs": [
    {
     "data": {
      "text/plain": [
       "-6.606355674150455e-17"
      ]
     },
     "execution_count": 76,
     "metadata": {},
     "output_type": "execute_result"
    }
   ],
   "source": [
    "db2"
   ]
  },
  {
   "cell_type": "code",
   "execution_count": null,
   "id": "45bc705c",
   "metadata": {},
   "outputs": [],
   "source": []
  },
  {
   "cell_type": "code",
   "execution_count": 77,
   "id": "11f4cf3c",
   "metadata": {},
   "outputs": [],
   "source": [
    "def ReLU_deriv(Z):\n",
    "    return Z > 0"
   ]
  },
  {
   "cell_type": "code",
   "execution_count": 78,
   "id": "2ac6d59c",
   "metadata": {},
   "outputs": [],
   "source": [
    "dZ1 = W2.T.dot(dZ2) * ReLU_deriv(Z1)"
   ]
  },
  {
   "cell_type": "code",
   "execution_count": 79,
   "id": "ca607793",
   "metadata": {},
   "outputs": [
    {
     "data": {
      "text/plain": [
       "array([[-0.        , -0.        , -0.        , ...,  0.        ,\n",
       "        -0.        ,  0.36136599],\n",
       "       [-0.11892413,  0.58817174,  0.49475218, ...,  0.61087913,\n",
       "         0.4651599 ,  0.        ],\n",
       "       [ 0.34841475, -0.        , -0.20796472, ...,  0.        ,\n",
       "        -0.20026411, -0.19322343],\n",
       "       ...,\n",
       "       [ 0.        ,  0.        , -0.        , ..., -0.        ,\n",
       "        -0.        ,  0.75808884],\n",
       "       [ 0.        , -0.        , -0.19803877, ..., -0.0914235 ,\n",
       "        -0.18099744, -0.        ],\n",
       "       [-0.        ,  0.        ,  0.        , ...,  0.        ,\n",
       "         0.58553226,  0.        ]])"
      ]
     },
     "execution_count": 79,
     "metadata": {},
     "output_type": "execute_result"
    }
   ],
   "source": [
    "dZ1"
   ]
  },
  {
   "cell_type": "code",
   "execution_count": 80,
   "id": "ac3e1c98",
   "metadata": {},
   "outputs": [
    {
     "data": {
      "text/plain": [
       "(10, 41000)"
      ]
     },
     "execution_count": 80,
     "metadata": {},
     "output_type": "execute_result"
    }
   ],
   "source": [
    "dZ1.shape"
   ]
  },
  {
   "cell_type": "code",
   "execution_count": 81,
   "id": "a0974a8b",
   "metadata": {},
   "outputs": [
    {
     "data": {
      "text/plain": [
       "(784, 41000)"
      ]
     },
     "execution_count": 81,
     "metadata": {},
     "output_type": "execute_result"
    }
   ],
   "source": [
    "X_train.shape"
   ]
  },
  {
   "cell_type": "code",
   "execution_count": 82,
   "id": "86c5c466",
   "metadata": {},
   "outputs": [],
   "source": [
    "dW1 = 1 / m * dZ1.dot(X_train.T)"
   ]
  },
  {
   "cell_type": "code",
   "execution_count": 83,
   "id": "99560443",
   "metadata": {},
   "outputs": [
    {
     "data": {
      "text/plain": [
       "array([[0., 0., 0., ..., 0., 0., 0.],\n",
       "       [0., 0., 0., ..., 0., 0., 0.],\n",
       "       [0., 0., 0., ..., 0., 0., 0.],\n",
       "       ...,\n",
       "       [0., 0., 0., ..., 0., 0., 0.],\n",
       "       [0., 0., 0., ..., 0., 0., 0.],\n",
       "       [0., 0., 0., ..., 0., 0., 0.]])"
      ]
     },
     "execution_count": 83,
     "metadata": {},
     "output_type": "execute_result"
    }
   ],
   "source": [
    "dW1"
   ]
  },
  {
   "cell_type": "code",
   "execution_count": 84,
   "id": "8b74dc14",
   "metadata": {},
   "outputs": [],
   "source": [
    "db1 = 1 / m * np.sum(dZ1)"
   ]
  },
  {
   "cell_type": "code",
   "execution_count": 85,
   "id": "05a8ebc6",
   "metadata": {},
   "outputs": [
    {
     "data": {
      "text/plain": [
       "0.8223640795484723"
      ]
     },
     "execution_count": 85,
     "metadata": {},
     "output_type": "execute_result"
    }
   ],
   "source": [
    "db1"
   ]
  },
  {
   "cell_type": "code",
   "execution_count": null,
   "id": "b480192c",
   "metadata": {},
   "outputs": [],
   "source": []
  },
  {
   "cell_type": "code",
   "execution_count": 86,
   "id": "ad054fe7",
   "metadata": {},
   "outputs": [
    {
     "data": {
      "text/plain": [
       "array([[8.88018703e-02, 4.31250387e-03, 1.02475207e-01, ...,\n",
       "        5.06853991e-02, 9.02434757e-02, 1.98329301e-03],\n",
       "       [4.87948498e-02, 1.20070656e-02, 1.71440443e-01, ...,\n",
       "        2.13095117e-02, 1.09518242e-01, 6.34538869e-03],\n",
       "       [1.59952791e-02, 1.67462907e-04, 1.37549644e-04, ...,\n",
       "        2.36380305e-02, 4.27256524e-04, 1.56448465e-04],\n",
       "       ...,\n",
       "       [3.88262278e-02, 1.08922870e-02, 9.53722716e-03, ...,\n",
       "        5.32835166e-02, 1.02998480e-02, 1.04793035e-03],\n",
       "       [4.94078407e-02, 2.26822687e-03, 5.90755200e-03, ...,\n",
       "        7.74107463e-02, 5.58231758e-03, 1.71384070e-03],\n",
       "       [4.64542575e-02, 1.72076249e-02, 1.09794309e-02, ...,\n",
       "        3.90620002e-02, 2.47381547e-02, 2.47956877e-02]])"
      ]
     },
     "execution_count": 86,
     "metadata": {},
     "output_type": "execute_result"
    }
   ],
   "source": [
    "A2"
   ]
  },
  {
   "cell_type": "code",
   "execution_count": 87,
   "id": "0fc46bca",
   "metadata": {},
   "outputs": [
    {
     "data": {
      "text/plain": [
       "(10, 41000)"
      ]
     },
     "execution_count": 87,
     "metadata": {},
     "output_type": "execute_result"
    }
   ],
   "source": [
    "A2.shape"
   ]
  },
  {
   "cell_type": "code",
   "execution_count": 88,
   "id": "9ac3fcfa",
   "metadata": {},
   "outputs": [
    {
     "data": {
      "text/plain": [
       "0.08880187027129113"
      ]
     },
     "execution_count": 88,
     "metadata": {},
     "output_type": "execute_result"
    }
   ],
   "source": [
    "A2[0][0]"
   ]
  },
  {
   "cell_type": "code",
   "execution_count": 89,
   "id": "a014f604",
   "metadata": {},
   "outputs": [
    {
     "name": "stdout",
     "output_type": "stream",
     "text": [
      "0.0638283220250073\n",
      "0.07689032472703657\n",
      "0.05148052663264752\n",
      "0.14608412123621942\n",
      "0.039366751028650344\n",
      "0.1835772140363233\n",
      "0.17284578768940023\n",
      "0.04539135675103694\n",
      "0.05683956589652176\n",
      "0.1636960299771564\n"
     ]
    }
   ],
   "source": [
    "for i in range(len(A2)):\n",
    "    print(A2[i][200])"
   ]
  },
  {
   "cell_type": "code",
   "execution_count": null,
   "id": "6fdf4923",
   "metadata": {},
   "outputs": [],
   "source": []
  },
  {
   "cell_type": "code",
   "execution_count": null,
   "id": "4ede0155",
   "metadata": {},
   "outputs": [],
   "source": []
  },
  {
   "cell_type": "code",
   "execution_count": null,
   "id": "a45fe395",
   "metadata": {},
   "outputs": [],
   "source": []
  },
  {
   "cell_type": "code",
   "execution_count": 90,
   "id": "103a86e6",
   "metadata": {},
   "outputs": [],
   "source": [
    "temp9 = np.argmax(A2,0)"
   ]
  },
  {
   "cell_type": "code",
   "execution_count": 91,
   "id": "5fa0a367",
   "metadata": {},
   "outputs": [
    {
     "data": {
      "text/plain": [
       "array([3, 3, 3, ..., 3, 3, 3], dtype=int64)"
      ]
     },
     "execution_count": 91,
     "metadata": {},
     "output_type": "execute_result"
    }
   ],
   "source": [
    "temp9"
   ]
  },
  {
   "cell_type": "code",
   "execution_count": 92,
   "id": "4a0779c9",
   "metadata": {},
   "outputs": [
    {
     "data": {
      "text/plain": [
       "(41000,)"
      ]
     },
     "execution_count": 92,
     "metadata": {},
     "output_type": "execute_result"
    }
   ],
   "source": [
    "temp9.shape"
   ]
  },
  {
   "cell_type": "code",
   "execution_count": null,
   "id": "78ff105d",
   "metadata": {},
   "outputs": [],
   "source": []
  },
  {
   "cell_type": "code",
   "execution_count": 169,
   "id": "765e8841",
   "metadata": {},
   "outputs": [],
   "source": [
    "tlist = []\n",
    "for i in range(len(A2)):\n",
    "    tlist.append(np.sum(A2[i][:]))"
   ]
  },
  {
   "cell_type": "code",
   "execution_count": 170,
   "id": "5a0bba6e",
   "metadata": {},
   "outputs": [
    {
     "data": {
      "text/plain": [
       "[2106.682688651104,\n",
       " 2651.7541504112255,\n",
       " 402.95951995256877,\n",
       " 24329.3688174205,\n",
       " 301.319837975624,\n",
       " 2687.1737459267865,\n",
       " 4309.934768104813,\n",
       " 1261.7781450102277,\n",
       " 1199.5386315789292,\n",
       " 1749.4896949682177]"
      ]
     },
     "execution_count": 170,
     "metadata": {},
     "output_type": "execute_result"
    }
   ],
   "source": [
    "tlist"
   ]
  },
  {
   "cell_type": "code",
   "execution_count": 298,
   "id": "26a89766",
   "metadata": {},
   "outputs": [
    {
     "data": {
      "text/plain": [
       "3962"
      ]
     },
     "execution_count": 298,
     "metadata": {},
     "output_type": "execute_result"
    }
   ],
   "source": [
    "np.sum(temp9==Y_train) #Compares element by element and returns count of matching elements."
   ]
  },
  {
   "cell_type": "code",
   "execution_count": 299,
   "id": "1d567e6d",
   "metadata": {},
   "outputs": [
    {
     "data": {
      "text/plain": [
       "41000"
      ]
     },
     "execution_count": 299,
     "metadata": {},
     "output_type": "execute_result"
    }
   ],
   "source": [
    "Y_train.size"
   ]
  },
  {
   "cell_type": "code",
   "execution_count": 300,
   "id": "90782914",
   "metadata": {},
   "outputs": [],
   "source": [
    "temp13 = np.sum(temp9==Y_train)"
   ]
  },
  {
   "cell_type": "code",
   "execution_count": 301,
   "id": "2f765024",
   "metadata": {},
   "outputs": [],
   "source": [
    "accuracy = temp13/Y_train.size"
   ]
  },
  {
   "cell_type": "code",
   "execution_count": 302,
   "id": "8c267983",
   "metadata": {},
   "outputs": [
    {
     "data": {
      "text/plain": [
       "0.09663414634146342"
      ]
     },
     "execution_count": 302,
     "metadata": {},
     "output_type": "execute_result"
    }
   ],
   "source": [
    "accuracy"
   ]
  },
  {
   "cell_type": "code",
   "execution_count": null,
   "id": "838908ed",
   "metadata": {},
   "outputs": [],
   "source": []
  },
  {
   "cell_type": "code",
   "execution_count": null,
   "id": "096e435c",
   "metadata": {},
   "outputs": [],
   "source": []
  },
  {
   "cell_type": "code",
   "execution_count": null,
   "id": "90733b4b",
   "metadata": {},
   "outputs": [],
   "source": []
  },
  {
   "cell_type": "markdown",
   "id": "fd3cd192",
   "metadata": {},
   "source": [
    "<hr>\n",
    "<hr>"
   ]
  },
  {
   "cell_type": "code",
   "execution_count": 93,
   "id": "450964c2",
   "metadata": {},
   "outputs": [],
   "source": [
    "temp7 = ReLU_deriv(Z1)"
   ]
  },
  {
   "cell_type": "code",
   "execution_count": 94,
   "id": "05de5beb",
   "metadata": {},
   "outputs": [
    {
     "data": {
      "text/plain": [
       "(10, 41000)"
      ]
     },
     "execution_count": 94,
     "metadata": {},
     "output_type": "execute_result"
    }
   ],
   "source": [
    "temp7.shape"
   ]
  },
  {
   "cell_type": "code",
   "execution_count": 95,
   "id": "f198ec23",
   "metadata": {},
   "outputs": [
    {
     "data": {
      "text/plain": [
       "array([[False, False, False, ..., False, False,  True],\n",
       "       [ True,  True,  True, ...,  True,  True, False],\n",
       "       [ True, False,  True, ..., False,  True,  True],\n",
       "       ...,\n",
       "       [False, False, False, ..., False, False,  True],\n",
       "       [False, False,  True, ...,  True,  True, False],\n",
       "       [False, False, False, ..., False,  True, False]])"
      ]
     },
     "execution_count": 95,
     "metadata": {},
     "output_type": "execute_result"
    }
   ],
   "source": [
    "temp7"
   ]
  },
  {
   "cell_type": "code",
   "execution_count": 96,
   "id": "cf639f90",
   "metadata": {},
   "outputs": [],
   "source": [
    "temp8 = W2.T.dot(dZ2)"
   ]
  },
  {
   "cell_type": "code",
   "execution_count": 97,
   "id": "cd63faa0",
   "metadata": {},
   "outputs": [
    {
     "data": {
      "text/plain": [
       "array([[-0.14845681, -0.20809215, -0.25037563, ...,  0.38597374,\n",
       "        -0.25663368,  0.36136599],\n",
       "       [-0.11892413,  0.58817174,  0.49475218, ...,  0.61087913,\n",
       "         0.4651599 ,  0.13833334],\n",
       "       [ 0.34841475, -0.33790368, -0.20796472, ...,  0.13602369,\n",
       "        -0.20026411, -0.19322343],\n",
       "       ...,\n",
       "       [ 0.10610844,  0.44969818, -0.04657252, ..., -0.12924022,\n",
       "        -0.09117092,  0.75808884],\n",
       "       [ 0.42232186, -0.2888187 , -0.19803877, ..., -0.0914235 ,\n",
       "        -0.18099744, -0.15562857],\n",
       "       [-0.14781632,  0.05668783,  0.55545287, ...,  0.55551064,\n",
       "         0.58553226,  0.09276137]])"
      ]
     },
     "execution_count": 97,
     "metadata": {},
     "output_type": "execute_result"
    }
   ],
   "source": [
    "temp8"
   ]
  },
  {
   "cell_type": "code",
   "execution_count": 98,
   "id": "1af20ee4",
   "metadata": {},
   "outputs": [
    {
     "data": {
      "text/plain": [
       "2"
      ]
     },
     "execution_count": 98,
     "metadata": {},
     "output_type": "execute_result"
    }
   ],
   "source": [
    "2*True"
   ]
  },
  {
   "cell_type": "code",
   "execution_count": 99,
   "id": "7702f920",
   "metadata": {},
   "outputs": [
    {
     "data": {
      "text/plain": [
       "0"
      ]
     },
     "execution_count": 99,
     "metadata": {},
     "output_type": "execute_result"
    }
   ],
   "source": [
    "2*False"
   ]
  },
  {
   "cell_type": "markdown",
   "id": "10eb3ae2",
   "metadata": {},
   "source": [
    "<hr>\n",
    "<hr>"
   ]
  },
  {
   "cell_type": "code",
   "execution_count": 100,
   "id": "69e3ab0a",
   "metadata": {},
   "outputs": [],
   "source": [
    "tdZ2 = dZ2.copy()"
   ]
  },
  {
   "cell_type": "code",
   "execution_count": 101,
   "id": "75c9bdb6",
   "metadata": {},
   "outputs": [],
   "source": [
    "# sum(tdZ2)"
   ]
  },
  {
   "cell_type": "code",
   "execution_count": 102,
   "id": "956deb8c",
   "metadata": {},
   "outputs": [
    {
     "data": {
      "text/plain": [
       "-2.7746693831431912e-12"
      ]
     },
     "execution_count": 102,
     "metadata": {},
     "output_type": "execute_result"
    }
   ],
   "source": [
    "np.sum(tdZ2)"
   ]
  },
  {
   "cell_type": "markdown",
   "id": "4e37ab42",
   "metadata": {},
   "source": [
    "<hr>\n",
    "<hr>"
   ]
  },
  {
   "cell_type": "code",
   "execution_count": 103,
   "id": "4b2a117b",
   "metadata": {},
   "outputs": [],
   "source": [
    "zeros = np.zeros((10,5))"
   ]
  },
  {
   "cell_type": "code",
   "execution_count": 104,
   "id": "82419e4f",
   "metadata": {},
   "outputs": [
    {
     "data": {
      "text/plain": [
       "array([[0., 0., 0., 0., 0.],\n",
       "       [0., 0., 0., 0., 0.],\n",
       "       [0., 0., 0., 0., 0.],\n",
       "       [0., 0., 0., 0., 0.],\n",
       "       [0., 0., 0., 0., 0.],\n",
       "       [0., 0., 0., 0., 0.],\n",
       "       [0., 0., 0., 0., 0.],\n",
       "       [0., 0., 0., 0., 0.],\n",
       "       [0., 0., 0., 0., 0.],\n",
       "       [0., 0., 0., 0., 0.]])"
      ]
     },
     "execution_count": 104,
     "metadata": {},
     "output_type": "execute_result"
    }
   ],
   "source": [
    "zeros"
   ]
  },
  {
   "cell_type": "code",
   "execution_count": 105,
   "id": "eb4619ae",
   "metadata": {},
   "outputs": [
    {
     "data": {
      "text/plain": [
       "(10, 5)"
      ]
     },
     "execution_count": 105,
     "metadata": {},
     "output_type": "execute_result"
    }
   ],
   "source": [
    "zeros.shape"
   ]
  },
  {
   "cell_type": "code",
   "execution_count": 106,
   "id": "882e40a0",
   "metadata": {},
   "outputs": [
    {
     "data": {
      "text/plain": [
       "50"
      ]
     },
     "execution_count": 106,
     "metadata": {},
     "output_type": "execute_result"
    }
   ],
   "source": [
    "zeros.size"
   ]
  },
  {
   "cell_type": "code",
   "execution_count": 107,
   "id": "5ae3e75d",
   "metadata": {},
   "outputs": [],
   "source": [
    "ttrain = np.array([4,1,2,0,3,4,3,0,1,4])"
   ]
  },
  {
   "cell_type": "code",
   "execution_count": 108,
   "id": "f19cfdfe",
   "metadata": {},
   "outputs": [
    {
     "data": {
      "text/plain": [
       "array([4, 1, 2, 0, 3, 4, 3, 0, 1, 4])"
      ]
     },
     "execution_count": 108,
     "metadata": {},
     "output_type": "execute_result"
    }
   ],
   "source": [
    "ttrain"
   ]
  },
  {
   "cell_type": "code",
   "execution_count": 109,
   "id": "377f196c",
   "metadata": {},
   "outputs": [
    {
     "data": {
      "text/plain": [
       "10"
      ]
     },
     "execution_count": 109,
     "metadata": {},
     "output_type": "execute_result"
    }
   ],
   "source": [
    "ttrain.size"
   ]
  },
  {
   "cell_type": "code",
   "execution_count": 110,
   "id": "908569c9",
   "metadata": {},
   "outputs": [],
   "source": [
    "t1train = np.arange(ttrain.size)"
   ]
  },
  {
   "cell_type": "code",
   "execution_count": 111,
   "id": "fed117f9",
   "metadata": {},
   "outputs": [
    {
     "data": {
      "text/plain": [
       "array([0, 1, 2, 3, 4, 5, 6, 7, 8, 9])"
      ]
     },
     "execution_count": 111,
     "metadata": {},
     "output_type": "execute_result"
    }
   ],
   "source": [
    "t1train"
   ]
  },
  {
   "cell_type": "code",
   "execution_count": 112,
   "id": "3ec520ea",
   "metadata": {},
   "outputs": [],
   "source": [
    "zeros[t1train,ttrain] = 1"
   ]
  },
  {
   "cell_type": "code",
   "execution_count": 113,
   "id": "fb8f7a82",
   "metadata": {},
   "outputs": [
    {
     "data": {
      "text/plain": [
       "array([[0., 0., 0., 0., 1.],\n",
       "       [0., 1., 0., 0., 0.],\n",
       "       [0., 0., 1., 0., 0.],\n",
       "       [1., 0., 0., 0., 0.],\n",
       "       [0., 0., 0., 1., 0.],\n",
       "       [0., 0., 0., 0., 1.],\n",
       "       [0., 0., 0., 1., 0.],\n",
       "       [1., 0., 0., 0., 0.],\n",
       "       [0., 1., 0., 0., 0.],\n",
       "       [0., 0., 0., 0., 1.]])"
      ]
     },
     "execution_count": 113,
     "metadata": {},
     "output_type": "execute_result"
    }
   ],
   "source": [
    "zeros"
   ]
  },
  {
   "cell_type": "markdown",
   "id": "51331939",
   "metadata": {},
   "source": [
    "<hr>\n",
    "<hr>"
   ]
  },
  {
   "cell_type": "code",
   "execution_count": 114,
   "id": "01e41a8a",
   "metadata": {},
   "outputs": [],
   "source": [
    "tZ2 = Z2.copy()"
   ]
  },
  {
   "cell_type": "code",
   "execution_count": 115,
   "id": "fa79fb1a",
   "metadata": {},
   "outputs": [],
   "source": [
    "temp5 = np.exp(tZ2)"
   ]
  },
  {
   "cell_type": "code",
   "execution_count": 116,
   "id": "ea615d58",
   "metadata": {},
   "outputs": [
    {
     "data": {
      "text/plain": [
       "(10, 41000)"
      ]
     },
     "execution_count": 116,
     "metadata": {},
     "output_type": "execute_result"
    }
   ],
   "source": [
    "temp5.shape"
   ]
  },
  {
   "cell_type": "code",
   "execution_count": 117,
   "id": "32e29606",
   "metadata": {},
   "outputs": [
    {
     "data": {
      "text/plain": [
       "array([[1.67851296e+00, 5.30138365e-01, 9.16712979e+00, ...,\n",
       "        1.09323764e+00, 4.58325430e+00, 1.95471399e-01],\n",
       "       [9.22309264e-01, 1.47603487e+00, 1.53365564e+01, ...,\n",
       "        4.59626654e-01, 5.56217443e+00, 6.25395241e-01],\n",
       "       [3.02339164e-01, 2.05863031e-02, 1.23047855e-02, ...,\n",
       "        5.09850671e-01, 2.16993559e-02, 1.54194061e-02],\n",
       "       ...,\n",
       "       [7.33884616e-01, 1.33899456e+00, 8.53172214e-01, ...,\n",
       "        1.14927666e+00, 5.23105103e-01, 1.03282980e-01],\n",
       "       [9.33895879e-01, 2.78834320e-01, 5.28472179e-01, ...,\n",
       "        1.66967891e+00, 2.83512806e-01, 1.68914446e-01],\n",
       "       [8.78067915e-01, 2.11534236e+00, 9.82187504e-01, ...,\n",
       "        8.42531572e-01, 1.25639281e+00, 2.44383848e+00]])"
      ]
     },
     "execution_count": 117,
     "metadata": {},
     "output_type": "execute_result"
    }
   ],
   "source": [
    "temp5"
   ]
  },
  {
   "cell_type": "code",
   "execution_count": 118,
   "id": "5a812923",
   "metadata": {},
   "outputs": [],
   "source": [
    "temp6 = sum(np.exp(tZ2))"
   ]
  },
  {
   "cell_type": "code",
   "execution_count": 119,
   "id": "66d13088",
   "metadata": {},
   "outputs": [
    {
     "data": {
      "text/plain": [
       "(41000,)"
      ]
     },
     "execution_count": 119,
     "metadata": {},
     "output_type": "execute_result"
    }
   ],
   "source": [
    "temp6.shape"
   ]
  },
  {
   "cell_type": "code",
   "execution_count": 120,
   "id": "7a89a0f9",
   "metadata": {},
   "outputs": [
    {
     "data": {
      "text/plain": [
       "array([ 18.90177484, 122.93052516,  89.4570507 , ...,  21.56908425,\n",
       "        50.78765266,  98.55901204])"
      ]
     },
     "execution_count": 120,
     "metadata": {},
     "output_type": "execute_result"
    }
   ],
   "source": [
    "temp6"
   ]
  },
  {
   "cell_type": "code",
   "execution_count": 121,
   "id": "80fe3dcc",
   "metadata": {},
   "outputs": [
    {
     "data": {
      "text/plain": [
       "array([[8.88018703e-02, 4.31250387e-03, 1.02475207e-01, ...,\n",
       "        5.06853991e-02, 9.02434757e-02, 1.98329301e-03],\n",
       "       [4.87948498e-02, 1.20070656e-02, 1.71440443e-01, ...,\n",
       "        2.13095117e-02, 1.09518242e-01, 6.34538869e-03],\n",
       "       [1.59952791e-02, 1.67462907e-04, 1.37549644e-04, ...,\n",
       "        2.36380305e-02, 4.27256524e-04, 1.56448465e-04],\n",
       "       ...,\n",
       "       [3.88262278e-02, 1.08922870e-02, 9.53722716e-03, ...,\n",
       "        5.32835166e-02, 1.02998480e-02, 1.04793035e-03],\n",
       "       [4.94078407e-02, 2.26822687e-03, 5.90755200e-03, ...,\n",
       "        7.74107463e-02, 5.58231758e-03, 1.71384070e-03],\n",
       "       [4.64542575e-02, 1.72076249e-02, 1.09794309e-02, ...,\n",
       "        3.90620002e-02, 2.47381547e-02, 2.47956877e-02]])"
      ]
     },
     "execution_count": 121,
     "metadata": {},
     "output_type": "execute_result"
    }
   ],
   "source": [
    "temp5/temp6"
   ]
  },
  {
   "cell_type": "markdown",
   "id": "5e073b6e",
   "metadata": {},
   "source": [
    "<hr>\n",
    "<hr>"
   ]
  },
  {
   "cell_type": "code",
   "execution_count": 122,
   "id": "c4f9c69f",
   "metadata": {},
   "outputs": [],
   "source": [
    "tW1 = np.random.rand(10,5)-0.5"
   ]
  },
  {
   "cell_type": "code",
   "execution_count": 123,
   "id": "eddfc6df",
   "metadata": {},
   "outputs": [
    {
     "data": {
      "text/plain": [
       "array([[-0.19761123,  0.23989854, -0.25572329,  0.13558898,  0.27553099],\n",
       "       [ 0.22281535,  0.29656624, -0.08360195, -0.34921463,  0.22356785],\n",
       "       [ 0.16802313,  0.4403128 ,  0.33988964,  0.21220064,  0.43793211],\n",
       "       [-0.19208863, -0.04119497,  0.35146806, -0.22564871, -0.00344075],\n",
       "       [-0.4311577 ,  0.0450936 ,  0.05651832,  0.19953532, -0.1792506 ],\n",
       "       [ 0.13119952, -0.0735827 ,  0.03416845, -0.36379341,  0.33502832],\n",
       "       [-0.04502242, -0.39581782,  0.40964029,  0.1135006 , -0.06864803],\n",
       "       [ 0.24737163,  0.46090124,  0.4527692 ,  0.3906826 ,  0.29616876],\n",
       "       [ 0.38027036, -0.06355278,  0.21335469,  0.48758519, -0.30614924],\n",
       "       [-0.23164411,  0.42251461,  0.23341109, -0.38813942,  0.34420371]])"
      ]
     },
     "execution_count": 123,
     "metadata": {},
     "output_type": "execute_result"
    }
   ],
   "source": [
    "tW1"
   ]
  },
  {
   "cell_type": "code",
   "execution_count": 124,
   "id": "14464f0d",
   "metadata": {},
   "outputs": [],
   "source": [
    "tb1 = np.random.rand(10,1)-0.5"
   ]
  },
  {
   "cell_type": "code",
   "execution_count": 125,
   "id": "7e1882cb",
   "metadata": {},
   "outputs": [
    {
     "data": {
      "text/plain": [
       "array([[-0.21787414],\n",
       "       [-0.36089516],\n",
       "       [ 0.26315027],\n",
       "       [ 0.38100004],\n",
       "       [-0.18446984],\n",
       "       [ 0.02194281],\n",
       "       [-0.42546841],\n",
       "       [ 0.40463841],\n",
       "       [ 0.25133125],\n",
       "       [-0.07075438]])"
      ]
     },
     "execution_count": 125,
     "metadata": {},
     "output_type": "execute_result"
    }
   ],
   "source": [
    "tb1"
   ]
  },
  {
   "cell_type": "code",
   "execution_count": null,
   "id": "aa5dfd80",
   "metadata": {},
   "outputs": [],
   "source": []
  },
  {
   "cell_type": "code",
   "execution_count": 126,
   "id": "6406c75c",
   "metadata": {},
   "outputs": [],
   "source": [
    "t2W1 = np.random.randn(10,5)\n",
    "t1W1 = np.random.rand(10,5)"
   ]
  },
  {
   "cell_type": "code",
   "execution_count": 127,
   "id": "1da6b0d6",
   "metadata": {},
   "outputs": [
    {
     "data": {
      "text/plain": [
       "array([[-0.86743454, -0.90078438,  1.50918107, -0.14730819,  0.72832381],\n",
       "       [ 0.47116374,  1.34021161, -0.27399239, -0.00365216, -0.95583172],\n",
       "       [ 0.34327212,  0.50443968, -0.19779227, -0.92380488,  1.89817057],\n",
       "       [-0.79267975,  0.29797388, -1.22237872,  0.22260997, -1.0394518 ],\n",
       "       [ 0.65651654, -0.05461522, -0.41572962, -0.26876389, -0.88109403],\n",
       "       [ 0.20269428,  0.33536181, -0.50856693, -1.10173876,  1.21491654],\n",
       "       [-1.12577335,  0.88443832,  0.00537618,  1.95572359, -1.49911015],\n",
       "       [-0.635863  , -0.66513929,  0.70723683,  0.7356705 ,  0.71921884],\n",
       "       [-0.3805867 , -0.33261773, -0.58435465, -0.7454669 , -0.49377857],\n",
       "       [ 0.34640427,  0.79754213, -0.77526423,  0.14290811,  1.3688261 ]])"
      ]
     },
     "execution_count": 127,
     "metadata": {},
     "output_type": "execute_result"
    }
   ],
   "source": [
    "t2W1"
   ]
  },
  {
   "cell_type": "code",
   "execution_count": 128,
   "id": "4495914c",
   "metadata": {},
   "outputs": [
    {
     "data": {
      "text/plain": [
       "array([[0.32515308, 0.48045378, 0.14017543, 0.99513981, 0.80157342],\n",
       "       [0.10556542, 0.04471852, 0.88595365, 0.65703076, 0.56974035],\n",
       "       [0.66976084, 0.8036093 , 0.44731409, 0.9872475 , 0.17369682],\n",
       "       [0.26746212, 0.243559  , 0.39123342, 0.87866981, 0.02596544],\n",
       "       [0.90450345, 0.05895531, 0.25473501, 0.94484297, 0.02194453],\n",
       "       [0.24668377, 0.75159202, 0.42654469, 0.30444931, 0.74337076],\n",
       "       [0.69851588, 0.04638037, 0.75775512, 0.19257951, 0.75824735],\n",
       "       [0.07004821, 0.65042573, 0.10253873, 0.77566007, 0.50006772],\n",
       "       [0.99012739, 0.67556689, 0.08699092, 0.62747852, 0.3278424 ],\n",
       "       [0.50141793, 0.17571278, 0.79081365, 0.25543766, 0.7870042 ]])"
      ]
     },
     "execution_count": 128,
     "metadata": {},
     "output_type": "execute_result"
    }
   ],
   "source": [
    "t1W1"
   ]
  },
  {
   "cell_type": "code",
   "execution_count": 129,
   "id": "33dac935",
   "metadata": {},
   "outputs": [
    {
     "data": {
      "text/plain": [
       "0.45689843656900103"
      ]
     },
     "execution_count": 129,
     "metadata": {},
     "output_type": "execute_result"
    }
   ],
   "source": [
    "np.random.randn()"
   ]
  },
  {
   "cell_type": "code",
   "execution_count": 130,
   "id": "09652682",
   "metadata": {},
   "outputs": [
    {
     "data": {
      "text/plain": [
       "0.3014270756718652"
      ]
     },
     "execution_count": 130,
     "metadata": {},
     "output_type": "execute_result"
    }
   ],
   "source": [
    "np.random.rand()"
   ]
  },
  {
   "cell_type": "markdown",
   "id": "e5c40699",
   "metadata": {},
   "source": [
    "<hr>\n",
    "<hr>"
   ]
  },
  {
   "cell_type": "code",
   "execution_count": 131,
   "id": "77d5866a",
   "metadata": {},
   "outputs": [],
   "source": [
    "tdata = (np.linspace(0,1,21))"
   ]
  },
  {
   "cell_type": "code",
   "execution_count": 132,
   "id": "9c504fe4",
   "metadata": {},
   "outputs": [],
   "source": [
    "newdata = tdata.reshape(7,3)"
   ]
  },
  {
   "cell_type": "code",
   "execution_count": 133,
   "id": "f1215d9a",
   "metadata": {},
   "outputs": [
    {
     "data": {
      "text/plain": [
       "array([[0.  , 0.05, 0.1 ],\n",
       "       [0.15, 0.2 , 0.25],\n",
       "       [0.3 , 0.35, 0.4 ],\n",
       "       [0.45, 0.5 , 0.55],\n",
       "       [0.6 , 0.65, 0.7 ],\n",
       "       [0.75, 0.8 , 0.85],\n",
       "       [0.9 , 0.95, 1.  ]])"
      ]
     },
     "execution_count": 133,
     "metadata": {},
     "output_type": "execute_result"
    }
   ],
   "source": [
    "newdata"
   ]
  },
  {
   "cell_type": "code",
   "execution_count": 134,
   "id": "2ea0e223",
   "metadata": {},
   "outputs": [
    {
     "data": {
      "text/plain": [
       "array([[0.        , 0.00019608, 0.00039216],\n",
       "       [0.00058824, 0.00078431, 0.00098039],\n",
       "       [0.00117647, 0.00137255, 0.00156863],\n",
       "       [0.00176471, 0.00196078, 0.00215686],\n",
       "       [0.00235294, 0.00254902, 0.0027451 ],\n",
       "       [0.00294118, 0.00313725, 0.00333333],\n",
       "       [0.00352941, 0.00372549, 0.00392157]])"
      ]
     },
     "execution_count": 134,
     "metadata": {},
     "output_type": "execute_result"
    }
   ],
   "source": [
    "newdata/255."
   ]
  },
  {
   "cell_type": "code",
   "execution_count": null,
   "id": "bddc20f8",
   "metadata": {},
   "outputs": [],
   "source": []
  },
  {
   "cell_type": "code",
   "execution_count": 135,
   "id": "e4ab40a6",
   "metadata": {},
   "outputs": [],
   "source": [
    "t3W2 = np.random.rand(10, 10) - 0.5"
   ]
  },
  {
   "cell_type": "code",
   "execution_count": 136,
   "id": "71f87628",
   "metadata": {},
   "outputs": [],
   "source": [
    "t3W1 = np.random.rand(10, 784) - 0.5"
   ]
  },
  {
   "cell_type": "code",
   "execution_count": null,
   "id": "d3545742",
   "metadata": {},
   "outputs": [],
   "source": []
  },
  {
   "cell_type": "code",
   "execution_count": 137,
   "id": "0a9bbaba",
   "metadata": {},
   "outputs": [],
   "source": [
    "a = np.array([[1,2],[3,4],[5,8]]) \n",
    "b = np.array([[11,12,10],[13,14,15]])"
   ]
  },
  {
   "cell_type": "code",
   "execution_count": 138,
   "id": "aa09f788",
   "metadata": {},
   "outputs": [
    {
     "data": {
      "text/plain": [
       "array([[1, 2],\n",
       "       [3, 4],\n",
       "       [5, 8]])"
      ]
     },
     "execution_count": 138,
     "metadata": {},
     "output_type": "execute_result"
    }
   ],
   "source": [
    "a"
   ]
  },
  {
   "cell_type": "code",
   "execution_count": 139,
   "id": "df85ec35",
   "metadata": {},
   "outputs": [
    {
     "data": {
      "text/plain": [
       "(3, 2)"
      ]
     },
     "execution_count": 139,
     "metadata": {},
     "output_type": "execute_result"
    }
   ],
   "source": [
    "a.shape"
   ]
  },
  {
   "cell_type": "code",
   "execution_count": 140,
   "id": "2e9d1419",
   "metadata": {},
   "outputs": [
    {
     "data": {
      "text/plain": [
       "array([[11, 12, 10],\n",
       "       [13, 14, 15]])"
      ]
     },
     "execution_count": 140,
     "metadata": {},
     "output_type": "execute_result"
    }
   ],
   "source": [
    "b"
   ]
  },
  {
   "cell_type": "code",
   "execution_count": 141,
   "id": "6cfbfa40",
   "metadata": {},
   "outputs": [
    {
     "data": {
      "text/plain": [
       "(2, 3)"
      ]
     },
     "execution_count": 141,
     "metadata": {},
     "output_type": "execute_result"
    }
   ],
   "source": [
    "b.shape"
   ]
  },
  {
   "cell_type": "code",
   "execution_count": 142,
   "id": "4d147485",
   "metadata": {},
   "outputs": [],
   "source": [
    "c = np.dot(a,b)"
   ]
  },
  {
   "cell_type": "code",
   "execution_count": 143,
   "id": "66d20eb1",
   "metadata": {},
   "outputs": [],
   "source": [
    "d = a.dot(b)"
   ]
  },
  {
   "cell_type": "code",
   "execution_count": 144,
   "id": "2fe7c85d",
   "metadata": {},
   "outputs": [
    {
     "data": {
      "text/plain": [
       "array([[ 37,  40,  40],\n",
       "       [ 85,  92,  90],\n",
       "       [159, 172, 170]])"
      ]
     },
     "execution_count": 144,
     "metadata": {},
     "output_type": "execute_result"
    }
   ],
   "source": [
    "c"
   ]
  },
  {
   "cell_type": "code",
   "execution_count": 145,
   "id": "216b70f6",
   "metadata": {},
   "outputs": [
    {
     "data": {
      "text/plain": [
       "array([[ 37,  40,  40],\n",
       "       [ 85,  92,  90],\n",
       "       [159, 172, 170]])"
      ]
     },
     "execution_count": 145,
     "metadata": {},
     "output_type": "execute_result"
    }
   ],
   "source": [
    "d"
   ]
  },
  {
   "cell_type": "code",
   "execution_count": 146,
   "id": "dd189edf",
   "metadata": {},
   "outputs": [
    {
     "data": {
      "text/plain": [
       "(3, 3)"
      ]
     },
     "execution_count": 146,
     "metadata": {},
     "output_type": "execute_result"
    }
   ],
   "source": [
    "c.shape"
   ]
  },
  {
   "cell_type": "code",
   "execution_count": 147,
   "id": "d2b48000",
   "metadata": {},
   "outputs": [
    {
     "data": {
      "text/plain": [
       "(3, 3)"
      ]
     },
     "execution_count": 147,
     "metadata": {},
     "output_type": "execute_result"
    }
   ],
   "source": [
    "d.shape"
   ]
  },
  {
   "cell_type": "code",
   "execution_count": 148,
   "id": "73f1a988",
   "metadata": {},
   "outputs": [
    {
     "data": {
      "text/plain": [
       "array([[1.17191424e+16, 2.35385267e+17, 2.35385267e+17],\n",
       "       [8.22301271e+36, 9.01762841e+39, 1.22040329e+39],\n",
       "       [1.12933457e+69, 4.99632738e+74, 6.76179381e+73]])"
      ]
     },
     "execution_count": 148,
     "metadata": {},
     "output_type": "execute_result"
    }
   ],
   "source": [
    "np.exp(d)"
   ]
  },
  {
   "cell_type": "code",
   "execution_count": 149,
   "id": "d3d147c9",
   "metadata": {},
   "outputs": [
    {
     "data": {
      "text/plain": [
       "array([1.12933457e+69, 4.99632738e+74, 6.76179381e+73])"
      ]
     },
     "execution_count": 149,
     "metadata": {},
     "output_type": "execute_result"
    }
   ],
   "source": [
    "sum(np.exp(d))"
   ]
  },
  {
   "cell_type": "code",
   "execution_count": null,
   "id": "25a7d809",
   "metadata": {},
   "outputs": [],
   "source": []
  },
  {
   "cell_type": "code",
   "execution_count": null,
   "id": "fcc621bf",
   "metadata": {},
   "outputs": [],
   "source": []
  },
  {
   "cell_type": "code",
   "execution_count": 150,
   "id": "d08ba7a9",
   "metadata": {},
   "outputs": [],
   "source": [
    "def matrix_cofactor(matrix):\n",
    " \n",
    "    try:\n",
    "        determinant = np.linalg.det(matrix)\n",
    "        if(determinant!=0):\n",
    "            cofactor = None\n",
    "            cofactor = np.linalg.inv(matrix).T * determinant\n",
    "            # return cofactor matrix of the given matrix\n",
    "            return cofactor\n",
    "        else:\n",
    "            raise Exception(\"singular matrix\")\n",
    "    except Exception as e:\n",
    "        print(\"could not find cofactor matrix due to\",e)"
   ]
  },
  {
   "cell_type": "code",
   "execution_count": 151,
   "id": "3d5c880b",
   "metadata": {},
   "outputs": [],
   "source": [
    "e = np.array([[2,3,1],[0,5,6],[1,1,2]])\n",
    "f = np.array([[2,1,-1],[1,0,-1],[1,1,2]])"
   ]
  },
  {
   "cell_type": "code",
   "execution_count": 152,
   "id": "c3875163",
   "metadata": {},
   "outputs": [
    {
     "data": {
      "text/plain": [
       "array([[2, 3, 1],\n",
       "       [0, 5, 6],\n",
       "       [1, 1, 2]])"
      ]
     },
     "execution_count": 152,
     "metadata": {},
     "output_type": "execute_result"
    }
   ],
   "source": [
    "e"
   ]
  },
  {
   "cell_type": "code",
   "execution_count": 153,
   "id": "5de618ea",
   "metadata": {},
   "outputs": [
    {
     "data": {
      "text/plain": [
       "array([[ 2,  1, -1],\n",
       "       [ 1,  0, -1],\n",
       "       [ 1,  1,  2]])"
      ]
     },
     "execution_count": 153,
     "metadata": {},
     "output_type": "execute_result"
    }
   ],
   "source": [
    "f"
   ]
  },
  {
   "cell_type": "code",
   "execution_count": 154,
   "id": "2350eebb",
   "metadata": {},
   "outputs": [],
   "source": [
    "inverse_f = np.linalg.inv(f)"
   ]
  },
  {
   "cell_type": "code",
   "execution_count": 155,
   "id": "c35a5bd3",
   "metadata": {},
   "outputs": [
    {
     "data": {
      "text/plain": [
       "array([[-0.5,  1.5,  0.5],\n",
       "       [ 1.5, -2.5, -0.5],\n",
       "       [-0.5,  0.5,  0.5]])"
      ]
     },
     "execution_count": 155,
     "metadata": {},
     "output_type": "execute_result"
    }
   ],
   "source": [
    "inverse_f"
   ]
  },
  {
   "cell_type": "code",
   "execution_count": null,
   "id": "9e9111c8",
   "metadata": {},
   "outputs": [],
   "source": []
  },
  {
   "cell_type": "code",
   "execution_count": 156,
   "id": "6196604f",
   "metadata": {},
   "outputs": [],
   "source": [
    "cof_f = matrix_cofactor(f)"
   ]
  },
  {
   "cell_type": "code",
   "execution_count": 157,
   "id": "8e08c150",
   "metadata": {},
   "outputs": [
    {
     "data": {
      "text/plain": [
       "array([[ 1., -3.,  1.],\n",
       "       [-3.,  5., -1.],\n",
       "       [-1.,  1., -1.]])"
      ]
     },
     "execution_count": 157,
     "metadata": {},
     "output_type": "execute_result"
    }
   ],
   "source": [
    "cof_f"
   ]
  },
  {
   "cell_type": "code",
   "execution_count": null,
   "id": "41875c16",
   "metadata": {},
   "outputs": [],
   "source": []
  },
  {
   "cell_type": "code",
   "execution_count": 158,
   "id": "e02c05ac",
   "metadata": {},
   "outputs": [],
   "source": [
    "def matrix_division(m1,m2):\n",
    "    return np.dot(m1,(np.linalg.inv(m2)))"
   ]
  },
  {
   "cell_type": "code",
   "execution_count": 159,
   "id": "c82c09cf",
   "metadata": {},
   "outputs": [
    {
     "data": {
      "text/plain": [
       "array([[ 3. , -4. ,  0. ],\n",
       "       [ 4.5, -9.5,  0.5],\n",
       "       [ 0. ,  0. ,  1. ]])"
      ]
     },
     "execution_count": 159,
     "metadata": {},
     "output_type": "execute_result"
    }
   ],
   "source": [
    "matrix_division(e,f)"
   ]
  },
  {
   "cell_type": "code",
   "execution_count": null,
   "id": "8edc5a6a",
   "metadata": {},
   "outputs": [],
   "source": []
  },
  {
   "cell_type": "markdown",
   "id": "ffefb107",
   "metadata": {},
   "source": [
    "<hr>\n",
    "<hr>"
   ]
  },
  {
   "cell_type": "code",
   "execution_count": 160,
   "id": "59719b0c",
   "metadata": {},
   "outputs": [],
   "source": [
    "temp10 = (np.linspace(1,50,50)).reshape(10,5)"
   ]
  },
  {
   "cell_type": "code",
   "execution_count": 161,
   "id": "7a4af4b5",
   "metadata": {},
   "outputs": [
    {
     "data": {
      "text/plain": [
       "50"
      ]
     },
     "execution_count": 161,
     "metadata": {},
     "output_type": "execute_result"
    }
   ],
   "source": [
    "temp10.size"
   ]
  },
  {
   "cell_type": "code",
   "execution_count": 162,
   "id": "3a519e0c",
   "metadata": {},
   "outputs": [
    {
     "data": {
      "text/plain": [
       "array([[ 1.,  2.,  3.,  4.,  5.],\n",
       "       [ 6.,  7.,  8.,  9., 10.],\n",
       "       [11., 12., 13., 14., 15.],\n",
       "       [16., 17., 18., 19., 20.],\n",
       "       [21., 22., 23., 24., 25.],\n",
       "       [26., 27., 28., 29., 30.],\n",
       "       [31., 32., 33., 34., 35.],\n",
       "       [36., 37., 38., 39., 40.],\n",
       "       [41., 42., 43., 44., 45.],\n",
       "       [46., 47., 48., 49., 50.]])"
      ]
     },
     "execution_count": 162,
     "metadata": {},
     "output_type": "execute_result"
    }
   ],
   "source": [
    "temp10"
   ]
  },
  {
   "cell_type": "code",
   "execution_count": 163,
   "id": "2edad3c1",
   "metadata": {},
   "outputs": [],
   "source": [
    "np.random.shuffle(temp10)"
   ]
  },
  {
   "cell_type": "code",
   "execution_count": 164,
   "id": "089621d7",
   "metadata": {},
   "outputs": [
    {
     "data": {
      "text/plain": [
       "array([[31., 32., 33., 34., 35.],\n",
       "       [36., 37., 38., 39., 40.],\n",
       "       [46., 47., 48., 49., 50.],\n",
       "       [41., 42., 43., 44., 45.],\n",
       "       [26., 27., 28., 29., 30.],\n",
       "       [16., 17., 18., 19., 20.],\n",
       "       [11., 12., 13., 14., 15.],\n",
       "       [ 1.,  2.,  3.,  4.,  5.],\n",
       "       [21., 22., 23., 24., 25.],\n",
       "       [ 6.,  7.,  8.,  9., 10.]])"
      ]
     },
     "execution_count": 164,
     "metadata": {},
     "output_type": "execute_result"
    }
   ],
   "source": [
    "temp10"
   ]
  },
  {
   "cell_type": "code",
   "execution_count": 165,
   "id": "de540f08",
   "metadata": {},
   "outputs": [
    {
     "data": {
      "text/plain": [
       "6.0"
      ]
     },
     "execution_count": 165,
     "metadata": {},
     "output_type": "execute_result"
    }
   ],
   "source": [
    "temp10[9][0] # temp10[index_of_rows][index_of_columns]"
   ]
  },
  {
   "cell_type": "code",
   "execution_count": 166,
   "id": "90d54a16",
   "metadata": {},
   "outputs": [
    {
     "data": {
      "text/plain": [
       "array([2, 2, 2, 2, 2], dtype=int64)"
      ]
     },
     "execution_count": 166,
     "metadata": {},
     "output_type": "execute_result"
    }
   ],
   "source": [
    "np.argmax(temp10,0) # axis=0 represents columns and axis=1 represents rows"
   ]
  },
  {
   "cell_type": "code",
   "execution_count": null,
   "id": "3ce06bef",
   "metadata": {},
   "outputs": [],
   "source": []
  },
  {
   "cell_type": "code",
   "execution_count": 178,
   "id": "23c51030",
   "metadata": {},
   "outputs": [
    {
     "data": {
      "text/plain": [
       "array([34., 39., 49., 44., 29., 19., 14.,  4., 24.,  9.])"
      ]
     },
     "execution_count": 178,
     "metadata": {},
     "output_type": "execute_result"
    }
   ],
   "source": [
    "temp10[:,3]"
   ]
  },
  {
   "cell_type": "code",
   "execution_count": 179,
   "id": "b99007ba",
   "metadata": {},
   "outputs": [
    {
     "data": {
      "text/plain": [
       "array([16., 17., 18., 19., 20.])"
      ]
     },
     "execution_count": 179,
     "metadata": {},
     "output_type": "execute_result"
    }
   ],
   "source": [
    "temp10[5,:]"
   ]
  },
  {
   "cell_type": "code",
   "execution_count": null,
   "id": "f7106b14",
   "metadata": {},
   "outputs": [],
   "source": []
  },
  {
   "cell_type": "code",
   "execution_count": 293,
   "id": "4f65e2b2",
   "metadata": {},
   "outputs": [],
   "source": [
    "temp11 = np.around(np.random.rand(6, 6)*10,decimals=0)\n",
    "temp12 = np.around(np.random.rand(6, 6)*10,decimals=0)"
   ]
  },
  {
   "cell_type": "code",
   "execution_count": 294,
   "id": "e71b848a",
   "metadata": {},
   "outputs": [
    {
     "data": {
      "text/plain": [
       "array([[ 5., 10.,  8.,  9.,  3.,  5.],\n",
       "       [ 7.,  8.,  7.,  8.,  5.,  6.],\n",
       "       [ 7.,  4.,  4.,  1.,  5.,  4.],\n",
       "       [ 0.,  9., 10.,  5.,  4.,  2.],\n",
       "       [ 8.,  9.,  7.,  2.,  3.,  8.],\n",
       "       [ 7.,  5.,  2.,  7.,  0.,  1.]])"
      ]
     },
     "execution_count": 294,
     "metadata": {},
     "output_type": "execute_result"
    }
   ],
   "source": [
    "temp11"
   ]
  },
  {
   "cell_type": "code",
   "execution_count": 295,
   "id": "12c925f0",
   "metadata": {},
   "outputs": [
    {
     "data": {
      "text/plain": [
       "array([[ 4.,  5.,  9.,  3.,  8.,  6.],\n",
       "       [ 4.,  6.,  4.,  8.,  2.,  5.],\n",
       "       [ 9., 10.,  2.,  5.,  1.,  8.],\n",
       "       [ 1.,  5.,  1.,  8.,  3.,  3.],\n",
       "       [ 9.,  9.,  5.,  9.,  5.,  9.],\n",
       "       [ 3.,  7.,  3.,  3.,  6.,  4.]])"
      ]
     },
     "execution_count": 295,
     "metadata": {},
     "output_type": "execute_result"
    }
   ],
   "source": [
    "temp12"
   ]
  },
  {
   "cell_type": "code",
   "execution_count": 297,
   "id": "fb632655",
   "metadata": {},
   "outputs": [
    {
     "data": {
      "text/plain": [
       "2"
      ]
     },
     "execution_count": 297,
     "metadata": {},
     "output_type": "execute_result"
    }
   ],
   "source": [
    "np.sum(temp11==temp12) #Returns the count of matching elements."
   ]
  },
  {
   "cell_type": "code",
   "execution_count": null,
   "id": "78b1d88a",
   "metadata": {},
   "outputs": [],
   "source": []
  },
  {
   "cell_type": "code",
   "execution_count": null,
   "id": "95c3d841",
   "metadata": {},
   "outputs": [],
   "source": []
  },
  {
   "cell_type": "code",
   "execution_count": null,
   "id": "a61df26d",
   "metadata": {},
   "outputs": [],
   "source": []
  },
  {
   "cell_type": "code",
   "execution_count": null,
   "id": "12ed90e1",
   "metadata": {},
   "outputs": [],
   "source": []
  },
  {
   "cell_type": "code",
   "execution_count": null,
   "id": "0f9baf1f",
   "metadata": {},
   "outputs": [],
   "source": []
  },
  {
   "cell_type": "code",
   "execution_count": null,
   "id": "ad82ec22",
   "metadata": {},
   "outputs": [],
   "source": []
  },
  {
   "cell_type": "code",
   "execution_count": null,
   "id": "070daaac",
   "metadata": {},
   "outputs": [],
   "source": []
  },
  {
   "cell_type": "code",
   "execution_count": null,
   "id": "4f9b4cf1",
   "metadata": {},
   "outputs": [],
   "source": []
  },
  {
   "cell_type": "code",
   "execution_count": null,
   "id": "c69e56f4",
   "metadata": {},
   "outputs": [],
   "source": []
  },
  {
   "cell_type": "code",
   "execution_count": null,
   "id": "de863d20",
   "metadata": {},
   "outputs": [],
   "source": []
  }
 ],
 "metadata": {
  "kernelspec": {
   "display_name": "Python 3",
   "language": "python",
   "name": "python3"
  },
  "language_info": {
   "codemirror_mode": {
    "name": "ipython",
    "version": 3
   },
   "file_extension": ".py",
   "mimetype": "text/x-python",
   "name": "python",
   "nbconvert_exporter": "python",
   "pygments_lexer": "ipython3",
   "version": "3.8.8"
  }
 },
 "nbformat": 4,
 "nbformat_minor": 5
}
