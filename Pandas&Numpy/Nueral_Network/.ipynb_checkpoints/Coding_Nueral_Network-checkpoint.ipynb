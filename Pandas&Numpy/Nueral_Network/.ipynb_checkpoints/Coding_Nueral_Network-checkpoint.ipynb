{
 "cells": [
  {
   "cell_type": "code",
   "execution_count": 1,
   "id": "0a51ff4d",
   "metadata": {},
   "outputs": [],
   "source": [
    "import numpy as np\n",
    "import pandas as pd\n",
    "from matplotlib import pyplot as plt"
   ]
  },
  {
   "cell_type": "code",
   "execution_count": 2,
   "id": "753a591b",
   "metadata": {},
   "outputs": [],
   "source": [
    "data = pd.read_csv('train.csv')"
   ]
  },
  {
   "cell_type": "code",
   "execution_count": 3,
   "id": "fa2f862a",
   "metadata": {},
   "outputs": [
    {
     "data": {
      "text/html": [
       "<div>\n",
       "<style scoped>\n",
       "    .dataframe tbody tr th:only-of-type {\n",
       "        vertical-align: middle;\n",
       "    }\n",
       "\n",
       "    .dataframe tbody tr th {\n",
       "        vertical-align: top;\n",
       "    }\n",
       "\n",
       "    .dataframe thead th {\n",
       "        text-align: right;\n",
       "    }\n",
       "</style>\n",
       "<table border=\"1\" class=\"dataframe\">\n",
       "  <thead>\n",
       "    <tr style=\"text-align: right;\">\n",
       "      <th></th>\n",
       "      <th>label</th>\n",
       "      <th>pixel0</th>\n",
       "      <th>pixel1</th>\n",
       "      <th>pixel2</th>\n",
       "      <th>pixel3</th>\n",
       "      <th>pixel4</th>\n",
       "      <th>pixel5</th>\n",
       "      <th>pixel6</th>\n",
       "      <th>pixel7</th>\n",
       "      <th>pixel8</th>\n",
       "      <th>...</th>\n",
       "      <th>pixel774</th>\n",
       "      <th>pixel775</th>\n",
       "      <th>pixel776</th>\n",
       "      <th>pixel777</th>\n",
       "      <th>pixel778</th>\n",
       "      <th>pixel779</th>\n",
       "      <th>pixel780</th>\n",
       "      <th>pixel781</th>\n",
       "      <th>pixel782</th>\n",
       "      <th>pixel783</th>\n",
       "    </tr>\n",
       "  </thead>\n",
       "  <tbody>\n",
       "    <tr>\n",
       "      <th>0</th>\n",
       "      <td>1</td>\n",
       "      <td>0</td>\n",
       "      <td>0</td>\n",
       "      <td>0</td>\n",
       "      <td>0</td>\n",
       "      <td>0</td>\n",
       "      <td>0</td>\n",
       "      <td>0</td>\n",
       "      <td>0</td>\n",
       "      <td>0</td>\n",
       "      <td>...</td>\n",
       "      <td>0</td>\n",
       "      <td>0</td>\n",
       "      <td>0</td>\n",
       "      <td>0</td>\n",
       "      <td>0</td>\n",
       "      <td>0</td>\n",
       "      <td>0</td>\n",
       "      <td>0</td>\n",
       "      <td>0</td>\n",
       "      <td>0</td>\n",
       "    </tr>\n",
       "    <tr>\n",
       "      <th>1</th>\n",
       "      <td>0</td>\n",
       "      <td>0</td>\n",
       "      <td>0</td>\n",
       "      <td>0</td>\n",
       "      <td>0</td>\n",
       "      <td>0</td>\n",
       "      <td>0</td>\n",
       "      <td>0</td>\n",
       "      <td>0</td>\n",
       "      <td>0</td>\n",
       "      <td>...</td>\n",
       "      <td>0</td>\n",
       "      <td>0</td>\n",
       "      <td>0</td>\n",
       "      <td>0</td>\n",
       "      <td>0</td>\n",
       "      <td>0</td>\n",
       "      <td>0</td>\n",
       "      <td>0</td>\n",
       "      <td>0</td>\n",
       "      <td>0</td>\n",
       "    </tr>\n",
       "    <tr>\n",
       "      <th>2</th>\n",
       "      <td>1</td>\n",
       "      <td>0</td>\n",
       "      <td>0</td>\n",
       "      <td>0</td>\n",
       "      <td>0</td>\n",
       "      <td>0</td>\n",
       "      <td>0</td>\n",
       "      <td>0</td>\n",
       "      <td>0</td>\n",
       "      <td>0</td>\n",
       "      <td>...</td>\n",
       "      <td>0</td>\n",
       "      <td>0</td>\n",
       "      <td>0</td>\n",
       "      <td>0</td>\n",
       "      <td>0</td>\n",
       "      <td>0</td>\n",
       "      <td>0</td>\n",
       "      <td>0</td>\n",
       "      <td>0</td>\n",
       "      <td>0</td>\n",
       "    </tr>\n",
       "    <tr>\n",
       "      <th>3</th>\n",
       "      <td>4</td>\n",
       "      <td>0</td>\n",
       "      <td>0</td>\n",
       "      <td>0</td>\n",
       "      <td>0</td>\n",
       "      <td>0</td>\n",
       "      <td>0</td>\n",
       "      <td>0</td>\n",
       "      <td>0</td>\n",
       "      <td>0</td>\n",
       "      <td>...</td>\n",
       "      <td>0</td>\n",
       "      <td>0</td>\n",
       "      <td>0</td>\n",
       "      <td>0</td>\n",
       "      <td>0</td>\n",
       "      <td>0</td>\n",
       "      <td>0</td>\n",
       "      <td>0</td>\n",
       "      <td>0</td>\n",
       "      <td>0</td>\n",
       "    </tr>\n",
       "    <tr>\n",
       "      <th>4</th>\n",
       "      <td>0</td>\n",
       "      <td>0</td>\n",
       "      <td>0</td>\n",
       "      <td>0</td>\n",
       "      <td>0</td>\n",
       "      <td>0</td>\n",
       "      <td>0</td>\n",
       "      <td>0</td>\n",
       "      <td>0</td>\n",
       "      <td>0</td>\n",
       "      <td>...</td>\n",
       "      <td>0</td>\n",
       "      <td>0</td>\n",
       "      <td>0</td>\n",
       "      <td>0</td>\n",
       "      <td>0</td>\n",
       "      <td>0</td>\n",
       "      <td>0</td>\n",
       "      <td>0</td>\n",
       "      <td>0</td>\n",
       "      <td>0</td>\n",
       "    </tr>\n",
       "  </tbody>\n",
       "</table>\n",
       "<p>5 rows × 785 columns</p>\n",
       "</div>"
      ],
      "text/plain": [
       "   label  pixel0  pixel1  pixel2  pixel3  pixel4  pixel5  pixel6  pixel7  \\\n",
       "0      1       0       0       0       0       0       0       0       0   \n",
       "1      0       0       0       0       0       0       0       0       0   \n",
       "2      1       0       0       0       0       0       0       0       0   \n",
       "3      4       0       0       0       0       0       0       0       0   \n",
       "4      0       0       0       0       0       0       0       0       0   \n",
       "\n",
       "   pixel8  ...  pixel774  pixel775  pixel776  pixel777  pixel778  pixel779  \\\n",
       "0       0  ...         0         0         0         0         0         0   \n",
       "1       0  ...         0         0         0         0         0         0   \n",
       "2       0  ...         0         0         0         0         0         0   \n",
       "3       0  ...         0         0         0         0         0         0   \n",
       "4       0  ...         0         0         0         0         0         0   \n",
       "\n",
       "   pixel780  pixel781  pixel782  pixel783  \n",
       "0         0         0         0         0  \n",
       "1         0         0         0         0  \n",
       "2         0         0         0         0  \n",
       "3         0         0         0         0  \n",
       "4         0         0         0         0  \n",
       "\n",
       "[5 rows x 785 columns]"
      ]
     },
     "execution_count": 3,
     "metadata": {},
     "output_type": "execute_result"
    }
   ],
   "source": [
    "data.head()"
   ]
  },
  {
   "cell_type": "code",
   "execution_count": 4,
   "id": "b74d3933",
   "metadata": {},
   "outputs": [
    {
     "data": {
      "text/html": [
       "<div>\n",
       "<style scoped>\n",
       "    .dataframe tbody tr th:only-of-type {\n",
       "        vertical-align: middle;\n",
       "    }\n",
       "\n",
       "    .dataframe tbody tr th {\n",
       "        vertical-align: top;\n",
       "    }\n",
       "\n",
       "    .dataframe thead th {\n",
       "        text-align: right;\n",
       "    }\n",
       "</style>\n",
       "<table border=\"1\" class=\"dataframe\">\n",
       "  <thead>\n",
       "    <tr style=\"text-align: right;\">\n",
       "      <th></th>\n",
       "      <th>label</th>\n",
       "      <th>pixel0</th>\n",
       "      <th>pixel1</th>\n",
       "      <th>pixel2</th>\n",
       "      <th>pixel3</th>\n",
       "      <th>pixel4</th>\n",
       "      <th>pixel5</th>\n",
       "      <th>pixel6</th>\n",
       "      <th>pixel7</th>\n",
       "      <th>pixel8</th>\n",
       "      <th>...</th>\n",
       "      <th>pixel774</th>\n",
       "      <th>pixel775</th>\n",
       "      <th>pixel776</th>\n",
       "      <th>pixel777</th>\n",
       "      <th>pixel778</th>\n",
       "      <th>pixel779</th>\n",
       "      <th>pixel780</th>\n",
       "      <th>pixel781</th>\n",
       "      <th>pixel782</th>\n",
       "      <th>pixel783</th>\n",
       "    </tr>\n",
       "  </thead>\n",
       "  <tbody>\n",
       "    <tr>\n",
       "      <th>41995</th>\n",
       "      <td>0</td>\n",
       "      <td>0</td>\n",
       "      <td>0</td>\n",
       "      <td>0</td>\n",
       "      <td>0</td>\n",
       "      <td>0</td>\n",
       "      <td>0</td>\n",
       "      <td>0</td>\n",
       "      <td>0</td>\n",
       "      <td>0</td>\n",
       "      <td>...</td>\n",
       "      <td>0</td>\n",
       "      <td>0</td>\n",
       "      <td>0</td>\n",
       "      <td>0</td>\n",
       "      <td>0</td>\n",
       "      <td>0</td>\n",
       "      <td>0</td>\n",
       "      <td>0</td>\n",
       "      <td>0</td>\n",
       "      <td>0</td>\n",
       "    </tr>\n",
       "    <tr>\n",
       "      <th>41996</th>\n",
       "      <td>1</td>\n",
       "      <td>0</td>\n",
       "      <td>0</td>\n",
       "      <td>0</td>\n",
       "      <td>0</td>\n",
       "      <td>0</td>\n",
       "      <td>0</td>\n",
       "      <td>0</td>\n",
       "      <td>0</td>\n",
       "      <td>0</td>\n",
       "      <td>...</td>\n",
       "      <td>0</td>\n",
       "      <td>0</td>\n",
       "      <td>0</td>\n",
       "      <td>0</td>\n",
       "      <td>0</td>\n",
       "      <td>0</td>\n",
       "      <td>0</td>\n",
       "      <td>0</td>\n",
       "      <td>0</td>\n",
       "      <td>0</td>\n",
       "    </tr>\n",
       "    <tr>\n",
       "      <th>41997</th>\n",
       "      <td>7</td>\n",
       "      <td>0</td>\n",
       "      <td>0</td>\n",
       "      <td>0</td>\n",
       "      <td>0</td>\n",
       "      <td>0</td>\n",
       "      <td>0</td>\n",
       "      <td>0</td>\n",
       "      <td>0</td>\n",
       "      <td>0</td>\n",
       "      <td>...</td>\n",
       "      <td>0</td>\n",
       "      <td>0</td>\n",
       "      <td>0</td>\n",
       "      <td>0</td>\n",
       "      <td>0</td>\n",
       "      <td>0</td>\n",
       "      <td>0</td>\n",
       "      <td>0</td>\n",
       "      <td>0</td>\n",
       "      <td>0</td>\n",
       "    </tr>\n",
       "    <tr>\n",
       "      <th>41998</th>\n",
       "      <td>6</td>\n",
       "      <td>0</td>\n",
       "      <td>0</td>\n",
       "      <td>0</td>\n",
       "      <td>0</td>\n",
       "      <td>0</td>\n",
       "      <td>0</td>\n",
       "      <td>0</td>\n",
       "      <td>0</td>\n",
       "      <td>0</td>\n",
       "      <td>...</td>\n",
       "      <td>0</td>\n",
       "      <td>0</td>\n",
       "      <td>0</td>\n",
       "      <td>0</td>\n",
       "      <td>0</td>\n",
       "      <td>0</td>\n",
       "      <td>0</td>\n",
       "      <td>0</td>\n",
       "      <td>0</td>\n",
       "      <td>0</td>\n",
       "    </tr>\n",
       "    <tr>\n",
       "      <th>41999</th>\n",
       "      <td>9</td>\n",
       "      <td>0</td>\n",
       "      <td>0</td>\n",
       "      <td>0</td>\n",
       "      <td>0</td>\n",
       "      <td>0</td>\n",
       "      <td>0</td>\n",
       "      <td>0</td>\n",
       "      <td>0</td>\n",
       "      <td>0</td>\n",
       "      <td>...</td>\n",
       "      <td>0</td>\n",
       "      <td>0</td>\n",
       "      <td>0</td>\n",
       "      <td>0</td>\n",
       "      <td>0</td>\n",
       "      <td>0</td>\n",
       "      <td>0</td>\n",
       "      <td>0</td>\n",
       "      <td>0</td>\n",
       "      <td>0</td>\n",
       "    </tr>\n",
       "  </tbody>\n",
       "</table>\n",
       "<p>5 rows × 785 columns</p>\n",
       "</div>"
      ],
      "text/plain": [
       "       label  pixel0  pixel1  pixel2  pixel3  pixel4  pixel5  pixel6  pixel7  \\\n",
       "41995      0       0       0       0       0       0       0       0       0   \n",
       "41996      1       0       0       0       0       0       0       0       0   \n",
       "41997      7       0       0       0       0       0       0       0       0   \n",
       "41998      6       0       0       0       0       0       0       0       0   \n",
       "41999      9       0       0       0       0       0       0       0       0   \n",
       "\n",
       "       pixel8  ...  pixel774  pixel775  pixel776  pixel777  pixel778  \\\n",
       "41995       0  ...         0         0         0         0         0   \n",
       "41996       0  ...         0         0         0         0         0   \n",
       "41997       0  ...         0         0         0         0         0   \n",
       "41998       0  ...         0         0         0         0         0   \n",
       "41999       0  ...         0         0         0         0         0   \n",
       "\n",
       "       pixel779  pixel780  pixel781  pixel782  pixel783  \n",
       "41995         0         0         0         0         0  \n",
       "41996         0         0         0         0         0  \n",
       "41997         0         0         0         0         0  \n",
       "41998         0         0         0         0         0  \n",
       "41999         0         0         0         0         0  \n",
       "\n",
       "[5 rows x 785 columns]"
      ]
     },
     "execution_count": 4,
     "metadata": {},
     "output_type": "execute_result"
    }
   ],
   "source": [
    "data.tail()"
   ]
  },
  {
   "cell_type": "code",
   "execution_count": 5,
   "id": "50196fd4",
   "metadata": {},
   "outputs": [],
   "source": [
    "data = np.array(data) #Creating numpy array (Matrics)"
   ]
  },
  {
   "cell_type": "code",
   "execution_count": 6,
   "id": "ba808c3e",
   "metadata": {},
   "outputs": [
    {
     "data": {
      "text/plain": [
       "array([[1, 0, 0, ..., 0, 0, 0],\n",
       "       [0, 0, 0, ..., 0, 0, 0],\n",
       "       [1, 0, 0, ..., 0, 0, 0],\n",
       "       ...,\n",
       "       [7, 0, 0, ..., 0, 0, 0],\n",
       "       [6, 0, 0, ..., 0, 0, 0],\n",
       "       [9, 0, 0, ..., 0, 0, 0]], dtype=int64)"
      ]
     },
     "execution_count": 6,
     "metadata": {},
     "output_type": "execute_result"
    }
   ],
   "source": [
    "data"
   ]
  },
  {
   "cell_type": "code",
   "execution_count": 7,
   "id": "4040b5de",
   "metadata": {},
   "outputs": [
    {
     "data": {
      "text/plain": [
       "42000"
      ]
     },
     "execution_count": 7,
     "metadata": {},
     "output_type": "execute_result"
    }
   ],
   "source": [
    "data.shape[0] #Gives Number of rows"
   ]
  },
  {
   "cell_type": "code",
   "execution_count": 8,
   "id": "17351e67",
   "metadata": {},
   "outputs": [
    {
     "data": {
      "text/plain": [
       "785"
      ]
     },
     "execution_count": 8,
     "metadata": {},
     "output_type": "execute_result"
    }
   ],
   "source": [
    "data.shape[1] #Gives number of columns"
   ]
  },
  {
   "cell_type": "code",
   "execution_count": 9,
   "id": "41fbcfe7",
   "metadata": {},
   "outputs": [],
   "source": [
    "m,n = data.shape"
   ]
  },
  {
   "cell_type": "code",
   "execution_count": 10,
   "id": "4ab496f4",
   "metadata": {},
   "outputs": [
    {
     "data": {
      "text/plain": [
       "42000"
      ]
     },
     "execution_count": 10,
     "metadata": {},
     "output_type": "execute_result"
    }
   ],
   "source": [
    "m #Number of rows"
   ]
  },
  {
   "cell_type": "code",
   "execution_count": 11,
   "id": "643548c0",
   "metadata": {},
   "outputs": [
    {
     "data": {
      "text/plain": [
       "785"
      ]
     },
     "execution_count": 11,
     "metadata": {},
     "output_type": "execute_result"
    }
   ],
   "source": [
    "n #Number of columns"
   ]
  },
  {
   "cell_type": "code",
   "execution_count": null,
   "id": "053dddc9",
   "metadata": {},
   "outputs": [],
   "source": []
  },
  {
   "cell_type": "code",
   "execution_count": null,
   "id": "05c755f9",
   "metadata": {},
   "outputs": [],
   "source": []
  },
  {
   "cell_type": "code",
   "execution_count": 12,
   "id": "9f5e1976",
   "metadata": {},
   "outputs": [],
   "source": [
    "np.random.shuffle(data) # shuffle before splitting into dev and training sets"
   ]
  },
  {
   "cell_type": "code",
   "execution_count": 13,
   "id": "71b37642",
   "metadata": {},
   "outputs": [
    {
     "data": {
      "text/plain": [
       "array([[3, 0, 0, ..., 0, 0, 0],\n",
       "       [3, 0, 0, ..., 0, 0, 0],\n",
       "       [1, 0, 0, ..., 0, 0, 0],\n",
       "       ...,\n",
       "       [1, 0, 0, ..., 0, 0, 0],\n",
       "       [2, 0, 0, ..., 0, 0, 0],\n",
       "       [2, 0, 0, ..., 0, 0, 0]], dtype=int64)"
      ]
     },
     "execution_count": 13,
     "metadata": {},
     "output_type": "execute_result"
    }
   ],
   "source": [
    "data"
   ]
  },
  {
   "cell_type": "code",
   "execution_count": 14,
   "id": "c7977ecc",
   "metadata": {},
   "outputs": [
    {
     "data": {
      "text/plain": [
       "array([[3, 0, 0, ..., 0, 0, 0],\n",
       "       [3, 0, 0, ..., 0, 0, 0],\n",
       "       [1, 0, 0, ..., 0, 0, 0],\n",
       "       ...,\n",
       "       [4, 0, 0, ..., 0, 0, 0],\n",
       "       [3, 0, 0, ..., 0, 0, 0],\n",
       "       [3, 0, 0, ..., 0, 0, 0]], dtype=int64)"
      ]
     },
     "execution_count": 14,
     "metadata": {},
     "output_type": "execute_result"
    }
   ],
   "source": [
    "data[0:1000] #Selecting rows from index 0 to 1000"
   ]
  },
  {
   "cell_type": "code",
   "execution_count": 15,
   "id": "3ef6f444",
   "metadata": {},
   "outputs": [],
   "source": [
    "data_dev = data[0:1000].T #Transpose of the array"
   ]
  },
  {
   "cell_type": "code",
   "execution_count": 16,
   "id": "54eb2e6a",
   "metadata": {},
   "outputs": [
    {
     "data": {
      "text/plain": [
       "(785, 1000)"
      ]
     },
     "execution_count": 16,
     "metadata": {},
     "output_type": "execute_result"
    }
   ],
   "source": [
    "data_dev.shape"
   ]
  },
  {
   "cell_type": "code",
   "execution_count": 17,
   "id": "cb6d7643",
   "metadata": {},
   "outputs": [
    {
     "data": {
      "text/plain": [
       "array([[3, 3, 1, ..., 4, 3, 3],\n",
       "       [0, 0, 0, ..., 0, 0, 0],\n",
       "       [0, 0, 0, ..., 0, 0, 0],\n",
       "       ...,\n",
       "       [0, 0, 0, ..., 0, 0, 0],\n",
       "       [0, 0, 0, ..., 0, 0, 0],\n",
       "       [0, 0, 0, ..., 0, 0, 0]], dtype=int64)"
      ]
     },
     "execution_count": 17,
     "metadata": {},
     "output_type": "execute_result"
    }
   ],
   "source": [
    "data_dev"
   ]
  },
  {
   "cell_type": "code",
   "execution_count": 18,
   "id": "0d8ad819",
   "metadata": {},
   "outputs": [],
   "source": [
    "Y_dev = data_dev[0] #Gives elements of first row"
   ]
  },
  {
   "cell_type": "code",
   "execution_count": 19,
   "id": "98db6931",
   "metadata": {},
   "outputs": [
    {
     "data": {
      "text/plain": [
       "array([3, 3, 1, 3, 7, 1, 4, 6, 3, 3, 7, 1, 3, 6, 2, 2, 3, 7, 8, 5, 5, 7,\n",
       "       8, 0, 5, 4, 2, 4, 2, 3, 9, 2, 5, 0, 3, 5, 8, 0, 6, 8, 4, 5, 2, 7,\n",
       "       0, 6, 6, 7, 9, 7, 7, 5, 7, 0, 0, 9, 1, 1, 7, 5, 9, 9, 2, 7, 4, 2,\n",
       "       5, 6, 8, 8, 1, 4, 5, 0, 7, 0, 1, 9, 5, 8, 8, 0, 3, 5, 3, 3, 3, 4,\n",
       "       3, 1, 2, 7, 1, 9, 1, 1, 7, 5, 2, 9, 6, 0, 1, 9, 2, 1, 4, 9, 1, 3,\n",
       "       1, 4, 1, 7, 2, 7, 4, 9, 1, 8, 6, 7, 4, 7, 8, 6, 1, 4, 9, 1, 4, 5,\n",
       "       8, 1, 2, 6, 4, 4, 6, 6, 3, 4, 2, 9, 5, 7, 4, 9, 7, 3, 4, 3, 8, 5,\n",
       "       5, 2, 4, 8, 3, 3, 4, 9, 8, 4, 9, 8, 7, 6, 9, 7, 8, 6, 0, 6, 0, 6,\n",
       "       4, 3, 7, 7, 5, 2, 1, 1, 0, 7, 0, 1, 7, 7, 0, 4, 5, 1, 7, 1, 1, 7,\n",
       "       3, 6, 4, 5, 4, 2, 2, 3, 3, 7, 0, 1, 5, 5, 8, 7, 1, 3, 8, 2, 3, 4,\n",
       "       5, 0, 2, 0, 8, 1, 9, 5, 3, 0, 9, 6, 3, 9, 2, 7, 4, 0, 4, 8, 7, 1,\n",
       "       7, 4, 4, 2, 8, 3, 6, 3, 9, 5, 8, 9, 4, 6, 8, 9, 7, 7, 4, 8, 0, 2,\n",
       "       4, 6, 5, 2, 3, 3, 0, 3, 3, 5, 7, 7, 4, 8, 0, 6, 7, 2, 1, 8, 7, 4,\n",
       "       7, 0, 9, 4, 1, 1, 9, 4, 8, 2, 7, 7, 1, 8, 3, 7, 3, 8, 8, 5, 9, 9,\n",
       "       5, 3, 3, 0, 1, 0, 5, 6, 2, 2, 9, 6, 6, 4, 9, 6, 7, 3, 3, 9, 7, 4,\n",
       "       1, 5, 0, 5, 6, 2, 3, 9, 9, 2, 1, 2, 0, 3, 0, 1, 3, 2, 0, 0, 9, 7,\n",
       "       0, 8, 0, 2, 5, 9, 2, 4, 3, 4, 2, 5, 4, 5, 9, 5, 1, 8, 5, 3, 1, 4,\n",
       "       3, 3, 5, 2, 1, 0, 2, 3, 7, 4, 4, 7, 0, 8, 3, 2, 7, 2, 5, 1, 4, 1,\n",
       "       1, 5, 4, 1, 2, 0, 3, 7, 8, 1, 0, 6, 3, 5, 8, 4, 9, 0, 1, 4, 6, 9,\n",
       "       2, 5, 3, 0, 6, 4, 9, 5, 8, 7, 0, 4, 2, 1, 8, 4, 0, 7, 5, 3, 7, 7,\n",
       "       6, 9, 4, 3, 7, 8, 6, 4, 9, 9, 1, 3, 4, 6, 0, 8, 1, 2, 8, 8, 2, 3,\n",
       "       9, 0, 5, 1, 9, 9, 7, 1, 4, 6, 7, 7, 2, 1, 7, 0, 4, 4, 4, 7, 8, 8,\n",
       "       5, 5, 5, 1, 9, 9, 1, 7, 2, 5, 4, 6, 2, 5, 8, 4, 4, 1, 2, 9, 0, 4,\n",
       "       2, 0, 6, 3, 9, 7, 0, 5, 0, 3, 4, 8, 2, 0, 3, 5, 6, 1, 6, 8, 4, 6,\n",
       "       1, 9, 3, 4, 6, 9, 0, 9, 7, 0, 8, 6, 6, 9, 2, 8, 6, 0, 7, 2, 8, 8,\n",
       "       3, 7, 1, 6, 7, 3, 7, 9, 2, 7, 0, 8, 9, 7, 4, 8, 8, 6, 8, 4, 8, 4,\n",
       "       3, 7, 0, 3, 2, 1, 3, 1, 1, 4, 7, 7, 6, 3, 8, 9, 6, 6, 0, 4, 6, 9,\n",
       "       2, 1, 1, 4, 8, 9, 3, 7, 5, 6, 2, 5, 7, 3, 7, 6, 3, 3, 0, 3, 1, 8,\n",
       "       2, 0, 1, 4, 6, 1, 4, 3, 9, 1, 1, 9, 9, 8, 9, 2, 4, 8, 3, 9, 1, 3,\n",
       "       1, 1, 1, 5, 2, 1, 0, 6, 3, 0, 0, 9, 7, 1, 9, 9, 3, 5, 6, 8, 0, 0,\n",
       "       2, 2, 1, 0, 1, 1, 4, 1, 9, 2, 6, 5, 2, 9, 7, 8, 2, 9, 2, 8, 8, 4,\n",
       "       4, 1, 3, 3, 6, 0, 5, 0, 1, 7, 6, 7, 7, 7, 7, 4, 2, 6, 1, 6, 6, 0,\n",
       "       5, 4, 5, 4, 5, 2, 3, 9, 9, 5, 8, 4, 6, 3, 4, 2, 4, 3, 3, 8, 5, 2,\n",
       "       2, 9, 3, 1, 2, 3, 0, 2, 3, 7, 2, 9, 4, 8, 9, 0, 4, 5, 3, 4, 1, 1,\n",
       "       9, 8, 3, 2, 6, 6, 5, 2, 9, 3, 0, 9, 6, 3, 9, 1, 6, 1, 9, 2, 9, 7,\n",
       "       9, 2, 5, 2, 7, 3, 9, 9, 3, 1, 5, 8, 9, 1, 7, 2, 0, 4, 7, 5, 5, 1,\n",
       "       1, 8, 2, 6, 1, 7, 3, 4, 5, 9, 5, 7, 4, 7, 1, 7, 7, 8, 5, 1, 5, 8,\n",
       "       6, 6, 4, 2, 3, 6, 9, 4, 1, 6, 8, 5, 5, 8, 1, 7, 9, 9, 5, 3, 5, 3,\n",
       "       4, 6, 8, 4, 7, 3, 4, 3, 6, 1, 3, 0, 5, 3, 1, 0, 6, 7, 7, 0, 2, 8,\n",
       "       7, 3, 5, 8, 3, 4, 9, 1, 2, 5, 4, 7, 3, 5, 5, 1, 6, 5, 2, 3, 8, 6,\n",
       "       7, 9, 0, 1, 8, 9, 8, 1, 0, 6, 4, 7, 8, 7, 8, 6, 0, 2, 3, 8, 4, 7,\n",
       "       3, 7, 0, 1, 0, 3, 5, 5, 8, 6, 5, 7, 4, 8, 4, 5, 3, 0, 2, 3, 3, 1,\n",
       "       1, 5, 4, 2, 0, 6, 7, 2, 6, 8, 7, 9, 1, 5, 1, 1, 9, 4, 0, 9, 5, 9,\n",
       "       3, 5, 7, 6, 9, 7, 3, 4, 8, 1, 7, 7, 4, 9, 8, 7, 0, 6, 1, 5, 1, 3,\n",
       "       4, 5, 0, 7, 6, 1, 5, 9, 6, 1, 1, 2, 2, 8, 6, 9, 9, 1, 7, 3, 0, 1,\n",
       "       8, 5, 1, 3, 9, 7, 7, 4, 3, 3], dtype=int64)"
      ]
     },
     "execution_count": 19,
     "metadata": {},
     "output_type": "execute_result"
    }
   ],
   "source": [
    "Y_dev"
   ]
  },
  {
   "cell_type": "code",
   "execution_count": 20,
   "id": "31eec70e",
   "metadata": {},
   "outputs": [],
   "source": [
    "X_dev = data_dev[1:n] #Selecting rows from index 1 to n(in this case n=785)"
   ]
  },
  {
   "cell_type": "code",
   "execution_count": 21,
   "id": "51c8d5b1",
   "metadata": {},
   "outputs": [
    {
     "data": {
      "text/plain": [
       "array([[0, 0, 0, ..., 0, 0, 0],\n",
       "       [0, 0, 0, ..., 0, 0, 0],\n",
       "       [0, 0, 0, ..., 0, 0, 0],\n",
       "       ...,\n",
       "       [0, 0, 0, ..., 0, 0, 0],\n",
       "       [0, 0, 0, ..., 0, 0, 0],\n",
       "       [0, 0, 0, ..., 0, 0, 0]], dtype=int64)"
      ]
     },
     "execution_count": 21,
     "metadata": {},
     "output_type": "execute_result"
    }
   ],
   "source": [
    "X_dev"
   ]
  },
  {
   "cell_type": "code",
   "execution_count": 22,
   "id": "e1820d81",
   "metadata": {},
   "outputs": [],
   "source": [
    "X_dev = X_dev / 255."
   ]
  },
  {
   "cell_type": "code",
   "execution_count": 23,
   "id": "97de1da8",
   "metadata": {},
   "outputs": [
    {
     "data": {
      "text/plain": [
       "array([[0., 0., 0., ..., 0., 0., 0.],\n",
       "       [0., 0., 0., ..., 0., 0., 0.],\n",
       "       [0., 0., 0., ..., 0., 0., 0.],\n",
       "       ...,\n",
       "       [0., 0., 0., ..., 0., 0., 0.],\n",
       "       [0., 0., 0., ..., 0., 0., 0.],\n",
       "       [0., 0., 0., ..., 0., 0., 0.]])"
      ]
     },
     "execution_count": 23,
     "metadata": {},
     "output_type": "execute_result"
    }
   ],
   "source": [
    "X_dev"
   ]
  },
  {
   "cell_type": "code",
   "execution_count": 24,
   "id": "015a82a3",
   "metadata": {},
   "outputs": [],
   "source": [
    "data_train = data[1000:m].T"
   ]
  },
  {
   "cell_type": "code",
   "execution_count": 25,
   "id": "a66b5972",
   "metadata": {},
   "outputs": [],
   "source": [
    "Y_train = data_train[0]"
   ]
  },
  {
   "cell_type": "code",
   "execution_count": 26,
   "id": "a8b4a67e",
   "metadata": {},
   "outputs": [],
   "source": [
    "X_train = data_train[1:n]"
   ]
  },
  {
   "cell_type": "code",
   "execution_count": 27,
   "id": "d6e30139",
   "metadata": {},
   "outputs": [],
   "source": [
    "X_train = X_train / 255."
   ]
  },
  {
   "cell_type": "code",
   "execution_count": 28,
   "id": "1e19b96e",
   "metadata": {},
   "outputs": [],
   "source": [
    "_,m_train = X_train.shape"
   ]
  },
  {
   "cell_type": "code",
   "execution_count": 29,
   "id": "f741bfab",
   "metadata": {},
   "outputs": [],
   "source": [
    "def init_params():\n",
    "    W1 = np.random.rand(10, 784) - 0.5\n",
    "    b1 = np.random.rand(10, 1) - 0.5\n",
    "    W2 = np.random.rand(10, 10) - 0.5\n",
    "    b2 = np.random.rand(10, 1) - 0.5\n",
    "    return W1, b1, W2, b2"
   ]
  },
  {
   "cell_type": "code",
   "execution_count": 30,
   "id": "cf13649c",
   "metadata": {},
   "outputs": [],
   "source": [
    "def ReLU(Z):\n",
    "    return np.maximum(Z, 0)"
   ]
  },
  {
   "cell_type": "code",
   "execution_count": 31,
   "id": "bd445643",
   "metadata": {},
   "outputs": [],
   "source": [
    "def softmax(Z):\n",
    "    A = np.exp(Z) / sum(np.exp(Z))\n",
    "    return A"
   ]
  },
  {
   "cell_type": "code",
   "execution_count": 32,
   "id": "88083771",
   "metadata": {},
   "outputs": [],
   "source": [
    "def forward_prop(W1, b1, W2, b2, X):\n",
    "    Z1 = W1.dot(X) + b1\n",
    "    A1 = ReLU(Z1)\n",
    "    Z2 = W2.dot(A1) + b2\n",
    "    A2 = softmax(Z2)\n",
    "    return Z1, A1, Z2, A2"
   ]
  },
  {
   "cell_type": "code",
   "execution_count": 33,
   "id": "456906d7",
   "metadata": {},
   "outputs": [],
   "source": [
    "def ReLU_deriv(Z):\n",
    "    return Z > 0"
   ]
  },
  {
   "cell_type": "code",
   "execution_count": 34,
   "id": "9d960b3e",
   "metadata": {},
   "outputs": [],
   "source": [
    "def one_hot(Y):\n",
    "    one_hot_Y = np.zeros((Y.size, Y.max() + 1))\n",
    "    one_hot_Y[np.arange(Y.size), Y] = 1\n",
    "    one_hot_Y = one_hot_Y.T\n",
    "    return one_hot_Y"
   ]
  },
  {
   "cell_type": "code",
   "execution_count": 35,
   "id": "0fdd025a",
   "metadata": {},
   "outputs": [],
   "source": [
    "def backward_prop(Z1, A1, Z2, A2, W1, W2, X, Y):\n",
    "    one_hot_Y = one_hot(Y)\n",
    "    dZ2 = A2 - one_hot_Y\n",
    "    dW2 = 1 / m * dZ2.dot(A1.T)\n",
    "    db2 = 1 / m * np.sum(dZ2)\n",
    "    dZ1 = W2.T.dot(dZ2) * ReLU_deriv(Z1)\n",
    "    dW1 = 1 / m * dZ1.dot(X.T)\n",
    "    db1 = 1 / m * np.sum(dZ1)\n",
    "    return dW1, db1, dW2, db2"
   ]
  },
  {
   "cell_type": "code",
   "execution_count": 36,
   "id": "e35c6070",
   "metadata": {},
   "outputs": [],
   "source": [
    "def update_params(W1, b1, W2, b2, dW1, db1, dW2, db2, alpha):\n",
    "    W1 = W1 - alpha * dW1\n",
    "    b1 = b1 - alpha * db1    \n",
    "    W2 = W2 - alpha * dW2  \n",
    "    b2 = b2 - alpha * db2    \n",
    "    return W1, b1, W2, b2"
   ]
  },
  {
   "cell_type": "code",
   "execution_count": 37,
   "id": "bbca8dd9",
   "metadata": {},
   "outputs": [],
   "source": [
    "def get_predictions(A2):\n",
    "    return np.argmax(A2, 0)"
   ]
  },
  {
   "cell_type": "code",
   "execution_count": 38,
   "id": "7648f75e",
   "metadata": {},
   "outputs": [],
   "source": [
    "def get_accuracy(predictions, Y):\n",
    "    print(predictions, Y)\n",
    "    return np.sum(predictions == Y) / Y.size"
   ]
  },
  {
   "cell_type": "code",
   "execution_count": 39,
   "id": "76689555",
   "metadata": {},
   "outputs": [],
   "source": [
    "def gradient_descent(X, Y, alpha, iterations):\n",
    "    W1, b1, W2, b2 = init_params()\n",
    "    for i in range(iterations):\n",
    "        Z1, A1, Z2, A2 = forward_prop(W1, b1, W2, b2, X)\n",
    "        dW1, db1, dW2, db2 = backward_prop(Z1, A1, Z2, A2, W1, W2, X, Y)\n",
    "        W1, b1, W2, b2 = update_params(W1, b1, W2, b2, dW1, db1, dW2, db2, alpha)\n",
    "        if i % 10 == 0:\n",
    "            print(\"Iteration: \", i)\n",
    "            predictions = get_predictions(A2)\n",
    "            print(get_accuracy(predictions, Y))\n",
    "    return W1, b1, W2, b2"
   ]
  },
  {
   "cell_type": "code",
   "execution_count": 40,
   "id": "c38a691b",
   "metadata": {},
   "outputs": [
    {
     "name": "stdout",
     "output_type": "stream",
     "text": [
      "Iteration:  0\n",
      "[7 7 5 ... 7 7 7] [1 3 7 ... 1 2 2]\n",
      "0.06317073170731707\n",
      "Iteration:  10\n",
      "[1 2 5 ... 1 1 0] [1 3 7 ... 1 2 2]\n",
      "0.175\n",
      "Iteration:  20\n",
      "[1 1 2 ... 1 1 0] [1 3 7 ... 1 2 2]\n",
      "0.2197560975609756\n",
      "Iteration:  30\n",
      "[1 7 2 ... 1 1 0] [1 3 7 ... 1 2 2]\n",
      "0.2585121951219512\n",
      "Iteration:  40\n",
      "[1 3 7 ... 1 1 0] [1 3 7 ... 1 2 2]\n",
      "0.3003658536585366\n",
      "Iteration:  50\n",
      "[1 3 7 ... 1 1 0] [1 3 7 ... 1 2 2]\n",
      "0.33731707317073173\n",
      "Iteration:  60\n",
      "[1 3 3 ... 1 1 2] [1 3 7 ... 1 2 2]\n",
      "0.36558536585365853\n",
      "Iteration:  70\n",
      "[1 3 3 ... 1 1 2] [1 3 7 ... 1 2 2]\n",
      "0.3881951219512195\n",
      "Iteration:  80\n",
      "[1 3 7 ... 1 1 2] [1 3 7 ... 1 2 2]\n",
      "0.42048780487804877\n",
      "Iteration:  90\n",
      "[1 3 7 ... 1 1 2] [1 3 7 ... 1 2 2]\n",
      "0.46870731707317076\n",
      "Iteration:  100\n",
      "[1 3 7 ... 1 1 2] [1 3 7 ... 1 2 2]\n",
      "0.5149268292682927\n",
      "Iteration:  110\n",
      "[1 3 7 ... 1 1 2] [1 3 7 ... 1 2 2]\n",
      "0.5493902439024391\n",
      "Iteration:  120\n",
      "[1 3 7 ... 1 1 2] [1 3 7 ... 1 2 2]\n",
      "0.5778292682926829\n",
      "Iteration:  130\n",
      "[1 3 7 ... 1 1 2] [1 3 7 ... 1 2 2]\n",
      "0.6023414634146341\n",
      "Iteration:  140\n",
      "[1 3 7 ... 1 8 2] [1 3 7 ... 1 2 2]\n",
      "0.6210975609756098\n",
      "Iteration:  150\n",
      "[1 3 7 ... 1 8 2] [1 3 7 ... 1 2 2]\n",
      "0.6388048780487805\n",
      "Iteration:  160\n",
      "[1 3 7 ... 1 8 2] [1 3 7 ... 1 2 2]\n",
      "0.6540243902439025\n",
      "Iteration:  170\n",
      "[1 3 7 ... 1 8 2] [1 3 7 ... 1 2 2]\n",
      "0.6674878048780488\n",
      "Iteration:  180\n",
      "[1 3 7 ... 1 8 2] [1 3 7 ... 1 2 2]\n",
      "0.6804634146341464\n",
      "Iteration:  190\n",
      "[1 3 7 ... 1 8 2] [1 3 7 ... 1 2 2]\n",
      "0.6911219512195121\n",
      "Iteration:  200\n",
      "[1 3 7 ... 1 8 2] [1 3 7 ... 1 2 2]\n",
      "0.7000487804878048\n",
      "Iteration:  210\n",
      "[1 3 7 ... 1 8 2] [1 3 7 ... 1 2 2]\n",
      "0.7094146341463414\n",
      "Iteration:  220\n",
      "[1 3 7 ... 1 8 2] [1 3 7 ... 1 2 2]\n",
      "0.718170731707317\n",
      "Iteration:  230\n",
      "[1 3 7 ... 1 8 2] [1 3 7 ... 1 2 2]\n",
      "0.7266829268292683\n",
      "Iteration:  240\n",
      "[1 3 7 ... 1 8 2] [1 3 7 ... 1 2 2]\n",
      "0.7353170731707317\n",
      "Iteration:  250\n",
      "[1 3 7 ... 1 8 2] [1 3 7 ... 1 2 2]\n",
      "0.7436585365853658\n",
      "Iteration:  260\n",
      "[1 3 7 ... 1 8 2] [1 3 7 ... 1 2 2]\n",
      "0.7515121951219512\n",
      "Iteration:  270\n",
      "[1 3 7 ... 1 8 2] [1 3 7 ... 1 2 2]\n",
      "0.7588536585365854\n",
      "Iteration:  280\n",
      "[1 3 7 ... 1 8 2] [1 3 7 ... 1 2 2]\n",
      "0.7655609756097561\n",
      "Iteration:  290\n",
      "[1 3 7 ... 1 8 2] [1 3 7 ... 1 2 2]\n",
      "0.7725609756097561\n"
     ]
    }
   ],
   "source": [
    "W1, b1, W2, b2 = gradient_descent(X_train, Y_train, 0.10, 300)"
   ]
  },
  {
   "cell_type": "code",
   "execution_count": null,
   "id": "96198c65",
   "metadata": {},
   "outputs": [],
   "source": []
  },
  {
   "cell_type": "code",
   "execution_count": null,
   "id": "1e95754a",
   "metadata": {},
   "outputs": [],
   "source": []
  },
  {
   "cell_type": "code",
   "execution_count": null,
   "id": "4ad36e61",
   "metadata": {},
   "outputs": [],
   "source": []
  }
 ],
 "metadata": {
  "kernelspec": {
   "display_name": "Python 3",
   "language": "python",
   "name": "python3"
  },
  "language_info": {
   "codemirror_mode": {
    "name": "ipython",
    "version": 3
   },
   "file_extension": ".py",
   "mimetype": "text/x-python",
   "name": "python",
   "nbconvert_exporter": "python",
   "pygments_lexer": "ipython3",
   "version": "3.8.8"
  }
 },
 "nbformat": 4,
 "nbformat_minor": 5
}
