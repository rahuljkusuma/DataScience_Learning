{
 "cells": [
  {
   "cell_type": "code",
   "execution_count": 1,
   "id": "1a07661e",
   "metadata": {},
   "outputs": [],
   "source": [
    "import numpy as np\n",
    "import pandas as pd\n",
    "from matplotlib import pyplot as plt"
   ]
  },
  {
   "cell_type": "code",
   "execution_count": 2,
   "id": "aa94e6b8",
   "metadata": {},
   "outputs": [],
   "source": [
    "data1 = pd.read_csv('train.csv')"
   ]
  },
  {
   "cell_type": "code",
   "execution_count": 3,
   "id": "f9ef16bc",
   "metadata": {},
   "outputs": [],
   "source": [
    "data = np.array(data1) #Creating numpy array (Matrics)"
   ]
  },
  {
   "cell_type": "code",
   "execution_count": 4,
   "id": "b70fceb1",
   "metadata": {},
   "outputs": [
    {
     "data": {
      "text/plain": [
       "array([[1, 0, 0, ..., 0, 0, 0],\n",
       "       [0, 0, 0, ..., 0, 0, 0],\n",
       "       [1, 0, 0, ..., 0, 0, 0],\n",
       "       ...,\n",
       "       [7, 0, 0, ..., 0, 0, 0],\n",
       "       [6, 0, 0, ..., 0, 0, 0],\n",
       "       [9, 0, 0, ..., 0, 0, 0]], dtype=int64)"
      ]
     },
     "execution_count": 4,
     "metadata": {},
     "output_type": "execute_result"
    }
   ],
   "source": [
    "data"
   ]
  },
  {
   "cell_type": "code",
   "execution_count": 5,
   "id": "d3b131d4",
   "metadata": {},
   "outputs": [
    {
     "data": {
      "text/plain": [
       "42000"
      ]
     },
     "execution_count": 5,
     "metadata": {},
     "output_type": "execute_result"
    }
   ],
   "source": [
    "data.shape[0] #Gives Number of rows"
   ]
  },
  {
   "cell_type": "code",
   "execution_count": 6,
   "id": "cb8081ca",
   "metadata": {},
   "outputs": [
    {
     "data": {
      "text/plain": [
       "785"
      ]
     },
     "execution_count": 6,
     "metadata": {},
     "output_type": "execute_result"
    }
   ],
   "source": [
    "data.shape[1] #Gives number of columns"
   ]
  },
  {
   "cell_type": "code",
   "execution_count": 7,
   "id": "fc97364f",
   "metadata": {},
   "outputs": [],
   "source": [
    "m,n = data.shape"
   ]
  },
  {
   "cell_type": "code",
   "execution_count": 8,
   "id": "7a885ff3",
   "metadata": {},
   "outputs": [
    {
     "data": {
      "text/plain": [
       "42000"
      ]
     },
     "execution_count": 8,
     "metadata": {},
     "output_type": "execute_result"
    }
   ],
   "source": [
    "m #Number of rows"
   ]
  },
  {
   "cell_type": "code",
   "execution_count": 9,
   "id": "60887a5a",
   "metadata": {},
   "outputs": [
    {
     "data": {
      "text/plain": [
       "785"
      ]
     },
     "execution_count": 9,
     "metadata": {},
     "output_type": "execute_result"
    }
   ],
   "source": [
    "n #Number of columns"
   ]
  },
  {
   "cell_type": "code",
   "execution_count": 10,
   "id": "3f62bce8",
   "metadata": {},
   "outputs": [],
   "source": [
    "np.random.shuffle(data) # shuffle before splitting into dev and training sets"
   ]
  },
  {
   "cell_type": "code",
   "execution_count": 11,
   "id": "bf0a5462",
   "metadata": {},
   "outputs": [
    {
     "data": {
      "text/plain": [
       "array([[7, 0, 0, ..., 0, 0, 0],\n",
       "       [3, 0, 0, ..., 0, 0, 0],\n",
       "       [7, 0, 0, ..., 0, 0, 0],\n",
       "       ...,\n",
       "       [1, 0, 0, ..., 0, 0, 0],\n",
       "       [6, 0, 0, ..., 0, 0, 0],\n",
       "       [2, 0, 0, ..., 0, 0, 0]], dtype=int64)"
      ]
     },
     "execution_count": 11,
     "metadata": {},
     "output_type": "execute_result"
    }
   ],
   "source": [
    "data"
   ]
  },
  {
   "cell_type": "code",
   "execution_count": 12,
   "id": "d6e8623d",
   "metadata": {},
   "outputs": [
    {
     "data": {
      "text/plain": [
       "array([[7, 0, 0, ..., 0, 0, 0],\n",
       "       [3, 0, 0, ..., 0, 0, 0],\n",
       "       [7, 0, 0, ..., 0, 0, 0],\n",
       "       ...,\n",
       "       [5, 0, 0, ..., 0, 0, 0],\n",
       "       [3, 0, 0, ..., 0, 0, 0],\n",
       "       [8, 0, 0, ..., 0, 0, 0]], dtype=int64)"
      ]
     },
     "execution_count": 12,
     "metadata": {},
     "output_type": "execute_result"
    }
   ],
   "source": [
    "data[0:1000] #Selecting rows from index 0 to 1000"
   ]
  },
  {
   "cell_type": "code",
   "execution_count": 13,
   "id": "794cf42c",
   "metadata": {},
   "outputs": [],
   "source": [
    "data_dev = data[0:1000].T #Transpose of the array"
   ]
  },
  {
   "cell_type": "code",
   "execution_count": 14,
   "id": "a134aec3",
   "metadata": {},
   "outputs": [
    {
     "data": {
      "text/plain": [
       "(785, 1000)"
      ]
     },
     "execution_count": 14,
     "metadata": {},
     "output_type": "execute_result"
    }
   ],
   "source": [
    "data_dev.shape"
   ]
  },
  {
   "cell_type": "code",
   "execution_count": 15,
   "id": "ed8b6aa7",
   "metadata": {},
   "outputs": [
    {
     "data": {
      "text/plain": [
       "array([[7, 3, 7, ..., 5, 3, 8],\n",
       "       [0, 0, 0, ..., 0, 0, 0],\n",
       "       [0, 0, 0, ..., 0, 0, 0],\n",
       "       ...,\n",
       "       [0, 0, 0, ..., 0, 0, 0],\n",
       "       [0, 0, 0, ..., 0, 0, 0],\n",
       "       [0, 0, 0, ..., 0, 0, 0]], dtype=int64)"
      ]
     },
     "execution_count": 15,
     "metadata": {},
     "output_type": "execute_result"
    }
   ],
   "source": [
    "data_dev"
   ]
  },
  {
   "cell_type": "code",
   "execution_count": 16,
   "id": "6263a2ed",
   "metadata": {},
   "outputs": [],
   "source": [
    "Y_dev = data_dev[0] #Gives elements of first row"
   ]
  },
  {
   "cell_type": "code",
   "execution_count": 17,
   "id": "cb5652da",
   "metadata": {},
   "outputs": [],
   "source": [
    "# Y_dev"
   ]
  },
  {
   "cell_type": "code",
   "execution_count": 18,
   "id": "15baf003",
   "metadata": {},
   "outputs": [],
   "source": [
    "X_dev = data_dev[1:n] #Selecting rows from index 1 to n(in this case n=785)"
   ]
  },
  {
   "cell_type": "code",
   "execution_count": 19,
   "id": "4998d85c",
   "metadata": {},
   "outputs": [],
   "source": [
    "temp1 = X_dev.copy()"
   ]
  },
  {
   "cell_type": "code",
   "execution_count": 20,
   "id": "a0e4f834",
   "metadata": {},
   "outputs": [
    {
     "data": {
      "text/plain": [
       "array([[  0,   0,   0, ...,   0, 252,   0],\n",
       "       [  0,   0,   0, ...,   0,   0, 165],\n",
       "       [  0,   0,   0, ...,   0,   0,   0],\n",
       "       ...,\n",
       "       [  0,   0,   0, ...,   0,   0, 232],\n",
       "       [  0,   0,   0, ...,   0,   0,   0],\n",
       "       [  0,   0,   0, ...,   0,   0,   0]], dtype=int64)"
      ]
     },
     "execution_count": 20,
     "metadata": {},
     "output_type": "execute_result"
    }
   ],
   "source": [
    "np.random.shuffle(temp1)\n",
    "temp1"
   ]
  },
  {
   "cell_type": "code",
   "execution_count": null,
   "id": "14857405",
   "metadata": {},
   "outputs": [],
   "source": []
  },
  {
   "cell_type": "code",
   "execution_count": 21,
   "id": "3a1217af",
   "metadata": {},
   "outputs": [],
   "source": [
    "X_dev = X_dev / 255."
   ]
  },
  {
   "cell_type": "code",
   "execution_count": 22,
   "id": "2de58118",
   "metadata": {},
   "outputs": [
    {
     "data": {
      "text/plain": [
       "array([[0., 0., 0., ..., 0., 0., 0.],\n",
       "       [0., 0., 0., ..., 0., 0., 0.],\n",
       "       [0., 0., 0., ..., 0., 0., 0.],\n",
       "       ...,\n",
       "       [0., 0., 0., ..., 0., 0., 0.],\n",
       "       [0., 0., 0., ..., 0., 0., 0.],\n",
       "       [0., 0., 0., ..., 0., 0., 0.]])"
      ]
     },
     "execution_count": 22,
     "metadata": {},
     "output_type": "execute_result"
    }
   ],
   "source": [
    "X_dev"
   ]
  },
  {
   "cell_type": "code",
   "execution_count": 23,
   "id": "de2675f8",
   "metadata": {},
   "outputs": [],
   "source": [
    "temp2 = X_dev.copy()"
   ]
  },
  {
   "cell_type": "code",
   "execution_count": 24,
   "id": "c3e49da7",
   "metadata": {},
   "outputs": [
    {
     "data": {
      "text/plain": [
       "array([[0.        , 0.        , 0.        , ..., 0.        , 0.        ,\n",
       "        0.49803922],\n",
       "       [0.41176471, 0.        , 0.30588235, ..., 0.        , 0.        ,\n",
       "        0.99215686],\n",
       "       [0.        , 0.        , 0.        , ..., 0.        , 0.        ,\n",
       "        0.        ],\n",
       "       ...,\n",
       "       [0.99215686, 0.88235294, 0.98823529, ..., 0.98823529, 0.98823529,\n",
       "        0.10588235],\n",
       "       [0.        , 0.        , 0.        , ..., 0.        , 0.07843137,\n",
       "        0.99215686],\n",
       "       [0.        , 0.        , 0.        , ..., 0.        , 0.        ,\n",
       "        0.        ]])"
      ]
     },
     "execution_count": 24,
     "metadata": {},
     "output_type": "execute_result"
    }
   ],
   "source": [
    "np.random.shuffle(temp2)\n",
    "temp2"
   ]
  },
  {
   "cell_type": "code",
   "execution_count": null,
   "id": "607e06c9",
   "metadata": {},
   "outputs": [],
   "source": []
  },
  {
   "cell_type": "code",
   "execution_count": 25,
   "id": "d9c7d858",
   "metadata": {},
   "outputs": [],
   "source": [
    "data_train = data[1000:m].T"
   ]
  },
  {
   "cell_type": "code",
   "execution_count": 26,
   "id": "19c55e6e",
   "metadata": {},
   "outputs": [
    {
     "data": {
      "text/plain": [
       "(785, 41000)"
      ]
     },
     "execution_count": 26,
     "metadata": {},
     "output_type": "execute_result"
    }
   ],
   "source": [
    "data_train.shape"
   ]
  },
  {
   "cell_type": "code",
   "execution_count": 27,
   "id": "59e5a033",
   "metadata": {},
   "outputs": [
    {
     "data": {
      "text/plain": [
       "array([[8, 3, 4, ..., 1, 6, 2],\n",
       "       [0, 0, 0, ..., 0, 0, 0],\n",
       "       [0, 0, 0, ..., 0, 0, 0],\n",
       "       ...,\n",
       "       [0, 0, 0, ..., 0, 0, 0],\n",
       "       [0, 0, 0, ..., 0, 0, 0],\n",
       "       [0, 0, 0, ..., 0, 0, 0]], dtype=int64)"
      ]
     },
     "execution_count": 27,
     "metadata": {},
     "output_type": "execute_result"
    }
   ],
   "source": [
    "data_train"
   ]
  },
  {
   "cell_type": "code",
   "execution_count": 28,
   "id": "65dcf3e3",
   "metadata": {},
   "outputs": [],
   "source": [
    "Y_train = data_train[0]"
   ]
  },
  {
   "cell_type": "code",
   "execution_count": 29,
   "id": "1a294451",
   "metadata": {},
   "outputs": [
    {
     "data": {
      "text/plain": [
       "(41000,)"
      ]
     },
     "execution_count": 29,
     "metadata": {},
     "output_type": "execute_result"
    }
   ],
   "source": [
    "Y_train.shape"
   ]
  },
  {
   "cell_type": "code",
   "execution_count": 30,
   "id": "677e84ce",
   "metadata": {},
   "outputs": [
    {
     "data": {
      "text/plain": [
       "array([8, 3, 4, ..., 1, 6, 2], dtype=int64)"
      ]
     },
     "execution_count": 30,
     "metadata": {},
     "output_type": "execute_result"
    }
   ],
   "source": [
    "Y_train"
   ]
  },
  {
   "cell_type": "code",
   "execution_count": 31,
   "id": "de44a1ef",
   "metadata": {},
   "outputs": [],
   "source": [
    "X_train = data_train[1:n]"
   ]
  },
  {
   "cell_type": "code",
   "execution_count": 32,
   "id": "1fb8f2ca",
   "metadata": {},
   "outputs": [
    {
     "data": {
      "text/plain": [
       "(784, 41000)"
      ]
     },
     "execution_count": 32,
     "metadata": {},
     "output_type": "execute_result"
    }
   ],
   "source": [
    "X_train.shape"
   ]
  },
  {
   "cell_type": "code",
   "execution_count": 33,
   "id": "ac064dd9",
   "metadata": {},
   "outputs": [
    {
     "data": {
      "text/plain": [
       "array([[0, 0, 0, ..., 0, 0, 0],\n",
       "       [0, 0, 0, ..., 0, 0, 0],\n",
       "       [0, 0, 0, ..., 0, 0, 0],\n",
       "       ...,\n",
       "       [0, 0, 0, ..., 0, 0, 0],\n",
       "       [0, 0, 0, ..., 0, 0, 0],\n",
       "       [0, 0, 0, ..., 0, 0, 0]], dtype=int64)"
      ]
     },
     "execution_count": 33,
     "metadata": {},
     "output_type": "execute_result"
    }
   ],
   "source": [
    "X_train"
   ]
  },
  {
   "cell_type": "code",
   "execution_count": null,
   "id": "42b8174b",
   "metadata": {},
   "outputs": [],
   "source": []
  },
  {
   "cell_type": "code",
   "execution_count": 34,
   "id": "7c6f6b65",
   "metadata": {},
   "outputs": [],
   "source": [
    "temp3 = X_train.copy()"
   ]
  },
  {
   "cell_type": "code",
   "execution_count": 35,
   "id": "b927ffc9",
   "metadata": {},
   "outputs": [
    {
     "data": {
      "text/plain": [
       "array([[  0,   0,   0, ...,   0,   0, 255],\n",
       "       [255,   0,   0, ..., 191, 254,   0],\n",
       "       [  0,   0,   0, ...,   0,   0, 255],\n",
       "       ...,\n",
       "       [255, 146, 173, ...,   0,   0,   0],\n",
       "       [  0,   0,   0, ...,   0,   0,   0],\n",
       "       [  0,   7,   0, ...,   0,   0,   0]], dtype=int64)"
      ]
     },
     "execution_count": 35,
     "metadata": {},
     "output_type": "execute_result"
    }
   ],
   "source": [
    "np.random.shuffle(temp3)\n",
    "temp3"
   ]
  },
  {
   "cell_type": "code",
   "execution_count": 36,
   "id": "f51ba197",
   "metadata": {},
   "outputs": [],
   "source": [
    "X_train = X_train / 255."
   ]
  },
  {
   "cell_type": "code",
   "execution_count": 37,
   "id": "e9e7df94",
   "metadata": {},
   "outputs": [
    {
     "data": {
      "text/plain": [
       "array([[0., 0., 0., ..., 0., 0., 0.],\n",
       "       [0., 0., 0., ..., 0., 0., 0.],\n",
       "       [0., 0., 0., ..., 0., 0., 0.],\n",
       "       ...,\n",
       "       [0., 0., 0., ..., 0., 0., 0.],\n",
       "       [0., 0., 0., ..., 0., 0., 0.],\n",
       "       [0., 0., 0., ..., 0., 0., 0.]])"
      ]
     },
     "execution_count": 37,
     "metadata": {},
     "output_type": "execute_result"
    }
   ],
   "source": [
    "X_train"
   ]
  },
  {
   "cell_type": "code",
   "execution_count": 38,
   "id": "7346c7a6",
   "metadata": {},
   "outputs": [],
   "source": [
    "temp4 = X_train.copy()"
   ]
  },
  {
   "cell_type": "code",
   "execution_count": 39,
   "id": "e52c31ba",
   "metadata": {},
   "outputs": [
    {
     "data": {
      "text/plain": [
       "array([[0.25098039, 0.99215686, 0.89019608, ..., 0.50196078, 0.99607843,\n",
       "        0.        ],\n",
       "       [0.        , 0.99607843, 0.        , ..., 0.        , 0.        ,\n",
       "        1.        ],\n",
       "       [0.        , 0.        , 0.        , ..., 0.        , 0.        ,\n",
       "        0.74901961],\n",
       "       ...,\n",
       "       [0.        , 0.        , 0.        , ..., 0.        , 0.        ,\n",
       "        0.        ],\n",
       "       [1.        , 0.99215686, 0.        , ..., 1.        , 0.98823529,\n",
       "        0.        ],\n",
       "       [0.        , 0.        , 0.        , ..., 0.        , 0.        ,\n",
       "        0.        ]])"
      ]
     },
     "execution_count": 39,
     "metadata": {},
     "output_type": "execute_result"
    }
   ],
   "source": [
    "np.random.shuffle(temp4)\n",
    "temp4"
   ]
  },
  {
   "cell_type": "code",
   "execution_count": null,
   "id": "4eef98e2",
   "metadata": {},
   "outputs": [],
   "source": []
  },
  {
   "cell_type": "code",
   "execution_count": 40,
   "id": "2245c438",
   "metadata": {},
   "outputs": [],
   "source": [
    "W1 = np.random.rand(10,784)-0.5\n",
    "b1 = np.random.rand(10,1)-0.5\n",
    "W2 = np.random.rand(10,10)-0.5\n",
    "b2 = np.random.rand(10,1)-0.5"
   ]
  },
  {
   "cell_type": "code",
   "execution_count": 41,
   "id": "be9fab56",
   "metadata": {},
   "outputs": [],
   "source": [
    "Z1 = W1.dot(X_train) + b1"
   ]
  },
  {
   "cell_type": "code",
   "execution_count": 42,
   "id": "3f58d58c",
   "metadata": {},
   "outputs": [
    {
     "data": {
      "text/plain": [
       "(10, 41000)"
      ]
     },
     "execution_count": 42,
     "metadata": {},
     "output_type": "execute_result"
    }
   ],
   "source": [
    "Z1.shape"
   ]
  },
  {
   "cell_type": "code",
   "execution_count": 43,
   "id": "64261b73",
   "metadata": {},
   "outputs": [
    {
     "data": {
      "text/plain": [
       "array([[-0.57168073,  0.28126286,  1.15147951, ...,  1.02993891,\n",
       "         2.09645538, -0.43503777],\n",
       "       [-5.55128981, -0.85336664,  1.57550897, ..., -2.62885254,\n",
       "        -4.02725315, -5.30385752],\n",
       "       [ 5.79271675,  1.74539381, -2.32143577, ...,  4.40393501,\n",
       "         3.58525753,  7.48975131],\n",
       "       ...,\n",
       "       [ 2.19835974, -0.9899946 , -0.25727711, ...,  2.57484634,\n",
       "         2.43633899,  0.79299092],\n",
       "       [ 0.21923735,  3.85806637,  5.54103785, ...,  2.55592552,\n",
       "         4.58272795,  3.03146307],\n",
       "       [-4.92285832, -1.95597847, -2.25486777, ..., -2.20751876,\n",
       "        -5.97962113, -3.92748164]])"
      ]
     },
     "execution_count": 43,
     "metadata": {},
     "output_type": "execute_result"
    }
   ],
   "source": [
    "Z1"
   ]
  },
  {
   "cell_type": "code",
   "execution_count": null,
   "id": "cbabbc9a",
   "metadata": {},
   "outputs": [],
   "source": []
  },
  {
   "cell_type": "code",
   "execution_count": 73,
   "id": "eb4ef754",
   "metadata": {},
   "outputs": [],
   "source": [
    "A1 = np.maximum(0,Z1) #ReLU(Rectified Linear Unit) function"
   ]
  },
  {
   "cell_type": "code",
   "execution_count": 74,
   "id": "79bb5b24",
   "metadata": {},
   "outputs": [
    {
     "data": {
      "text/plain": [
       "array([[0.        , 0.28126286, 1.15147951, ..., 1.02993891, 2.09645538,\n",
       "        0.        ],\n",
       "       [0.        , 0.        , 1.57550897, ..., 0.        , 0.        ,\n",
       "        0.        ],\n",
       "       [5.79271675, 1.74539381, 0.        , ..., 4.40393501, 3.58525753,\n",
       "        7.48975131],\n",
       "       ...,\n",
       "       [2.19835974, 0.        , 0.        , ..., 2.57484634, 2.43633899,\n",
       "        0.79299092],\n",
       "       [0.21923735, 3.85806637, 5.54103785, ..., 2.55592552, 4.58272795,\n",
       "        3.03146307],\n",
       "       [0.        , 0.        , 0.        , ..., 0.        , 0.        ,\n",
       "        0.        ]])"
      ]
     },
     "execution_count": 74,
     "metadata": {},
     "output_type": "execute_result"
    }
   ],
   "source": [
    "A1"
   ]
  },
  {
   "cell_type": "code",
   "execution_count": null,
   "id": "9d8d9acc",
   "metadata": {},
   "outputs": [],
   "source": []
  },
  {
   "cell_type": "code",
   "execution_count": 75,
   "id": "d6552790",
   "metadata": {},
   "outputs": [],
   "source": [
    "Z2 = W2.dot(A1)+b2"
   ]
  },
  {
   "cell_type": "code",
   "execution_count": 81,
   "id": "9a39e89b",
   "metadata": {},
   "outputs": [
    {
     "data": {
      "text/plain": [
       "(10, 41000)"
      ]
     },
     "execution_count": 81,
     "metadata": {},
     "output_type": "execute_result"
    }
   ],
   "source": [
    "Z2.shape"
   ]
  },
  {
   "cell_type": "code",
   "execution_count": 82,
   "id": "5e135faa",
   "metadata": {},
   "outputs": [
    {
     "data": {
      "text/plain": [
       "array([[-0.27092788,  1.42482414,  0.8258241 , ..., -0.56214218,\n",
       "        -0.89650071,  0.68774546],\n",
       "       [-2.82762318,  0.64326602,  2.2239921 , ..., -1.9183386 ,\n",
       "        -0.5363477 , -1.09000764],\n",
       "       [-1.93668824, -3.52039259, -3.71677955, ..., -3.48300844,\n",
       "        -3.0471359 , -0.38817085],\n",
       "       ...,\n",
       "       [-0.00434734,  0.14951573,  1.77406203, ...,  0.36582865,\n",
       "         0.40365813, -2.59900968],\n",
       "       [ 2.84786427,  1.19677087, -0.40594459, ...,  1.93799113,\n",
       "         0.51835759,  2.28817859],\n",
       "       [-2.20609008,  0.35896044,  0.64094307, ..., -1.43686143,\n",
       "        -0.79093414, -0.84136815]])"
      ]
     },
     "execution_count": 82,
     "metadata": {},
     "output_type": "execute_result"
    }
   ],
   "source": [
    "Z2"
   ]
  },
  {
   "cell_type": "code",
   "execution_count": 83,
   "id": "c0a6bd90",
   "metadata": {},
   "outputs": [],
   "source": [
    "A2 = np.exp(Z2)/np.sum(np.exp(Z2)) #Softmax function"
   ]
  },
  {
   "cell_type": "code",
   "execution_count": 84,
   "id": "7ca702ae",
   "metadata": {},
   "outputs": [
    {
     "data": {
      "text/plain": [
       "(10, 41000)"
      ]
     },
     "execution_count": 84,
     "metadata": {},
     "output_type": "execute_result"
    }
   ],
   "source": [
    "A2.shape"
   ]
  },
  {
   "cell_type": "code",
   "execution_count": 85,
   "id": "46d081d7",
   "metadata": {},
   "outputs": [
    {
     "data": {
      "text/plain": [
       "array([[5.40525197e-07, 2.94626421e-06, 1.61856176e-06, ...,\n",
       "        4.03964483e-07, 2.89156604e-07, 1.40981617e-06],\n",
       "       [4.19234761e-08, 1.34848249e-06, 6.55157812e-06, ...,\n",
       "        1.04076951e-07, 4.14520088e-07, 2.38283584e-07],\n",
       "       [1.02184591e-07, 2.09696583e-08, 1.72306468e-08, ...,\n",
       "        2.17684287e-08, 3.36607759e-08, 4.80726397e-07],\n",
       "       ...,\n",
       "       [7.05651719e-07, 8.23023589e-07, 4.17776279e-06, ...,\n",
       "        1.02177622e-06, 1.06116991e-06, 5.26917797e-08],\n",
       "       [1.22261626e-05, 2.34546748e-06, 4.72257574e-07, ...,\n",
       "        4.92195095e-06, 1.19014060e-06, 6.98589033e-06],\n",
       "       [7.80522952e-08, 1.01478250e-06, 1.34535366e-06, ...,\n",
       "        1.68444734e-07, 3.21351326e-07, 3.05546197e-07]])"
      ]
     },
     "execution_count": 85,
     "metadata": {},
     "output_type": "execute_result"
    }
   ],
   "source": [
    "A2"
   ]
  },
  {
   "cell_type": "code",
   "execution_count": null,
   "id": "40976de8",
   "metadata": {},
   "outputs": [],
   "source": []
  },
  {
   "cell_type": "code",
   "execution_count": null,
   "id": "84857075",
   "metadata": {},
   "outputs": [],
   "source": []
  },
  {
   "cell_type": "code",
   "execution_count": null,
   "id": "1ea9dc9d",
   "metadata": {},
   "outputs": [],
   "source": []
  },
  {
   "cell_type": "code",
   "execution_count": null,
   "id": "524ba54e",
   "metadata": {},
   "outputs": [],
   "source": []
  },
  {
   "cell_type": "code",
   "execution_count": null,
   "id": "addb5139",
   "metadata": {},
   "outputs": [],
   "source": []
  },
  {
   "cell_type": "code",
   "execution_count": null,
   "id": "4f99abd8",
   "metadata": {},
   "outputs": [],
   "source": []
  },
  {
   "cell_type": "code",
   "execution_count": null,
   "id": "6e126f17",
   "metadata": {},
   "outputs": [],
   "source": []
  },
  {
   "cell_type": "code",
   "execution_count": null,
   "id": "2d77020c",
   "metadata": {},
   "outputs": [],
   "source": []
  },
  {
   "cell_type": "code",
   "execution_count": null,
   "id": "26f19e2e",
   "metadata": {},
   "outputs": [],
   "source": []
  },
  {
   "cell_type": "code",
   "execution_count": null,
   "id": "32cd1a1a",
   "metadata": {},
   "outputs": [],
   "source": []
  },
  {
   "cell_type": "code",
   "execution_count": null,
   "id": "460900e4",
   "metadata": {},
   "outputs": [],
   "source": []
  },
  {
   "cell_type": "code",
   "execution_count": null,
   "id": "8320af70",
   "metadata": {},
   "outputs": [],
   "source": []
  },
  {
   "cell_type": "code",
   "execution_count": null,
   "id": "0253d988",
   "metadata": {},
   "outputs": [],
   "source": []
  },
  {
   "cell_type": "code",
   "execution_count": null,
   "id": "7d7b53f1",
   "metadata": {},
   "outputs": [],
   "source": []
  },
  {
   "cell_type": "code",
   "execution_count": null,
   "id": "ff2da4b8",
   "metadata": {},
   "outputs": [],
   "source": []
  },
  {
   "cell_type": "code",
   "execution_count": null,
   "id": "d662a19c",
   "metadata": {},
   "outputs": [],
   "source": []
  },
  {
   "cell_type": "code",
   "execution_count": null,
   "id": "83606f42",
   "metadata": {},
   "outputs": [],
   "source": []
  },
  {
   "cell_type": "code",
   "execution_count": null,
   "id": "e4f47d0c",
   "metadata": {},
   "outputs": [],
   "source": []
  },
  {
   "cell_type": "code",
   "execution_count": null,
   "id": "59e0e1ce",
   "metadata": {},
   "outputs": [],
   "source": []
  },
  {
   "cell_type": "code",
   "execution_count": 47,
   "id": "c4f9c69f",
   "metadata": {},
   "outputs": [],
   "source": [
    "tW1 = np.random.rand(10,5)-0.5"
   ]
  },
  {
   "cell_type": "code",
   "execution_count": 48,
   "id": "eddfc6df",
   "metadata": {},
   "outputs": [
    {
     "data": {
      "text/plain": [
       "array([[-0.10814188, -0.32974717,  0.23797142, -0.29799593, -0.23169562],\n",
       "       [-0.46517743, -0.07399646, -0.34137567, -0.09901833, -0.23884488],\n",
       "       [ 0.01105888,  0.32257636, -0.34757327, -0.25518483,  0.08369573],\n",
       "       [ 0.13012261, -0.21919681, -0.22560704, -0.41983865, -0.42598547],\n",
       "       [-0.45563407,  0.09856099,  0.4370814 , -0.19088634, -0.40502657],\n",
       "       [-0.00912134, -0.06613658,  0.08579412,  0.28951347,  0.04455754],\n",
       "       [ 0.36690775,  0.40145942,  0.44728319,  0.37418913,  0.32575491],\n",
       "       [-0.17109784, -0.31501124,  0.05147205, -0.28508573, -0.35767515],\n",
       "       [ 0.49283854,  0.18863232, -0.09677177,  0.22376808, -0.40011192],\n",
       "       [ 0.2711047 ,  0.12050657, -0.11658606, -0.34920746, -0.01839771]])"
      ]
     },
     "execution_count": 48,
     "metadata": {},
     "output_type": "execute_result"
    }
   ],
   "source": [
    "tW1"
   ]
  },
  {
   "cell_type": "code",
   "execution_count": 49,
   "id": "14464f0d",
   "metadata": {},
   "outputs": [],
   "source": [
    "tb1 = np.random.rand(10,1)-0.5"
   ]
  },
  {
   "cell_type": "code",
   "execution_count": 50,
   "id": "7e1882cb",
   "metadata": {},
   "outputs": [
    {
     "data": {
      "text/plain": [
       "array([[ 0.36132917],\n",
       "       [ 0.49812169],\n",
       "       [-0.16123366],\n",
       "       [ 0.01736299],\n",
       "       [ 0.32607111],\n",
       "       [ 0.36892143],\n",
       "       [-0.10001044],\n",
       "       [ 0.4688533 ],\n",
       "       [-0.28107695],\n",
       "       [-0.08367862]])"
      ]
     },
     "execution_count": 50,
     "metadata": {},
     "output_type": "execute_result"
    }
   ],
   "source": [
    "tb1"
   ]
  },
  {
   "cell_type": "code",
   "execution_count": null,
   "id": "aa5dfd80",
   "metadata": {},
   "outputs": [],
   "source": []
  },
  {
   "cell_type": "code",
   "execution_count": 51,
   "id": "6406c75c",
   "metadata": {},
   "outputs": [],
   "source": [
    "t2W1 = np.random.randn(10,5)\n",
    "t1W1 = np.random.rand(10,5)"
   ]
  },
  {
   "cell_type": "code",
   "execution_count": 52,
   "id": "1da6b0d6",
   "metadata": {},
   "outputs": [
    {
     "data": {
      "text/plain": [
       "array([[-1.44528372,  1.18203454,  1.47329088,  0.68306987,  0.13160474],\n",
       "       [-0.11816873, -1.52484262,  0.10961619, -0.37974809, -0.0558881 ],\n",
       "       [-0.17367314,  1.32824504,  1.24226097,  0.98331093, -0.32367812],\n",
       "       [-0.32523546,  2.0802961 , -0.95169916,  0.04215938,  0.34410164],\n",
       "       [ 0.25329651,  0.925169  , -0.06538901,  0.42034138,  1.69588631],\n",
       "       [ 0.92913526,  0.15654536,  1.07105544,  1.06189049,  1.77731912],\n",
       "       [-2.0515768 ,  1.07325812, -0.50153115, -0.34382672,  1.91874993],\n",
       "       [-0.3795929 ,  1.05379886,  1.54712085, -0.34380382,  0.0934011 ],\n",
       "       [-0.28077215,  0.29293051, -0.06237954, -0.34381897, -0.06001203],\n",
       "       [-0.8600327 , -1.55059703,  0.10696742,  0.71004981, -0.51199456]])"
      ]
     },
     "execution_count": 52,
     "metadata": {},
     "output_type": "execute_result"
    }
   ],
   "source": [
    "t2W1"
   ]
  },
  {
   "cell_type": "code",
   "execution_count": 53,
   "id": "4495914c",
   "metadata": {},
   "outputs": [
    {
     "data": {
      "text/plain": [
       "array([[0.28781646, 0.89773278, 0.14062571, 0.40694118, 0.32624961],\n",
       "       [0.49700084, 0.28879786, 0.5141202 , 0.12534974, 0.05525485],\n",
       "       [0.51540125, 0.66183303, 0.34685617, 0.66549322, 0.43135533],\n",
       "       [0.47723694, 0.77959062, 0.08176735, 0.59723818, 0.12918266],\n",
       "       [0.22696005, 0.15557105, 0.05300297, 0.10308406, 0.92977518],\n",
       "       [0.96687712, 0.32811991, 0.33520699, 0.58627176, 0.97443736],\n",
       "       [0.82750115, 0.41578831, 0.84920365, 0.69042598, 0.52396356],\n",
       "       [0.84460085, 0.9987005 , 0.64113729, 0.00343112, 0.52314221],\n",
       "       [0.41134218, 0.12818801, 0.44118083, 0.17259705, 0.4310859 ],\n",
       "       [0.67906441, 0.31904519, 0.07140469, 0.34926323, 0.08126415]])"
      ]
     },
     "execution_count": 53,
     "metadata": {},
     "output_type": "execute_result"
    }
   ],
   "source": [
    "t1W1"
   ]
  },
  {
   "cell_type": "code",
   "execution_count": null,
   "id": "8b35655a",
   "metadata": {},
   "outputs": [],
   "source": []
  },
  {
   "cell_type": "code",
   "execution_count": 54,
   "id": "33dac935",
   "metadata": {},
   "outputs": [
    {
     "data": {
      "text/plain": [
       "1.1138124398439437"
      ]
     },
     "execution_count": 54,
     "metadata": {},
     "output_type": "execute_result"
    }
   ],
   "source": [
    "np.random.randn()"
   ]
  },
  {
   "cell_type": "code",
   "execution_count": 55,
   "id": "09652682",
   "metadata": {},
   "outputs": [
    {
     "data": {
      "text/plain": [
       "0.6475324219867721"
      ]
     },
     "execution_count": 55,
     "metadata": {},
     "output_type": "execute_result"
    }
   ],
   "source": [
    "np.random.rand()"
   ]
  },
  {
   "cell_type": "code",
   "execution_count": null,
   "id": "6143f60d",
   "metadata": {},
   "outputs": [],
   "source": []
  },
  {
   "cell_type": "code",
   "execution_count": null,
   "id": "a3680f83",
   "metadata": {},
   "outputs": [],
   "source": []
  },
  {
   "cell_type": "code",
   "execution_count": null,
   "id": "033c8a04",
   "metadata": {},
   "outputs": [],
   "source": []
  },
  {
   "cell_type": "code",
   "execution_count": null,
   "id": "2566eb04",
   "metadata": {},
   "outputs": [],
   "source": []
  },
  {
   "cell_type": "code",
   "execution_count": null,
   "id": "b5b919eb",
   "metadata": {},
   "outputs": [],
   "source": []
  },
  {
   "cell_type": "code",
   "execution_count": null,
   "id": "870c022c",
   "metadata": {},
   "outputs": [],
   "source": []
  },
  {
   "cell_type": "code",
   "execution_count": null,
   "id": "5601aafd",
   "metadata": {},
   "outputs": [],
   "source": []
  },
  {
   "cell_type": "code",
   "execution_count": null,
   "id": "af217f51",
   "metadata": {},
   "outputs": [],
   "source": []
  },
  {
   "cell_type": "code",
   "execution_count": null,
   "id": "a6fc6c64",
   "metadata": {},
   "outputs": [],
   "source": []
  },
  {
   "cell_type": "code",
   "execution_count": null,
   "id": "42d7ca6f",
   "metadata": {},
   "outputs": [],
   "source": []
  },
  {
   "cell_type": "code",
   "execution_count": null,
   "id": "ed5c2e7f",
   "metadata": {},
   "outputs": [],
   "source": []
  },
  {
   "cell_type": "code",
   "execution_count": 56,
   "id": "77d5866a",
   "metadata": {},
   "outputs": [],
   "source": [
    "tdata = (np.linspace(0,1,21))"
   ]
  },
  {
   "cell_type": "code",
   "execution_count": 57,
   "id": "9c504fe4",
   "metadata": {},
   "outputs": [],
   "source": [
    "newdata = tdata.reshape(7,3)"
   ]
  },
  {
   "cell_type": "code",
   "execution_count": 58,
   "id": "f1215d9a",
   "metadata": {},
   "outputs": [
    {
     "data": {
      "text/plain": [
       "array([[0.  , 0.05, 0.1 ],\n",
       "       [0.15, 0.2 , 0.25],\n",
       "       [0.3 , 0.35, 0.4 ],\n",
       "       [0.45, 0.5 , 0.55],\n",
       "       [0.6 , 0.65, 0.7 ],\n",
       "       [0.75, 0.8 , 0.85],\n",
       "       [0.9 , 0.95, 1.  ]])"
      ]
     },
     "execution_count": 58,
     "metadata": {},
     "output_type": "execute_result"
    }
   ],
   "source": [
    "newdata"
   ]
  },
  {
   "cell_type": "code",
   "execution_count": 59,
   "id": "2ea0e223",
   "metadata": {},
   "outputs": [
    {
     "data": {
      "text/plain": [
       "array([[0.        , 0.00019608, 0.00039216],\n",
       "       [0.00058824, 0.00078431, 0.00098039],\n",
       "       [0.00117647, 0.00137255, 0.00156863],\n",
       "       [0.00176471, 0.00196078, 0.00215686],\n",
       "       [0.00235294, 0.00254902, 0.0027451 ],\n",
       "       [0.00294118, 0.00313725, 0.00333333],\n",
       "       [0.00352941, 0.00372549, 0.00392157]])"
      ]
     },
     "execution_count": 59,
     "metadata": {},
     "output_type": "execute_result"
    }
   ],
   "source": [
    "newdata/255."
   ]
  },
  {
   "cell_type": "code",
   "execution_count": null,
   "id": "bddc20f8",
   "metadata": {},
   "outputs": [],
   "source": []
  },
  {
   "cell_type": "code",
   "execution_count": 60,
   "id": "e4ab40a6",
   "metadata": {},
   "outputs": [],
   "source": [
    "t3W2 = np.random.rand(10, 10) - 0.5"
   ]
  },
  {
   "cell_type": "code",
   "execution_count": 61,
   "id": "71f87628",
   "metadata": {},
   "outputs": [],
   "source": [
    "t3W1 = np.random.rand(10, 784) - 0.5"
   ]
  },
  {
   "cell_type": "code",
   "execution_count": null,
   "id": "d3545742",
   "metadata": {},
   "outputs": [],
   "source": []
  },
  {
   "cell_type": "code",
   "execution_count": 62,
   "id": "0a9bbaba",
   "metadata": {},
   "outputs": [],
   "source": [
    "a = np.array([[1,2],[3,4],[5,8]]) \n",
    "b = np.array([[11,12,10],[13,14,15]])"
   ]
  },
  {
   "cell_type": "code",
   "execution_count": 63,
   "id": "aa09f788",
   "metadata": {},
   "outputs": [
    {
     "data": {
      "text/plain": [
       "array([[1, 2],\n",
       "       [3, 4],\n",
       "       [5, 8]])"
      ]
     },
     "execution_count": 63,
     "metadata": {},
     "output_type": "execute_result"
    }
   ],
   "source": [
    "a"
   ]
  },
  {
   "cell_type": "code",
   "execution_count": 64,
   "id": "df85ec35",
   "metadata": {},
   "outputs": [
    {
     "data": {
      "text/plain": [
       "(3, 2)"
      ]
     },
     "execution_count": 64,
     "metadata": {},
     "output_type": "execute_result"
    }
   ],
   "source": [
    "a.shape"
   ]
  },
  {
   "cell_type": "code",
   "execution_count": 65,
   "id": "2e9d1419",
   "metadata": {},
   "outputs": [
    {
     "data": {
      "text/plain": [
       "array([[11, 12, 10],\n",
       "       [13, 14, 15]])"
      ]
     },
     "execution_count": 65,
     "metadata": {},
     "output_type": "execute_result"
    }
   ],
   "source": [
    "b"
   ]
  },
  {
   "cell_type": "code",
   "execution_count": 66,
   "id": "6cfbfa40",
   "metadata": {},
   "outputs": [
    {
     "data": {
      "text/plain": [
       "(2, 3)"
      ]
     },
     "execution_count": 66,
     "metadata": {},
     "output_type": "execute_result"
    }
   ],
   "source": [
    "b.shape"
   ]
  },
  {
   "cell_type": "code",
   "execution_count": 67,
   "id": "4d147485",
   "metadata": {},
   "outputs": [],
   "source": [
    "c = np.dot(a,b)"
   ]
  },
  {
   "cell_type": "code",
   "execution_count": 68,
   "id": "66d20eb1",
   "metadata": {},
   "outputs": [],
   "source": [
    "d = a.dot(b)"
   ]
  },
  {
   "cell_type": "code",
   "execution_count": 69,
   "id": "2fe7c85d",
   "metadata": {},
   "outputs": [
    {
     "data": {
      "text/plain": [
       "array([[ 37,  40,  40],\n",
       "       [ 85,  92,  90],\n",
       "       [159, 172, 170]])"
      ]
     },
     "execution_count": 69,
     "metadata": {},
     "output_type": "execute_result"
    }
   ],
   "source": [
    "c"
   ]
  },
  {
   "cell_type": "code",
   "execution_count": 70,
   "id": "216b70f6",
   "metadata": {},
   "outputs": [
    {
     "data": {
      "text/plain": [
       "array([[ 37,  40,  40],\n",
       "       [ 85,  92,  90],\n",
       "       [159, 172, 170]])"
      ]
     },
     "execution_count": 70,
     "metadata": {},
     "output_type": "execute_result"
    }
   ],
   "source": [
    "d"
   ]
  },
  {
   "cell_type": "code",
   "execution_count": 71,
   "id": "dd189edf",
   "metadata": {},
   "outputs": [
    {
     "data": {
      "text/plain": [
       "(3, 3)"
      ]
     },
     "execution_count": 71,
     "metadata": {},
     "output_type": "execute_result"
    }
   ],
   "source": [
    "c.shape"
   ]
  },
  {
   "cell_type": "code",
   "execution_count": 72,
   "id": "d2b48000",
   "metadata": {},
   "outputs": [
    {
     "data": {
      "text/plain": [
       "(3, 3)"
      ]
     },
     "execution_count": 72,
     "metadata": {},
     "output_type": "execute_result"
    }
   ],
   "source": [
    "d.shape"
   ]
  },
  {
   "cell_type": "code",
   "execution_count": null,
   "id": "73f1a988",
   "metadata": {},
   "outputs": [],
   "source": []
  },
  {
   "cell_type": "code",
   "execution_count": null,
   "id": "d3d147c9",
   "metadata": {},
   "outputs": [],
   "source": []
  },
  {
   "cell_type": "code",
   "execution_count": null,
   "id": "cf731bf1",
   "metadata": {},
   "outputs": [],
   "source": []
  },
  {
   "cell_type": "code",
   "execution_count": null,
   "id": "4f9b4cf1",
   "metadata": {},
   "outputs": [],
   "source": []
  },
  {
   "cell_type": "code",
   "execution_count": null,
   "id": "c69e56f4",
   "metadata": {},
   "outputs": [],
   "source": []
  },
  {
   "cell_type": "code",
   "execution_count": null,
   "id": "de863d20",
   "metadata": {},
   "outputs": [],
   "source": []
  }
 ],
 "metadata": {
  "kernelspec": {
   "display_name": "Python 3",
   "language": "python",
   "name": "python3"
  },
  "language_info": {
   "codemirror_mode": {
    "name": "ipython",
    "version": 3
   },
   "file_extension": ".py",
   "mimetype": "text/x-python",
   "name": "python",
   "nbconvert_exporter": "python",
   "pygments_lexer": "ipython3",
   "version": "3.8.8"
  }
 },
 "nbformat": 4,
 "nbformat_minor": 5
}
